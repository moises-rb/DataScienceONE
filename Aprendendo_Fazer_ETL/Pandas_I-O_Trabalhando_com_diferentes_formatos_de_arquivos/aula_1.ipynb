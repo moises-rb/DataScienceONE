{
 "cells": [
  {
   "cell_type": "code",
   "execution_count": 12,
   "id": "bc5c396f",
   "metadata": {},
   "outputs": [],
   "source": [
    "import pandas as pd"
   ]
  },
  {
   "cell_type": "code",
   "execution_count": 13,
   "id": "83fb8b2d",
   "metadata": {},
   "outputs": [],
   "source": [
    "url = 'https://raw.githubusercontent.com/moises-rb/DataScienceOne/refs/heads/main/Aprendendo_Fazer_ETL/Pandas_I-O_Trabalhando_com_diferentes_formatos_de_arquivos/base_dados/superstore_data.csv'"
   ]
  },
  {
   "cell_type": "code",
   "execution_count": 14,
   "id": "f908dc30",
   "metadata": {},
   "outputs": [],
   "source": [
    "dados = pd.read_csv(url)"
   ]
  },
  {
   "cell_type": "code",
   "execution_count": 15,
   "id": "b6370a01",
   "metadata": {},
   "outputs": [
    {
     "data": {
      "application/vnd.microsoft.datawrangler.viewer.v0+json": {
       "columns": [
        {
         "name": "index",
         "rawType": "int64",
         "type": "integer"
        },
        {
         "name": "Id",
         "rawType": "int64",
         "type": "integer"
        },
        {
         "name": "Year_Birth",
         "rawType": "int64",
         "type": "integer"
        },
        {
         "name": "Education",
         "rawType": "object",
         "type": "string"
        },
        {
         "name": "Marital_Status",
         "rawType": "object",
         "type": "string"
        },
        {
         "name": "Income",
         "rawType": "float64",
         "type": "float"
        },
        {
         "name": "Kidhome",
         "rawType": "int64",
         "type": "integer"
        },
        {
         "name": "Teenhome",
         "rawType": "int64",
         "type": "integer"
        },
        {
         "name": "Dt_Customer",
         "rawType": "object",
         "type": "string"
        },
        {
         "name": "Recency",
         "rawType": "int64",
         "type": "integer"
        },
        {
         "name": "MntWines",
         "rawType": "int64",
         "type": "integer"
        },
        {
         "name": "MntFruits",
         "rawType": "int64",
         "type": "integer"
        },
        {
         "name": "MntMeatProducts",
         "rawType": "int64",
         "type": "integer"
        },
        {
         "name": "MntFishProducts",
         "rawType": "int64",
         "type": "integer"
        },
        {
         "name": "MntSweetProducts",
         "rawType": "int64",
         "type": "integer"
        },
        {
         "name": "MntGoldProds",
         "rawType": "int64",
         "type": "integer"
        },
        {
         "name": "NumDealsPurchases",
         "rawType": "int64",
         "type": "integer"
        },
        {
         "name": "NumWebPurchases",
         "rawType": "int64",
         "type": "integer"
        },
        {
         "name": "NumCatalogPurchases",
         "rawType": "int64",
         "type": "integer"
        },
        {
         "name": "NumStorePurchases",
         "rawType": "int64",
         "type": "integer"
        },
        {
         "name": "NumWebVisitsMonth",
         "rawType": "int64",
         "type": "integer"
        },
        {
         "name": "Response",
         "rawType": "int64",
         "type": "integer"
        },
        {
         "name": "Complain",
         "rawType": "int64",
         "type": "integer"
        }
       ],
       "conversionMethod": "pd.DataFrame",
       "ref": "948261f9-cd84-495c-a1ed-81e5085d36e0",
       "rows": [
        [
         "0",
         "1826",
         "1970",
         "Graduation",
         "Divorced",
         "84835.0",
         "0",
         "0",
         "6/16/2014",
         "0",
         "189",
         "104",
         "379",
         "111",
         "189",
         "218",
         "1",
         "4",
         "4",
         "6",
         "1",
         "1",
         "0"
        ],
        [
         "1",
         "1",
         "1961",
         "Graduation",
         "Single",
         "57091.0",
         "0",
         "0",
         "6/15/2014",
         "0",
         "464",
         "5",
         "64",
         "7",
         "0",
         "37",
         "1",
         "7",
         "3",
         "7",
         "5",
         "1",
         "0"
        ],
        [
         "2",
         "10476",
         "1958",
         "Graduation",
         "Married",
         "67267.0",
         "0",
         "1",
         "5/13/2014",
         "0",
         "134",
         "11",
         "59",
         "15",
         "2",
         "30",
         "1",
         "3",
         "2",
         "5",
         "2",
         "0",
         "0"
        ],
        [
         "3",
         "1386",
         "1967",
         "Graduation",
         "Together",
         "32474.0",
         "1",
         "1",
         "11/5/2014",
         "0",
         "10",
         "0",
         "1",
         "0",
         "0",
         "0",
         "1",
         "1",
         "0",
         "2",
         "7",
         "0",
         "0"
        ],
        [
         "4",
         "5371",
         "1989",
         "Graduation",
         "Single",
         "21474.0",
         "1",
         "0",
         "8/4/2014",
         "0",
         "6",
         "16",
         "24",
         "11",
         "0",
         "34",
         "2",
         "3",
         "1",
         "2",
         "7",
         "1",
         "0"
        ]
       ],
       "shape": {
        "columns": 22,
        "rows": 5
       }
      },
      "text/html": [
       "<div>\n",
       "<style scoped>\n",
       "    .dataframe tbody tr th:only-of-type {\n",
       "        vertical-align: middle;\n",
       "    }\n",
       "\n",
       "    .dataframe tbody tr th {\n",
       "        vertical-align: top;\n",
       "    }\n",
       "\n",
       "    .dataframe thead th {\n",
       "        text-align: right;\n",
       "    }\n",
       "</style>\n",
       "<table border=\"1\" class=\"dataframe\">\n",
       "  <thead>\n",
       "    <tr style=\"text-align: right;\">\n",
       "      <th></th>\n",
       "      <th>Id</th>\n",
       "      <th>Year_Birth</th>\n",
       "      <th>Education</th>\n",
       "      <th>Marital_Status</th>\n",
       "      <th>Income</th>\n",
       "      <th>Kidhome</th>\n",
       "      <th>Teenhome</th>\n",
       "      <th>Dt_Customer</th>\n",
       "      <th>Recency</th>\n",
       "      <th>MntWines</th>\n",
       "      <th>...</th>\n",
       "      <th>MntFishProducts</th>\n",
       "      <th>MntSweetProducts</th>\n",
       "      <th>MntGoldProds</th>\n",
       "      <th>NumDealsPurchases</th>\n",
       "      <th>NumWebPurchases</th>\n",
       "      <th>NumCatalogPurchases</th>\n",
       "      <th>NumStorePurchases</th>\n",
       "      <th>NumWebVisitsMonth</th>\n",
       "      <th>Response</th>\n",
       "      <th>Complain</th>\n",
       "    </tr>\n",
       "  </thead>\n",
       "  <tbody>\n",
       "    <tr>\n",
       "      <th>0</th>\n",
       "      <td>1826</td>\n",
       "      <td>1970</td>\n",
       "      <td>Graduation</td>\n",
       "      <td>Divorced</td>\n",
       "      <td>84835.0</td>\n",
       "      <td>0</td>\n",
       "      <td>0</td>\n",
       "      <td>6/16/2014</td>\n",
       "      <td>0</td>\n",
       "      <td>189</td>\n",
       "      <td>...</td>\n",
       "      <td>111</td>\n",
       "      <td>189</td>\n",
       "      <td>218</td>\n",
       "      <td>1</td>\n",
       "      <td>4</td>\n",
       "      <td>4</td>\n",
       "      <td>6</td>\n",
       "      <td>1</td>\n",
       "      <td>1</td>\n",
       "      <td>0</td>\n",
       "    </tr>\n",
       "    <tr>\n",
       "      <th>1</th>\n",
       "      <td>1</td>\n",
       "      <td>1961</td>\n",
       "      <td>Graduation</td>\n",
       "      <td>Single</td>\n",
       "      <td>57091.0</td>\n",
       "      <td>0</td>\n",
       "      <td>0</td>\n",
       "      <td>6/15/2014</td>\n",
       "      <td>0</td>\n",
       "      <td>464</td>\n",
       "      <td>...</td>\n",
       "      <td>7</td>\n",
       "      <td>0</td>\n",
       "      <td>37</td>\n",
       "      <td>1</td>\n",
       "      <td>7</td>\n",
       "      <td>3</td>\n",
       "      <td>7</td>\n",
       "      <td>5</td>\n",
       "      <td>1</td>\n",
       "      <td>0</td>\n",
       "    </tr>\n",
       "    <tr>\n",
       "      <th>2</th>\n",
       "      <td>10476</td>\n",
       "      <td>1958</td>\n",
       "      <td>Graduation</td>\n",
       "      <td>Married</td>\n",
       "      <td>67267.0</td>\n",
       "      <td>0</td>\n",
       "      <td>1</td>\n",
       "      <td>5/13/2014</td>\n",
       "      <td>0</td>\n",
       "      <td>134</td>\n",
       "      <td>...</td>\n",
       "      <td>15</td>\n",
       "      <td>2</td>\n",
       "      <td>30</td>\n",
       "      <td>1</td>\n",
       "      <td>3</td>\n",
       "      <td>2</td>\n",
       "      <td>5</td>\n",
       "      <td>2</td>\n",
       "      <td>0</td>\n",
       "      <td>0</td>\n",
       "    </tr>\n",
       "    <tr>\n",
       "      <th>3</th>\n",
       "      <td>1386</td>\n",
       "      <td>1967</td>\n",
       "      <td>Graduation</td>\n",
       "      <td>Together</td>\n",
       "      <td>32474.0</td>\n",
       "      <td>1</td>\n",
       "      <td>1</td>\n",
       "      <td>11/5/2014</td>\n",
       "      <td>0</td>\n",
       "      <td>10</td>\n",
       "      <td>...</td>\n",
       "      <td>0</td>\n",
       "      <td>0</td>\n",
       "      <td>0</td>\n",
       "      <td>1</td>\n",
       "      <td>1</td>\n",
       "      <td>0</td>\n",
       "      <td>2</td>\n",
       "      <td>7</td>\n",
       "      <td>0</td>\n",
       "      <td>0</td>\n",
       "    </tr>\n",
       "    <tr>\n",
       "      <th>4</th>\n",
       "      <td>5371</td>\n",
       "      <td>1989</td>\n",
       "      <td>Graduation</td>\n",
       "      <td>Single</td>\n",
       "      <td>21474.0</td>\n",
       "      <td>1</td>\n",
       "      <td>0</td>\n",
       "      <td>8/4/2014</td>\n",
       "      <td>0</td>\n",
       "      <td>6</td>\n",
       "      <td>...</td>\n",
       "      <td>11</td>\n",
       "      <td>0</td>\n",
       "      <td>34</td>\n",
       "      <td>2</td>\n",
       "      <td>3</td>\n",
       "      <td>1</td>\n",
       "      <td>2</td>\n",
       "      <td>7</td>\n",
       "      <td>1</td>\n",
       "      <td>0</td>\n",
       "    </tr>\n",
       "  </tbody>\n",
       "</table>\n",
       "<p>5 rows × 22 columns</p>\n",
       "</div>"
      ],
      "text/plain": [
       "      Id  Year_Birth   Education Marital_Status   Income  Kidhome  Teenhome  \\\n",
       "0   1826        1970  Graduation       Divorced  84835.0        0         0   \n",
       "1      1        1961  Graduation         Single  57091.0        0         0   \n",
       "2  10476        1958  Graduation        Married  67267.0        0         1   \n",
       "3   1386        1967  Graduation       Together  32474.0        1         1   \n",
       "4   5371        1989  Graduation         Single  21474.0        1         0   \n",
       "\n",
       "  Dt_Customer  Recency  MntWines  ...  MntFishProducts  MntSweetProducts  \\\n",
       "0   6/16/2014        0       189  ...              111               189   \n",
       "1   6/15/2014        0       464  ...                7                 0   \n",
       "2   5/13/2014        0       134  ...               15                 2   \n",
       "3   11/5/2014        0        10  ...                0                 0   \n",
       "4    8/4/2014        0         6  ...               11                 0   \n",
       "\n",
       "   MntGoldProds  NumDealsPurchases  NumWebPurchases  NumCatalogPurchases  \\\n",
       "0           218                  1                4                    4   \n",
       "1            37                  1                7                    3   \n",
       "2            30                  1                3                    2   \n",
       "3             0                  1                1                    0   \n",
       "4            34                  2                3                    1   \n",
       "\n",
       "   NumStorePurchases  NumWebVisitsMonth  Response  Complain  \n",
       "0                  6                  1         1         0  \n",
       "1                  7                  5         1         0  \n",
       "2                  5                  2         0         0  \n",
       "3                  2                  7         0         0  \n",
       "4                  2                  7         1         0  \n",
       "\n",
       "[5 rows x 22 columns]"
      ]
     },
     "execution_count": 15,
     "metadata": {},
     "output_type": "execute_result"
    }
   ],
   "source": [
    "dados.head()"
   ]
  },
  {
   "cell_type": "code",
   "execution_count": 16,
   "id": "fb296530",
   "metadata": {},
   "outputs": [],
   "source": [
    "url_2 = 'https://raw.githubusercontent.com/moises-rb/DataScienceOne/refs/heads/main/Aprendendo_Fazer_ETL/Pandas_I-O_Trabalhando_com_diferentes_formatos_de_arquivos/base_dados/superstore_data_ponto_virgula.csv'"
   ]
  },
  {
   "cell_type": "code",
   "execution_count": 17,
   "id": "7ef17560",
   "metadata": {},
   "outputs": [],
   "source": [
    "dados_ponto_virgula = pd.read_csv(url_2)"
   ]
  },
  {
   "cell_type": "code",
   "execution_count": 18,
   "id": "a86e84ef",
   "metadata": {},
   "outputs": [
    {
     "data": {
      "application/vnd.microsoft.datawrangler.viewer.v0+json": {
       "columns": [
        {
         "name": "index",
         "rawType": "int64",
         "type": "integer"
        },
        {
         "name": "Id;Year_Birth;Education;Marital_Status;Income;Kidhome;Teenhome;Dt_Customer;Recency;MntWines;MntFruits;MntMeatProducts;MntFishProducts;MntSweetProducts;MntGoldProds;NumDealsPurchases;NumWebPurchases;NumCatalogPurchases;NumStorePurchases;NumWebVisitsMonth;Response;Complain",
         "rawType": "object",
         "type": "string"
        }
       ],
       "conversionMethod": "pd.DataFrame",
       "ref": "133440f1-8396-4432-8b92-09e50ab33ab0",
       "rows": [
        [
         "0",
         "1826;1970;Graduation;Divorced;84835;0;0;6/16/2014;0;189;104;379;111;189;218;1;4;4;6;1;1;0"
        ],
        [
         "1",
         "1;1961;Graduation;Single;57091;0;0;6/15/2014;0;464;5;64;7;0;37;1;7;3;7;5;1;0"
        ],
        [
         "2",
         "10476;1958;Graduation;Married;67267;0;1;5/13/2014;0;134;11;59;15;2;30;1;3;2;5;2;0;0"
        ],
        [
         "3",
         "1386;1967;Graduation;Together;32474;1;1;11/5/2014;0;10;0;1;0;0;0;1;1;0;2;7;0;0"
        ],
        [
         "4",
         "5371;1989;Graduation;Single;21474;1;0;8/4/2014;0;6;16;24;11;0;34;2;3;1;2;7;1;0"
        ]
       ],
       "shape": {
        "columns": 1,
        "rows": 5
       }
      },
      "text/html": [
       "<div>\n",
       "<style scoped>\n",
       "    .dataframe tbody tr th:only-of-type {\n",
       "        vertical-align: middle;\n",
       "    }\n",
       "\n",
       "    .dataframe tbody tr th {\n",
       "        vertical-align: top;\n",
       "    }\n",
       "\n",
       "    .dataframe thead th {\n",
       "        text-align: right;\n",
       "    }\n",
       "</style>\n",
       "<table border=\"1\" class=\"dataframe\">\n",
       "  <thead>\n",
       "    <tr style=\"text-align: right;\">\n",
       "      <th></th>\n",
       "      <th>Id;Year_Birth;Education;Marital_Status;Income;Kidhome;Teenhome;Dt_Customer;Recency;MntWines;MntFruits;MntMeatProducts;MntFishProducts;MntSweetProducts;MntGoldProds;NumDealsPurchases;NumWebPurchases;NumCatalogPurchases;NumStorePurchases;NumWebVisitsMonth;Response;Complain</th>\n",
       "    </tr>\n",
       "  </thead>\n",
       "  <tbody>\n",
       "    <tr>\n",
       "      <th>0</th>\n",
       "      <td>1826;1970;Graduation;Divorced;84835;0;0;6/16/2...</td>\n",
       "    </tr>\n",
       "    <tr>\n",
       "      <th>1</th>\n",
       "      <td>1;1961;Graduation;Single;57091;0;0;6/15/2014;0...</td>\n",
       "    </tr>\n",
       "    <tr>\n",
       "      <th>2</th>\n",
       "      <td>10476;1958;Graduation;Married;67267;0;1;5/13/2...</td>\n",
       "    </tr>\n",
       "    <tr>\n",
       "      <th>3</th>\n",
       "      <td>1386;1967;Graduation;Together;32474;1;1;11/5/2...</td>\n",
       "    </tr>\n",
       "    <tr>\n",
       "      <th>4</th>\n",
       "      <td>5371;1989;Graduation;Single;21474;1;0;8/4/2014...</td>\n",
       "    </tr>\n",
       "  </tbody>\n",
       "</table>\n",
       "</div>"
      ],
      "text/plain": [
       "  Id;Year_Birth;Education;Marital_Status;Income;Kidhome;Teenhome;Dt_Customer;Recency;MntWines;MntFruits;MntMeatProducts;MntFishProducts;MntSweetProducts;MntGoldProds;NumDealsPurchases;NumWebPurchases;NumCatalogPurchases;NumStorePurchases;NumWebVisitsMonth;Response;Complain\n",
       "0  1826;1970;Graduation;Divorced;84835;0;0;6/16/2...                                                                                                                                                                                                                             \n",
       "1  1;1961;Graduation;Single;57091;0;0;6/15/2014;0...                                                                                                                                                                                                                             \n",
       "2  10476;1958;Graduation;Married;67267;0;1;5/13/2...                                                                                                                                                                                                                             \n",
       "3  1386;1967;Graduation;Together;32474;1;1;11/5/2...                                                                                                                                                                                                                             \n",
       "4  5371;1989;Graduation;Single;21474;1;0;8/4/2014...                                                                                                                                                                                                                             "
      ]
     },
     "execution_count": 18,
     "metadata": {},
     "output_type": "execute_result"
    }
   ],
   "source": [
    "dados_ponto_virgula.head()"
   ]
  },
  {
   "cell_type": "code",
   "execution_count": 19,
   "id": "2c7915a6",
   "metadata": {},
   "outputs": [],
   "source": [
    "dados_ponto_virgula_corrigido = pd.read_csv(url_2, sep=';')"
   ]
  },
  {
   "cell_type": "code",
   "execution_count": 20,
   "id": "6783b629",
   "metadata": {},
   "outputs": [
    {
     "data": {
      "application/vnd.microsoft.datawrangler.viewer.v0+json": {
       "columns": [
        {
         "name": "index",
         "rawType": "int64",
         "type": "integer"
        },
        {
         "name": "Id",
         "rawType": "int64",
         "type": "integer"
        },
        {
         "name": "Year_Birth",
         "rawType": "int64",
         "type": "integer"
        },
        {
         "name": "Education",
         "rawType": "object",
         "type": "string"
        },
        {
         "name": "Marital_Status",
         "rawType": "object",
         "type": "string"
        },
        {
         "name": "Income",
         "rawType": "float64",
         "type": "float"
        },
        {
         "name": "Kidhome",
         "rawType": "int64",
         "type": "integer"
        },
        {
         "name": "Teenhome",
         "rawType": "int64",
         "type": "integer"
        },
        {
         "name": "Dt_Customer",
         "rawType": "object",
         "type": "string"
        },
        {
         "name": "Recency",
         "rawType": "int64",
         "type": "integer"
        },
        {
         "name": "MntWines",
         "rawType": "int64",
         "type": "integer"
        },
        {
         "name": "MntFruits",
         "rawType": "int64",
         "type": "integer"
        },
        {
         "name": "MntMeatProducts",
         "rawType": "int64",
         "type": "integer"
        },
        {
         "name": "MntFishProducts",
         "rawType": "int64",
         "type": "integer"
        },
        {
         "name": "MntSweetProducts",
         "rawType": "int64",
         "type": "integer"
        },
        {
         "name": "MntGoldProds",
         "rawType": "int64",
         "type": "integer"
        },
        {
         "name": "NumDealsPurchases",
         "rawType": "int64",
         "type": "integer"
        },
        {
         "name": "NumWebPurchases",
         "rawType": "int64",
         "type": "integer"
        },
        {
         "name": "NumCatalogPurchases",
         "rawType": "int64",
         "type": "integer"
        },
        {
         "name": "NumStorePurchases",
         "rawType": "int64",
         "type": "integer"
        },
        {
         "name": "NumWebVisitsMonth",
         "rawType": "int64",
         "type": "integer"
        },
        {
         "name": "Response",
         "rawType": "int64",
         "type": "integer"
        },
        {
         "name": "Complain",
         "rawType": "int64",
         "type": "integer"
        }
       ],
       "conversionMethod": "pd.DataFrame",
       "ref": "d26cea29-a0c0-4df6-80a3-f8063450d807",
       "rows": [
        [
         "0",
         "1826",
         "1970",
         "Graduation",
         "Divorced",
         "84835.0",
         "0",
         "0",
         "6/16/2014",
         "0",
         "189",
         "104",
         "379",
         "111",
         "189",
         "218",
         "1",
         "4",
         "4",
         "6",
         "1",
         "1",
         "0"
        ],
        [
         "1",
         "1",
         "1961",
         "Graduation",
         "Single",
         "57091.0",
         "0",
         "0",
         "6/15/2014",
         "0",
         "464",
         "5",
         "64",
         "7",
         "0",
         "37",
         "1",
         "7",
         "3",
         "7",
         "5",
         "1",
         "0"
        ],
        [
         "2",
         "10476",
         "1958",
         "Graduation",
         "Married",
         "67267.0",
         "0",
         "1",
         "5/13/2014",
         "0",
         "134",
         "11",
         "59",
         "15",
         "2",
         "30",
         "1",
         "3",
         "2",
         "5",
         "2",
         "0",
         "0"
        ],
        [
         "3",
         "1386",
         "1967",
         "Graduation",
         "Together",
         "32474.0",
         "1",
         "1",
         "11/5/2014",
         "0",
         "10",
         "0",
         "1",
         "0",
         "0",
         "0",
         "1",
         "1",
         "0",
         "2",
         "7",
         "0",
         "0"
        ],
        [
         "4",
         "5371",
         "1989",
         "Graduation",
         "Single",
         "21474.0",
         "1",
         "0",
         "8/4/2014",
         "0",
         "6",
         "16",
         "24",
         "11",
         "0",
         "34",
         "2",
         "3",
         "1",
         "2",
         "7",
         "1",
         "0"
        ]
       ],
       "shape": {
        "columns": 22,
        "rows": 5
       }
      },
      "text/html": [
       "<div>\n",
       "<style scoped>\n",
       "    .dataframe tbody tr th:only-of-type {\n",
       "        vertical-align: middle;\n",
       "    }\n",
       "\n",
       "    .dataframe tbody tr th {\n",
       "        vertical-align: top;\n",
       "    }\n",
       "\n",
       "    .dataframe thead th {\n",
       "        text-align: right;\n",
       "    }\n",
       "</style>\n",
       "<table border=\"1\" class=\"dataframe\">\n",
       "  <thead>\n",
       "    <tr style=\"text-align: right;\">\n",
       "      <th></th>\n",
       "      <th>Id</th>\n",
       "      <th>Year_Birth</th>\n",
       "      <th>Education</th>\n",
       "      <th>Marital_Status</th>\n",
       "      <th>Income</th>\n",
       "      <th>Kidhome</th>\n",
       "      <th>Teenhome</th>\n",
       "      <th>Dt_Customer</th>\n",
       "      <th>Recency</th>\n",
       "      <th>MntWines</th>\n",
       "      <th>...</th>\n",
       "      <th>MntFishProducts</th>\n",
       "      <th>MntSweetProducts</th>\n",
       "      <th>MntGoldProds</th>\n",
       "      <th>NumDealsPurchases</th>\n",
       "      <th>NumWebPurchases</th>\n",
       "      <th>NumCatalogPurchases</th>\n",
       "      <th>NumStorePurchases</th>\n",
       "      <th>NumWebVisitsMonth</th>\n",
       "      <th>Response</th>\n",
       "      <th>Complain</th>\n",
       "    </tr>\n",
       "  </thead>\n",
       "  <tbody>\n",
       "    <tr>\n",
       "      <th>0</th>\n",
       "      <td>1826</td>\n",
       "      <td>1970</td>\n",
       "      <td>Graduation</td>\n",
       "      <td>Divorced</td>\n",
       "      <td>84835.0</td>\n",
       "      <td>0</td>\n",
       "      <td>0</td>\n",
       "      <td>6/16/2014</td>\n",
       "      <td>0</td>\n",
       "      <td>189</td>\n",
       "      <td>...</td>\n",
       "      <td>111</td>\n",
       "      <td>189</td>\n",
       "      <td>218</td>\n",
       "      <td>1</td>\n",
       "      <td>4</td>\n",
       "      <td>4</td>\n",
       "      <td>6</td>\n",
       "      <td>1</td>\n",
       "      <td>1</td>\n",
       "      <td>0</td>\n",
       "    </tr>\n",
       "    <tr>\n",
       "      <th>1</th>\n",
       "      <td>1</td>\n",
       "      <td>1961</td>\n",
       "      <td>Graduation</td>\n",
       "      <td>Single</td>\n",
       "      <td>57091.0</td>\n",
       "      <td>0</td>\n",
       "      <td>0</td>\n",
       "      <td>6/15/2014</td>\n",
       "      <td>0</td>\n",
       "      <td>464</td>\n",
       "      <td>...</td>\n",
       "      <td>7</td>\n",
       "      <td>0</td>\n",
       "      <td>37</td>\n",
       "      <td>1</td>\n",
       "      <td>7</td>\n",
       "      <td>3</td>\n",
       "      <td>7</td>\n",
       "      <td>5</td>\n",
       "      <td>1</td>\n",
       "      <td>0</td>\n",
       "    </tr>\n",
       "    <tr>\n",
       "      <th>2</th>\n",
       "      <td>10476</td>\n",
       "      <td>1958</td>\n",
       "      <td>Graduation</td>\n",
       "      <td>Married</td>\n",
       "      <td>67267.0</td>\n",
       "      <td>0</td>\n",
       "      <td>1</td>\n",
       "      <td>5/13/2014</td>\n",
       "      <td>0</td>\n",
       "      <td>134</td>\n",
       "      <td>...</td>\n",
       "      <td>15</td>\n",
       "      <td>2</td>\n",
       "      <td>30</td>\n",
       "      <td>1</td>\n",
       "      <td>3</td>\n",
       "      <td>2</td>\n",
       "      <td>5</td>\n",
       "      <td>2</td>\n",
       "      <td>0</td>\n",
       "      <td>0</td>\n",
       "    </tr>\n",
       "    <tr>\n",
       "      <th>3</th>\n",
       "      <td>1386</td>\n",
       "      <td>1967</td>\n",
       "      <td>Graduation</td>\n",
       "      <td>Together</td>\n",
       "      <td>32474.0</td>\n",
       "      <td>1</td>\n",
       "      <td>1</td>\n",
       "      <td>11/5/2014</td>\n",
       "      <td>0</td>\n",
       "      <td>10</td>\n",
       "      <td>...</td>\n",
       "      <td>0</td>\n",
       "      <td>0</td>\n",
       "      <td>0</td>\n",
       "      <td>1</td>\n",
       "      <td>1</td>\n",
       "      <td>0</td>\n",
       "      <td>2</td>\n",
       "      <td>7</td>\n",
       "      <td>0</td>\n",
       "      <td>0</td>\n",
       "    </tr>\n",
       "    <tr>\n",
       "      <th>4</th>\n",
       "      <td>5371</td>\n",
       "      <td>1989</td>\n",
       "      <td>Graduation</td>\n",
       "      <td>Single</td>\n",
       "      <td>21474.0</td>\n",
       "      <td>1</td>\n",
       "      <td>0</td>\n",
       "      <td>8/4/2014</td>\n",
       "      <td>0</td>\n",
       "      <td>6</td>\n",
       "      <td>...</td>\n",
       "      <td>11</td>\n",
       "      <td>0</td>\n",
       "      <td>34</td>\n",
       "      <td>2</td>\n",
       "      <td>3</td>\n",
       "      <td>1</td>\n",
       "      <td>2</td>\n",
       "      <td>7</td>\n",
       "      <td>1</td>\n",
       "      <td>0</td>\n",
       "    </tr>\n",
       "  </tbody>\n",
       "</table>\n",
       "<p>5 rows × 22 columns</p>\n",
       "</div>"
      ],
      "text/plain": [
       "      Id  Year_Birth   Education Marital_Status   Income  Kidhome  Teenhome  \\\n",
       "0   1826        1970  Graduation       Divorced  84835.0        0         0   \n",
       "1      1        1961  Graduation         Single  57091.0        0         0   \n",
       "2  10476        1958  Graduation        Married  67267.0        0         1   \n",
       "3   1386        1967  Graduation       Together  32474.0        1         1   \n",
       "4   5371        1989  Graduation         Single  21474.0        1         0   \n",
       "\n",
       "  Dt_Customer  Recency  MntWines  ...  MntFishProducts  MntSweetProducts  \\\n",
       "0   6/16/2014        0       189  ...              111               189   \n",
       "1   6/15/2014        0       464  ...                7                 0   \n",
       "2   5/13/2014        0       134  ...               15                 2   \n",
       "3   11/5/2014        0        10  ...                0                 0   \n",
       "4    8/4/2014        0         6  ...               11                 0   \n",
       "\n",
       "   MntGoldProds  NumDealsPurchases  NumWebPurchases  NumCatalogPurchases  \\\n",
       "0           218                  1                4                    4   \n",
       "1            37                  1                7                    3   \n",
       "2            30                  1                3                    2   \n",
       "3             0                  1                1                    0   \n",
       "4            34                  2                3                    1   \n",
       "\n",
       "   NumStorePurchases  NumWebVisitsMonth  Response  Complain  \n",
       "0                  6                  1         1         0  \n",
       "1                  7                  5         1         0  \n",
       "2                  5                  2         0         0  \n",
       "3                  2                  7         0         0  \n",
       "4                  2                  7         1         0  \n",
       "\n",
       "[5 rows x 22 columns]"
      ]
     },
     "execution_count": 20,
     "metadata": {},
     "output_type": "execute_result"
    }
   ],
   "source": [
    "dados_ponto_virgula_corrigido.head()"
   ]
  },
  {
   "cell_type": "code",
   "execution_count": 21,
   "id": "5c0336d3",
   "metadata": {},
   "outputs": [],
   "source": [
    "dados_primeiras_linhas = pd.read_csv(url, nrows=5)"
   ]
  },
  {
   "cell_type": "code",
   "execution_count": 22,
   "id": "783d8da0",
   "metadata": {},
   "outputs": [
    {
     "data": {
      "application/vnd.microsoft.datawrangler.viewer.v0+json": {
       "columns": [
        {
         "name": "index",
         "rawType": "int64",
         "type": "integer"
        },
        {
         "name": "Id",
         "rawType": "int64",
         "type": "integer"
        },
        {
         "name": "Year_Birth",
         "rawType": "int64",
         "type": "integer"
        },
        {
         "name": "Education",
         "rawType": "object",
         "type": "string"
        },
        {
         "name": "Marital_Status",
         "rawType": "object",
         "type": "string"
        },
        {
         "name": "Income",
         "rawType": "int64",
         "type": "integer"
        },
        {
         "name": "Kidhome",
         "rawType": "int64",
         "type": "integer"
        },
        {
         "name": "Teenhome",
         "rawType": "int64",
         "type": "integer"
        },
        {
         "name": "Dt_Customer",
         "rawType": "object",
         "type": "string"
        },
        {
         "name": "Recency",
         "rawType": "int64",
         "type": "integer"
        },
        {
         "name": "MntWines",
         "rawType": "int64",
         "type": "integer"
        },
        {
         "name": "MntFruits",
         "rawType": "int64",
         "type": "integer"
        },
        {
         "name": "MntMeatProducts",
         "rawType": "int64",
         "type": "integer"
        },
        {
         "name": "MntFishProducts",
         "rawType": "int64",
         "type": "integer"
        },
        {
         "name": "MntSweetProducts",
         "rawType": "int64",
         "type": "integer"
        },
        {
         "name": "MntGoldProds",
         "rawType": "int64",
         "type": "integer"
        },
        {
         "name": "NumDealsPurchases",
         "rawType": "int64",
         "type": "integer"
        },
        {
         "name": "NumWebPurchases",
         "rawType": "int64",
         "type": "integer"
        },
        {
         "name": "NumCatalogPurchases",
         "rawType": "int64",
         "type": "integer"
        },
        {
         "name": "NumStorePurchases",
         "rawType": "int64",
         "type": "integer"
        },
        {
         "name": "NumWebVisitsMonth",
         "rawType": "int64",
         "type": "integer"
        },
        {
         "name": "Response",
         "rawType": "int64",
         "type": "integer"
        },
        {
         "name": "Complain",
         "rawType": "int64",
         "type": "integer"
        }
       ],
       "conversionMethod": "pd.DataFrame",
       "ref": "7e5d0b75-5fa8-4ba0-943a-632576f58c83",
       "rows": [
        [
         "0",
         "1826",
         "1970",
         "Graduation",
         "Divorced",
         "84835",
         "0",
         "0",
         "6/16/2014",
         "0",
         "189",
         "104",
         "379",
         "111",
         "189",
         "218",
         "1",
         "4",
         "4",
         "6",
         "1",
         "1",
         "0"
        ],
        [
         "1",
         "1",
         "1961",
         "Graduation",
         "Single",
         "57091",
         "0",
         "0",
         "6/15/2014",
         "0",
         "464",
         "5",
         "64",
         "7",
         "0",
         "37",
         "1",
         "7",
         "3",
         "7",
         "5",
         "1",
         "0"
        ],
        [
         "2",
         "10476",
         "1958",
         "Graduation",
         "Married",
         "67267",
         "0",
         "1",
         "5/13/2014",
         "0",
         "134",
         "11",
         "59",
         "15",
         "2",
         "30",
         "1",
         "3",
         "2",
         "5",
         "2",
         "0",
         "0"
        ],
        [
         "3",
         "1386",
         "1967",
         "Graduation",
         "Together",
         "32474",
         "1",
         "1",
         "11/5/2014",
         "0",
         "10",
         "0",
         "1",
         "0",
         "0",
         "0",
         "1",
         "1",
         "0",
         "2",
         "7",
         "0",
         "0"
        ],
        [
         "4",
         "5371",
         "1989",
         "Graduation",
         "Single",
         "21474",
         "1",
         "0",
         "8/4/2014",
         "0",
         "6",
         "16",
         "24",
         "11",
         "0",
         "34",
         "2",
         "3",
         "1",
         "2",
         "7",
         "1",
         "0"
        ]
       ],
       "shape": {
        "columns": 22,
        "rows": 5
       }
      },
      "text/html": [
       "<div>\n",
       "<style scoped>\n",
       "    .dataframe tbody tr th:only-of-type {\n",
       "        vertical-align: middle;\n",
       "    }\n",
       "\n",
       "    .dataframe tbody tr th {\n",
       "        vertical-align: top;\n",
       "    }\n",
       "\n",
       "    .dataframe thead th {\n",
       "        text-align: right;\n",
       "    }\n",
       "</style>\n",
       "<table border=\"1\" class=\"dataframe\">\n",
       "  <thead>\n",
       "    <tr style=\"text-align: right;\">\n",
       "      <th></th>\n",
       "      <th>Id</th>\n",
       "      <th>Year_Birth</th>\n",
       "      <th>Education</th>\n",
       "      <th>Marital_Status</th>\n",
       "      <th>Income</th>\n",
       "      <th>Kidhome</th>\n",
       "      <th>Teenhome</th>\n",
       "      <th>Dt_Customer</th>\n",
       "      <th>Recency</th>\n",
       "      <th>MntWines</th>\n",
       "      <th>...</th>\n",
       "      <th>MntFishProducts</th>\n",
       "      <th>MntSweetProducts</th>\n",
       "      <th>MntGoldProds</th>\n",
       "      <th>NumDealsPurchases</th>\n",
       "      <th>NumWebPurchases</th>\n",
       "      <th>NumCatalogPurchases</th>\n",
       "      <th>NumStorePurchases</th>\n",
       "      <th>NumWebVisitsMonth</th>\n",
       "      <th>Response</th>\n",
       "      <th>Complain</th>\n",
       "    </tr>\n",
       "  </thead>\n",
       "  <tbody>\n",
       "    <tr>\n",
       "      <th>0</th>\n",
       "      <td>1826</td>\n",
       "      <td>1970</td>\n",
       "      <td>Graduation</td>\n",
       "      <td>Divorced</td>\n",
       "      <td>84835</td>\n",
       "      <td>0</td>\n",
       "      <td>0</td>\n",
       "      <td>6/16/2014</td>\n",
       "      <td>0</td>\n",
       "      <td>189</td>\n",
       "      <td>...</td>\n",
       "      <td>111</td>\n",
       "      <td>189</td>\n",
       "      <td>218</td>\n",
       "      <td>1</td>\n",
       "      <td>4</td>\n",
       "      <td>4</td>\n",
       "      <td>6</td>\n",
       "      <td>1</td>\n",
       "      <td>1</td>\n",
       "      <td>0</td>\n",
       "    </tr>\n",
       "    <tr>\n",
       "      <th>1</th>\n",
       "      <td>1</td>\n",
       "      <td>1961</td>\n",
       "      <td>Graduation</td>\n",
       "      <td>Single</td>\n",
       "      <td>57091</td>\n",
       "      <td>0</td>\n",
       "      <td>0</td>\n",
       "      <td>6/15/2014</td>\n",
       "      <td>0</td>\n",
       "      <td>464</td>\n",
       "      <td>...</td>\n",
       "      <td>7</td>\n",
       "      <td>0</td>\n",
       "      <td>37</td>\n",
       "      <td>1</td>\n",
       "      <td>7</td>\n",
       "      <td>3</td>\n",
       "      <td>7</td>\n",
       "      <td>5</td>\n",
       "      <td>1</td>\n",
       "      <td>0</td>\n",
       "    </tr>\n",
       "    <tr>\n",
       "      <th>2</th>\n",
       "      <td>10476</td>\n",
       "      <td>1958</td>\n",
       "      <td>Graduation</td>\n",
       "      <td>Married</td>\n",
       "      <td>67267</td>\n",
       "      <td>0</td>\n",
       "      <td>1</td>\n",
       "      <td>5/13/2014</td>\n",
       "      <td>0</td>\n",
       "      <td>134</td>\n",
       "      <td>...</td>\n",
       "      <td>15</td>\n",
       "      <td>2</td>\n",
       "      <td>30</td>\n",
       "      <td>1</td>\n",
       "      <td>3</td>\n",
       "      <td>2</td>\n",
       "      <td>5</td>\n",
       "      <td>2</td>\n",
       "      <td>0</td>\n",
       "      <td>0</td>\n",
       "    </tr>\n",
       "    <tr>\n",
       "      <th>3</th>\n",
       "      <td>1386</td>\n",
       "      <td>1967</td>\n",
       "      <td>Graduation</td>\n",
       "      <td>Together</td>\n",
       "      <td>32474</td>\n",
       "      <td>1</td>\n",
       "      <td>1</td>\n",
       "      <td>11/5/2014</td>\n",
       "      <td>0</td>\n",
       "      <td>10</td>\n",
       "      <td>...</td>\n",
       "      <td>0</td>\n",
       "      <td>0</td>\n",
       "      <td>0</td>\n",
       "      <td>1</td>\n",
       "      <td>1</td>\n",
       "      <td>0</td>\n",
       "      <td>2</td>\n",
       "      <td>7</td>\n",
       "      <td>0</td>\n",
       "      <td>0</td>\n",
       "    </tr>\n",
       "    <tr>\n",
       "      <th>4</th>\n",
       "      <td>5371</td>\n",
       "      <td>1989</td>\n",
       "      <td>Graduation</td>\n",
       "      <td>Single</td>\n",
       "      <td>21474</td>\n",
       "      <td>1</td>\n",
       "      <td>0</td>\n",
       "      <td>8/4/2014</td>\n",
       "      <td>0</td>\n",
       "      <td>6</td>\n",
       "      <td>...</td>\n",
       "      <td>11</td>\n",
       "      <td>0</td>\n",
       "      <td>34</td>\n",
       "      <td>2</td>\n",
       "      <td>3</td>\n",
       "      <td>1</td>\n",
       "      <td>2</td>\n",
       "      <td>7</td>\n",
       "      <td>1</td>\n",
       "      <td>0</td>\n",
       "    </tr>\n",
       "  </tbody>\n",
       "</table>\n",
       "<p>5 rows × 22 columns</p>\n",
       "</div>"
      ],
      "text/plain": [
       "      Id  Year_Birth   Education Marital_Status  Income  Kidhome  Teenhome  \\\n",
       "0   1826        1970  Graduation       Divorced   84835        0         0   \n",
       "1      1        1961  Graduation         Single   57091        0         0   \n",
       "2  10476        1958  Graduation        Married   67267        0         1   \n",
       "3   1386        1967  Graduation       Together   32474        1         1   \n",
       "4   5371        1989  Graduation         Single   21474        1         0   \n",
       "\n",
       "  Dt_Customer  Recency  MntWines  ...  MntFishProducts  MntSweetProducts  \\\n",
       "0   6/16/2014        0       189  ...              111               189   \n",
       "1   6/15/2014        0       464  ...                7                 0   \n",
       "2   5/13/2014        0       134  ...               15                 2   \n",
       "3   11/5/2014        0        10  ...                0                 0   \n",
       "4    8/4/2014        0         6  ...               11                 0   \n",
       "\n",
       "   MntGoldProds  NumDealsPurchases  NumWebPurchases  NumCatalogPurchases  \\\n",
       "0           218                  1                4                    4   \n",
       "1            37                  1                7                    3   \n",
       "2            30                  1                3                    2   \n",
       "3             0                  1                1                    0   \n",
       "4            34                  2                3                    1   \n",
       "\n",
       "   NumStorePurchases  NumWebVisitsMonth  Response  Complain  \n",
       "0                  6                  1         1         0  \n",
       "1                  7                  5         1         0  \n",
       "2                  5                  2         0         0  \n",
       "3                  2                  7         0         0  \n",
       "4                  2                  7         1         0  \n",
       "\n",
       "[5 rows x 22 columns]"
      ]
     },
     "execution_count": 22,
     "metadata": {},
     "output_type": "execute_result"
    }
   ],
   "source": [
    "dados_primeiras_linhas"
   ]
  },
  {
   "cell_type": "code",
   "execution_count": null,
   "id": "e20ada84",
   "metadata": {},
   "outputs": [],
   "source": [
    "dados_colunas_selecionadas_nome = pd.read_csv(url, usecols=['Id', 'Year_Birth', 'Income'])"
   ]
  },
  {
   "cell_type": "code",
   "execution_count": null,
   "id": "00c09c21",
   "metadata": {},
   "outputs": [
    {
     "data": {
      "application/vnd.microsoft.datawrangler.viewer.v0+json": {
       "columns": [
        {
         "name": "index",
         "rawType": "int64",
         "type": "integer"
        },
        {
         "name": "Id",
         "rawType": "int64",
         "type": "integer"
        },
        {
         "name": "Year_Birth",
         "rawType": "int64",
         "type": "integer"
        },
        {
         "name": "Income",
         "rawType": "float64",
         "type": "float"
        }
       ],
       "conversionMethod": "pd.DataFrame",
       "ref": "bf8e8c5e-26de-4bb2-8572-9a894c25b204",
       "rows": [
        [
         "0",
         "1826",
         "1970",
         "84835.0"
        ],
        [
         "1",
         "1",
         "1961",
         "57091.0"
        ],
        [
         "2",
         "10476",
         "1958",
         "67267.0"
        ],
        [
         "3",
         "1386",
         "1967",
         "32474.0"
        ],
        [
         "4",
         "5371",
         "1989",
         "21474.0"
        ],
        [
         "5",
         "7348",
         "1958",
         "71691.0"
        ],
        [
         "6",
         "4073",
         "1954",
         "63564.0"
        ],
        [
         "7",
         "1991",
         "1967",
         "44931.0"
        ],
        [
         "8",
         "4047",
         "1954",
         "65324.0"
        ],
        [
         "9",
         "9477",
         "1954",
         "65324.0"
        ],
        [
         "10",
         "2079",
         "1947",
         "81044.0"
        ],
        [
         "11",
         "5642",
         "1979",
         "62499.0"
        ],
        [
         "12",
         "10530",
         "1959",
         "67786.0"
        ],
        [
         "13",
         "2964",
         "1981",
         "26872.0"
        ],
        [
         "14",
         "10311",
         "1969",
         "4428.0"
        ],
        [
         "15",
         "837",
         "1977",
         "54809.0"
        ],
        [
         "16",
         "10521",
         "1977",
         "54809.0"
        ],
        [
         "17",
         "10175",
         "1958",
         "32173.0"
        ],
        [
         "18",
         "1473",
         "1960",
         "47823.0"
        ],
        [
         "19",
         "2795",
         "1958",
         "30523.0"
        ],
        [
         "20",
         "2285",
         "1954",
         "36634.0"
        ],
        [
         "21",
         "115",
         "1966",
         "43456.0"
        ],
        [
         "22",
         "10470",
         "1979",
         "40662.0"
        ],
        [
         "23",
         "4065",
         "1976",
         "49544.0"
        ],
        [
         "24",
         "10968",
         "1969",
         "57731.0"
        ],
        [
         "25",
         "5985",
         "1965",
         "33168.0"
        ],
        [
         "26",
         "5430",
         "1956",
         "54450.0"
        ],
        [
         "27",
         "8432",
         "1956",
         "54450.0"
        ],
        [
         "28",
         "453",
         "1956",
         "35340.0"
        ],
        [
         "29",
         "9687",
         "1975",
         "73170.0"
        ],
        [
         "30",
         "8890",
         "1971",
         "65808.0"
        ],
        [
         "31",
         "9264",
         "1986",
         "79529.0"
        ],
        [
         "32",
         "5824",
         "1972",
         "34578.0"
        ],
        [
         "33",
         "5794",
         "1974",
         "46374.0"
        ],
        [
         "34",
         "3068",
         "1990",
         "18351.0"
        ],
        [
         "35",
         "7962",
         "1987",
         "95169.0"
        ],
        [
         "36",
         "2681",
         "1984",
         "65370.0"
        ],
        [
         "37",
         "10141",
         "1960",
         "39228.0"
        ],
        [
         "38",
         "3725",
         "1961",
         "84865.0"
        ],
        [
         "39",
         "3767",
         "1968",
         "61314.0"
        ],
        [
         "40",
         "5585",
         "1972",
         "21359.0"
        ],
        [
         "41",
         "7030",
         "1955",
         "66465.0"
        ],
        [
         "42",
         "1524",
         "1983",
         "81698.0"
        ],
        [
         "43",
         "3657",
         "1986",
         "39146.0"
        ],
        [
         "44",
         "5740",
         "1970",
         "25959.0"
        ],
        [
         "45",
         "9595",
         "1961",
         "64260.0"
        ],
        [
         "46",
         "3158",
         "1973",
         "32300.0"
        ],
        [
         "47",
         "5114",
         "1965",
         "74806.0"
        ],
        [
         "48",
         "340",
         "1970",
         "72967.0"
        ],
        [
         "49",
         "8805",
         "1960",
         "48904.0"
        ]
       ],
       "shape": {
        "columns": 3,
        "rows": 2240
       }
      },
      "text/html": [
       "<div>\n",
       "<style scoped>\n",
       "    .dataframe tbody tr th:only-of-type {\n",
       "        vertical-align: middle;\n",
       "    }\n",
       "\n",
       "    .dataframe tbody tr th {\n",
       "        vertical-align: top;\n",
       "    }\n",
       "\n",
       "    .dataframe thead th {\n",
       "        text-align: right;\n",
       "    }\n",
       "</style>\n",
       "<table border=\"1\" class=\"dataframe\">\n",
       "  <thead>\n",
       "    <tr style=\"text-align: right;\">\n",
       "      <th></th>\n",
       "      <th>Id</th>\n",
       "      <th>Year_Birth</th>\n",
       "      <th>Income</th>\n",
       "    </tr>\n",
       "  </thead>\n",
       "  <tbody>\n",
       "    <tr>\n",
       "      <th>0</th>\n",
       "      <td>1826</td>\n",
       "      <td>1970</td>\n",
       "      <td>84835.0</td>\n",
       "    </tr>\n",
       "    <tr>\n",
       "      <th>1</th>\n",
       "      <td>1</td>\n",
       "      <td>1961</td>\n",
       "      <td>57091.0</td>\n",
       "    </tr>\n",
       "    <tr>\n",
       "      <th>2</th>\n",
       "      <td>10476</td>\n",
       "      <td>1958</td>\n",
       "      <td>67267.0</td>\n",
       "    </tr>\n",
       "    <tr>\n",
       "      <th>3</th>\n",
       "      <td>1386</td>\n",
       "      <td>1967</td>\n",
       "      <td>32474.0</td>\n",
       "    </tr>\n",
       "    <tr>\n",
       "      <th>4</th>\n",
       "      <td>5371</td>\n",
       "      <td>1989</td>\n",
       "      <td>21474.0</td>\n",
       "    </tr>\n",
       "    <tr>\n",
       "      <th>...</th>\n",
       "      <td>...</td>\n",
       "      <td>...</td>\n",
       "      <td>...</td>\n",
       "    </tr>\n",
       "    <tr>\n",
       "      <th>2235</th>\n",
       "      <td>10142</td>\n",
       "      <td>1976</td>\n",
       "      <td>66476.0</td>\n",
       "    </tr>\n",
       "    <tr>\n",
       "      <th>2236</th>\n",
       "      <td>5263</td>\n",
       "      <td>1977</td>\n",
       "      <td>31056.0</td>\n",
       "    </tr>\n",
       "    <tr>\n",
       "      <th>2237</th>\n",
       "      <td>22</td>\n",
       "      <td>1976</td>\n",
       "      <td>46310.0</td>\n",
       "    </tr>\n",
       "    <tr>\n",
       "      <th>2238</th>\n",
       "      <td>528</td>\n",
       "      <td>1978</td>\n",
       "      <td>65819.0</td>\n",
       "    </tr>\n",
       "    <tr>\n",
       "      <th>2239</th>\n",
       "      <td>4070</td>\n",
       "      <td>1969</td>\n",
       "      <td>94871.0</td>\n",
       "    </tr>\n",
       "  </tbody>\n",
       "</table>\n",
       "<p>2240 rows × 3 columns</p>\n",
       "</div>"
      ],
      "text/plain": [
       "         Id  Year_Birth   Income\n",
       "0      1826        1970  84835.0\n",
       "1         1        1961  57091.0\n",
       "2     10476        1958  67267.0\n",
       "3      1386        1967  32474.0\n",
       "4      5371        1989  21474.0\n",
       "...     ...         ...      ...\n",
       "2235  10142        1976  66476.0\n",
       "2236   5263        1977  31056.0\n",
       "2237     22        1976  46310.0\n",
       "2238    528        1978  65819.0\n",
       "2239   4070        1969  94871.0\n",
       "\n",
       "[2240 rows x 3 columns]"
      ]
     },
     "execution_count": 25,
     "metadata": {},
     "output_type": "execute_result"
    }
   ],
   "source": [
    "dados_colunas_selecionadas_nome"
   ]
  },
  {
   "cell_type": "code",
   "execution_count": 26,
   "id": "700cca4f",
   "metadata": {},
   "outputs": [],
   "source": [
    "dados_colunas_selecionadas_posicao = pd.read_csv(url, usecols=[0, 1, 4])"
   ]
  },
  {
   "cell_type": "code",
   "execution_count": 27,
   "id": "0098d97d",
   "metadata": {},
   "outputs": [
    {
     "data": {
      "application/vnd.microsoft.datawrangler.viewer.v0+json": {
       "columns": [
        {
         "name": "index",
         "rawType": "int64",
         "type": "integer"
        },
        {
         "name": "Id",
         "rawType": "int64",
         "type": "integer"
        },
        {
         "name": "Year_Birth",
         "rawType": "int64",
         "type": "integer"
        },
        {
         "name": "Income",
         "rawType": "float64",
         "type": "float"
        }
       ],
       "conversionMethod": "pd.DataFrame",
       "ref": "9caafbb5-9c51-4f57-8b99-955f6c2418ea",
       "rows": [
        [
         "0",
         "1826",
         "1970",
         "84835.0"
        ],
        [
         "1",
         "1",
         "1961",
         "57091.0"
        ],
        [
         "2",
         "10476",
         "1958",
         "67267.0"
        ],
        [
         "3",
         "1386",
         "1967",
         "32474.0"
        ],
        [
         "4",
         "5371",
         "1989",
         "21474.0"
        ],
        [
         "5",
         "7348",
         "1958",
         "71691.0"
        ],
        [
         "6",
         "4073",
         "1954",
         "63564.0"
        ],
        [
         "7",
         "1991",
         "1967",
         "44931.0"
        ],
        [
         "8",
         "4047",
         "1954",
         "65324.0"
        ],
        [
         "9",
         "9477",
         "1954",
         "65324.0"
        ],
        [
         "10",
         "2079",
         "1947",
         "81044.0"
        ],
        [
         "11",
         "5642",
         "1979",
         "62499.0"
        ],
        [
         "12",
         "10530",
         "1959",
         "67786.0"
        ],
        [
         "13",
         "2964",
         "1981",
         "26872.0"
        ],
        [
         "14",
         "10311",
         "1969",
         "4428.0"
        ],
        [
         "15",
         "837",
         "1977",
         "54809.0"
        ],
        [
         "16",
         "10521",
         "1977",
         "54809.0"
        ],
        [
         "17",
         "10175",
         "1958",
         "32173.0"
        ],
        [
         "18",
         "1473",
         "1960",
         "47823.0"
        ],
        [
         "19",
         "2795",
         "1958",
         "30523.0"
        ],
        [
         "20",
         "2285",
         "1954",
         "36634.0"
        ],
        [
         "21",
         "115",
         "1966",
         "43456.0"
        ],
        [
         "22",
         "10470",
         "1979",
         "40662.0"
        ],
        [
         "23",
         "4065",
         "1976",
         "49544.0"
        ],
        [
         "24",
         "10968",
         "1969",
         "57731.0"
        ],
        [
         "25",
         "5985",
         "1965",
         "33168.0"
        ],
        [
         "26",
         "5430",
         "1956",
         "54450.0"
        ],
        [
         "27",
         "8432",
         "1956",
         "54450.0"
        ],
        [
         "28",
         "453",
         "1956",
         "35340.0"
        ],
        [
         "29",
         "9687",
         "1975",
         "73170.0"
        ],
        [
         "30",
         "8890",
         "1971",
         "65808.0"
        ],
        [
         "31",
         "9264",
         "1986",
         "79529.0"
        ],
        [
         "32",
         "5824",
         "1972",
         "34578.0"
        ],
        [
         "33",
         "5794",
         "1974",
         "46374.0"
        ],
        [
         "34",
         "3068",
         "1990",
         "18351.0"
        ],
        [
         "35",
         "7962",
         "1987",
         "95169.0"
        ],
        [
         "36",
         "2681",
         "1984",
         "65370.0"
        ],
        [
         "37",
         "10141",
         "1960",
         "39228.0"
        ],
        [
         "38",
         "3725",
         "1961",
         "84865.0"
        ],
        [
         "39",
         "3767",
         "1968",
         "61314.0"
        ],
        [
         "40",
         "5585",
         "1972",
         "21359.0"
        ],
        [
         "41",
         "7030",
         "1955",
         "66465.0"
        ],
        [
         "42",
         "1524",
         "1983",
         "81698.0"
        ],
        [
         "43",
         "3657",
         "1986",
         "39146.0"
        ],
        [
         "44",
         "5740",
         "1970",
         "25959.0"
        ],
        [
         "45",
         "9595",
         "1961",
         "64260.0"
        ],
        [
         "46",
         "3158",
         "1973",
         "32300.0"
        ],
        [
         "47",
         "5114",
         "1965",
         "74806.0"
        ],
        [
         "48",
         "340",
         "1970",
         "72967.0"
        ],
        [
         "49",
         "8805",
         "1960",
         "48904.0"
        ]
       ],
       "shape": {
        "columns": 3,
        "rows": 2240
       }
      },
      "text/html": [
       "<div>\n",
       "<style scoped>\n",
       "    .dataframe tbody tr th:only-of-type {\n",
       "        vertical-align: middle;\n",
       "    }\n",
       "\n",
       "    .dataframe tbody tr th {\n",
       "        vertical-align: top;\n",
       "    }\n",
       "\n",
       "    .dataframe thead th {\n",
       "        text-align: right;\n",
       "    }\n",
       "</style>\n",
       "<table border=\"1\" class=\"dataframe\">\n",
       "  <thead>\n",
       "    <tr style=\"text-align: right;\">\n",
       "      <th></th>\n",
       "      <th>Id</th>\n",
       "      <th>Year_Birth</th>\n",
       "      <th>Income</th>\n",
       "    </tr>\n",
       "  </thead>\n",
       "  <tbody>\n",
       "    <tr>\n",
       "      <th>0</th>\n",
       "      <td>1826</td>\n",
       "      <td>1970</td>\n",
       "      <td>84835.0</td>\n",
       "    </tr>\n",
       "    <tr>\n",
       "      <th>1</th>\n",
       "      <td>1</td>\n",
       "      <td>1961</td>\n",
       "      <td>57091.0</td>\n",
       "    </tr>\n",
       "    <tr>\n",
       "      <th>2</th>\n",
       "      <td>10476</td>\n",
       "      <td>1958</td>\n",
       "      <td>67267.0</td>\n",
       "    </tr>\n",
       "    <tr>\n",
       "      <th>3</th>\n",
       "      <td>1386</td>\n",
       "      <td>1967</td>\n",
       "      <td>32474.0</td>\n",
       "    </tr>\n",
       "    <tr>\n",
       "      <th>4</th>\n",
       "      <td>5371</td>\n",
       "      <td>1989</td>\n",
       "      <td>21474.0</td>\n",
       "    </tr>\n",
       "    <tr>\n",
       "      <th>...</th>\n",
       "      <td>...</td>\n",
       "      <td>...</td>\n",
       "      <td>...</td>\n",
       "    </tr>\n",
       "    <tr>\n",
       "      <th>2235</th>\n",
       "      <td>10142</td>\n",
       "      <td>1976</td>\n",
       "      <td>66476.0</td>\n",
       "    </tr>\n",
       "    <tr>\n",
       "      <th>2236</th>\n",
       "      <td>5263</td>\n",
       "      <td>1977</td>\n",
       "      <td>31056.0</td>\n",
       "    </tr>\n",
       "    <tr>\n",
       "      <th>2237</th>\n",
       "      <td>22</td>\n",
       "      <td>1976</td>\n",
       "      <td>46310.0</td>\n",
       "    </tr>\n",
       "    <tr>\n",
       "      <th>2238</th>\n",
       "      <td>528</td>\n",
       "      <td>1978</td>\n",
       "      <td>65819.0</td>\n",
       "    </tr>\n",
       "    <tr>\n",
       "      <th>2239</th>\n",
       "      <td>4070</td>\n",
       "      <td>1969</td>\n",
       "      <td>94871.0</td>\n",
       "    </tr>\n",
       "  </tbody>\n",
       "</table>\n",
       "<p>2240 rows × 3 columns</p>\n",
       "</div>"
      ],
      "text/plain": [
       "         Id  Year_Birth   Income\n",
       "0      1826        1970  84835.0\n",
       "1         1        1961  57091.0\n",
       "2     10476        1958  67267.0\n",
       "3      1386        1967  32474.0\n",
       "4      5371        1989  21474.0\n",
       "...     ...         ...      ...\n",
       "2235  10142        1976  66476.0\n",
       "2236   5263        1977  31056.0\n",
       "2237     22        1976  46310.0\n",
       "2238    528        1978  65819.0\n",
       "2239   4070        1969  94871.0\n",
       "\n",
       "[2240 rows x 3 columns]"
      ]
     },
     "execution_count": 27,
     "metadata": {},
     "output_type": "execute_result"
    }
   ],
   "source": [
    "dados_colunas_selecionadas_posicao"
   ]
  },
  {
   "cell_type": "code",
   "execution_count": 52,
   "id": "044c11b3",
   "metadata": {},
   "outputs": [],
   "source": [
    "dados_colunas_selecionadas_posicao.to_csv('clientes_mercado.csv')"
   ]
  },
  {
   "cell_type": "code",
   "execution_count": 53,
   "id": "a80790a6",
   "metadata": {},
   "outputs": [],
   "source": [
    "clientes_mercado = pd.read_csv('C:/DataScienceONE/Aprendendo_Fazer_ETL/Pandas_I-O_Trabalhando_com_diferentes_formatos_de_arquivos/clientes_mercado.csv')"
   ]
  },
  {
   "cell_type": "code",
   "execution_count": 54,
   "id": "6e177b47",
   "metadata": {},
   "outputs": [
    {
     "data": {
      "application/vnd.microsoft.datawrangler.viewer.v0+json": {
       "columns": [
        {
         "name": "index",
         "rawType": "int64",
         "type": "integer"
        },
        {
         "name": "Unnamed: 0",
         "rawType": "int64",
         "type": "integer"
        },
        {
         "name": "Id",
         "rawType": "int64",
         "type": "integer"
        },
        {
         "name": "Year_Birth",
         "rawType": "int64",
         "type": "integer"
        },
        {
         "name": "Income",
         "rawType": "float64",
         "type": "float"
        }
       ],
       "conversionMethod": "pd.DataFrame",
       "ref": "47aee861-9cd8-4197-a9e8-ac871639d26d",
       "rows": [
        [
         "0",
         "0",
         "1826",
         "1970",
         "84835.0"
        ],
        [
         "1",
         "1",
         "1",
         "1961",
         "57091.0"
        ],
        [
         "2",
         "2",
         "10476",
         "1958",
         "67267.0"
        ],
        [
         "3",
         "3",
         "1386",
         "1967",
         "32474.0"
        ],
        [
         "4",
         "4",
         "5371",
         "1989",
         "21474.0"
        ],
        [
         "5",
         "5",
         "7348",
         "1958",
         "71691.0"
        ],
        [
         "6",
         "6",
         "4073",
         "1954",
         "63564.0"
        ],
        [
         "7",
         "7",
         "1991",
         "1967",
         "44931.0"
        ],
        [
         "8",
         "8",
         "4047",
         "1954",
         "65324.0"
        ],
        [
         "9",
         "9",
         "9477",
         "1954",
         "65324.0"
        ],
        [
         "10",
         "10",
         "2079",
         "1947",
         "81044.0"
        ],
        [
         "11",
         "11",
         "5642",
         "1979",
         "62499.0"
        ],
        [
         "12",
         "12",
         "10530",
         "1959",
         "67786.0"
        ],
        [
         "13",
         "13",
         "2964",
         "1981",
         "26872.0"
        ],
        [
         "14",
         "14",
         "10311",
         "1969",
         "4428.0"
        ],
        [
         "15",
         "15",
         "837",
         "1977",
         "54809.0"
        ],
        [
         "16",
         "16",
         "10521",
         "1977",
         "54809.0"
        ],
        [
         "17",
         "17",
         "10175",
         "1958",
         "32173.0"
        ],
        [
         "18",
         "18",
         "1473",
         "1960",
         "47823.0"
        ],
        [
         "19",
         "19",
         "2795",
         "1958",
         "30523.0"
        ],
        [
         "20",
         "20",
         "2285",
         "1954",
         "36634.0"
        ],
        [
         "21",
         "21",
         "115",
         "1966",
         "43456.0"
        ],
        [
         "22",
         "22",
         "10470",
         "1979",
         "40662.0"
        ],
        [
         "23",
         "23",
         "4065",
         "1976",
         "49544.0"
        ],
        [
         "24",
         "24",
         "10968",
         "1969",
         "57731.0"
        ],
        [
         "25",
         "25",
         "5985",
         "1965",
         "33168.0"
        ],
        [
         "26",
         "26",
         "5430",
         "1956",
         "54450.0"
        ],
        [
         "27",
         "27",
         "8432",
         "1956",
         "54450.0"
        ],
        [
         "28",
         "28",
         "453",
         "1956",
         "35340.0"
        ],
        [
         "29",
         "29",
         "9687",
         "1975",
         "73170.0"
        ],
        [
         "30",
         "30",
         "8890",
         "1971",
         "65808.0"
        ],
        [
         "31",
         "31",
         "9264",
         "1986",
         "79529.0"
        ],
        [
         "32",
         "32",
         "5824",
         "1972",
         "34578.0"
        ],
        [
         "33",
         "33",
         "5794",
         "1974",
         "46374.0"
        ],
        [
         "34",
         "34",
         "3068",
         "1990",
         "18351.0"
        ],
        [
         "35",
         "35",
         "7962",
         "1987",
         "95169.0"
        ],
        [
         "36",
         "36",
         "2681",
         "1984",
         "65370.0"
        ],
        [
         "37",
         "37",
         "10141",
         "1960",
         "39228.0"
        ],
        [
         "38",
         "38",
         "3725",
         "1961",
         "84865.0"
        ],
        [
         "39",
         "39",
         "3767",
         "1968",
         "61314.0"
        ],
        [
         "40",
         "40",
         "5585",
         "1972",
         "21359.0"
        ],
        [
         "41",
         "41",
         "7030",
         "1955",
         "66465.0"
        ],
        [
         "42",
         "42",
         "1524",
         "1983",
         "81698.0"
        ],
        [
         "43",
         "43",
         "3657",
         "1986",
         "39146.0"
        ],
        [
         "44",
         "44",
         "5740",
         "1970",
         "25959.0"
        ],
        [
         "45",
         "45",
         "9595",
         "1961",
         "64260.0"
        ],
        [
         "46",
         "46",
         "3158",
         "1973",
         "32300.0"
        ],
        [
         "47",
         "47",
         "5114",
         "1965",
         "74806.0"
        ],
        [
         "48",
         "48",
         "340",
         "1970",
         "72967.0"
        ],
        [
         "49",
         "49",
         "8805",
         "1960",
         "48904.0"
        ]
       ],
       "shape": {
        "columns": 4,
        "rows": 2240
       }
      },
      "text/html": [
       "<div>\n",
       "<style scoped>\n",
       "    .dataframe tbody tr th:only-of-type {\n",
       "        vertical-align: middle;\n",
       "    }\n",
       "\n",
       "    .dataframe tbody tr th {\n",
       "        vertical-align: top;\n",
       "    }\n",
       "\n",
       "    .dataframe thead th {\n",
       "        text-align: right;\n",
       "    }\n",
       "</style>\n",
       "<table border=\"1\" class=\"dataframe\">\n",
       "  <thead>\n",
       "    <tr style=\"text-align: right;\">\n",
       "      <th></th>\n",
       "      <th>Unnamed: 0</th>\n",
       "      <th>Id</th>\n",
       "      <th>Year_Birth</th>\n",
       "      <th>Income</th>\n",
       "    </tr>\n",
       "  </thead>\n",
       "  <tbody>\n",
       "    <tr>\n",
       "      <th>0</th>\n",
       "      <td>0</td>\n",
       "      <td>1826</td>\n",
       "      <td>1970</td>\n",
       "      <td>84835.0</td>\n",
       "    </tr>\n",
       "    <tr>\n",
       "      <th>1</th>\n",
       "      <td>1</td>\n",
       "      <td>1</td>\n",
       "      <td>1961</td>\n",
       "      <td>57091.0</td>\n",
       "    </tr>\n",
       "    <tr>\n",
       "      <th>2</th>\n",
       "      <td>2</td>\n",
       "      <td>10476</td>\n",
       "      <td>1958</td>\n",
       "      <td>67267.0</td>\n",
       "    </tr>\n",
       "    <tr>\n",
       "      <th>3</th>\n",
       "      <td>3</td>\n",
       "      <td>1386</td>\n",
       "      <td>1967</td>\n",
       "      <td>32474.0</td>\n",
       "    </tr>\n",
       "    <tr>\n",
       "      <th>4</th>\n",
       "      <td>4</td>\n",
       "      <td>5371</td>\n",
       "      <td>1989</td>\n",
       "      <td>21474.0</td>\n",
       "    </tr>\n",
       "    <tr>\n",
       "      <th>...</th>\n",
       "      <td>...</td>\n",
       "      <td>...</td>\n",
       "      <td>...</td>\n",
       "      <td>...</td>\n",
       "    </tr>\n",
       "    <tr>\n",
       "      <th>2235</th>\n",
       "      <td>2235</td>\n",
       "      <td>10142</td>\n",
       "      <td>1976</td>\n",
       "      <td>66476.0</td>\n",
       "    </tr>\n",
       "    <tr>\n",
       "      <th>2236</th>\n",
       "      <td>2236</td>\n",
       "      <td>5263</td>\n",
       "      <td>1977</td>\n",
       "      <td>31056.0</td>\n",
       "    </tr>\n",
       "    <tr>\n",
       "      <th>2237</th>\n",
       "      <td>2237</td>\n",
       "      <td>22</td>\n",
       "      <td>1976</td>\n",
       "      <td>46310.0</td>\n",
       "    </tr>\n",
       "    <tr>\n",
       "      <th>2238</th>\n",
       "      <td>2238</td>\n",
       "      <td>528</td>\n",
       "      <td>1978</td>\n",
       "      <td>65819.0</td>\n",
       "    </tr>\n",
       "    <tr>\n",
       "      <th>2239</th>\n",
       "      <td>2239</td>\n",
       "      <td>4070</td>\n",
       "      <td>1969</td>\n",
       "      <td>94871.0</td>\n",
       "    </tr>\n",
       "  </tbody>\n",
       "</table>\n",
       "<p>2240 rows × 4 columns</p>\n",
       "</div>"
      ],
      "text/plain": [
       "      Unnamed: 0     Id  Year_Birth   Income\n",
       "0              0   1826        1970  84835.0\n",
       "1              1      1        1961  57091.0\n",
       "2              2  10476        1958  67267.0\n",
       "3              3   1386        1967  32474.0\n",
       "4              4   5371        1989  21474.0\n",
       "...          ...    ...         ...      ...\n",
       "2235        2235  10142        1976  66476.0\n",
       "2236        2236   5263        1977  31056.0\n",
       "2237        2237     22        1976  46310.0\n",
       "2238        2238    528        1978  65819.0\n",
       "2239        2239   4070        1969  94871.0\n",
       "\n",
       "[2240 rows x 4 columns]"
      ]
     },
     "execution_count": 54,
     "metadata": {},
     "output_type": "execute_result"
    }
   ],
   "source": [
    "clientes_mercado"
   ]
  },
  {
   "cell_type": "code",
   "execution_count": 55,
   "id": "4f109d68",
   "metadata": {},
   "outputs": [],
   "source": [
    "dados_colunas_selecionadas_posicao.to_csv('dados_mercado.csv', index=False)"
   ]
  },
  {
   "cell_type": "code",
   "execution_count": 58,
   "id": "76e9fc53",
   "metadata": {},
   "outputs": [],
   "source": [
    "dados_mercado_corrigido = pd.read_csv('C:/DataScienceONE/Aprendendo_Fazer_ETL/Pandas_I-O_Trabalhando_com_diferentes_formatos_de_arquivos/dados_mercado.csv')"
   ]
  },
  {
   "cell_type": "code",
   "execution_count": 59,
   "id": "038e86cd",
   "metadata": {},
   "outputs": [
    {
     "data": {
      "application/vnd.microsoft.datawrangler.viewer.v0+json": {
       "columns": [
        {
         "name": "index",
         "rawType": "int64",
         "type": "integer"
        },
        {
         "name": "Id",
         "rawType": "int64",
         "type": "integer"
        },
        {
         "name": "Year_Birth",
         "rawType": "int64",
         "type": "integer"
        },
        {
         "name": "Income",
         "rawType": "float64",
         "type": "float"
        }
       ],
       "conversionMethod": "pd.DataFrame",
       "ref": "2477057f-a0b2-49ba-beb0-151c0e7522bb",
       "rows": [
        [
         "0",
         "1826",
         "1970",
         "84835.0"
        ],
        [
         "1",
         "1",
         "1961",
         "57091.0"
        ],
        [
         "2",
         "10476",
         "1958",
         "67267.0"
        ],
        [
         "3",
         "1386",
         "1967",
         "32474.0"
        ],
        [
         "4",
         "5371",
         "1989",
         "21474.0"
        ],
        [
         "5",
         "7348",
         "1958",
         "71691.0"
        ],
        [
         "6",
         "4073",
         "1954",
         "63564.0"
        ],
        [
         "7",
         "1991",
         "1967",
         "44931.0"
        ],
        [
         "8",
         "4047",
         "1954",
         "65324.0"
        ],
        [
         "9",
         "9477",
         "1954",
         "65324.0"
        ],
        [
         "10",
         "2079",
         "1947",
         "81044.0"
        ],
        [
         "11",
         "5642",
         "1979",
         "62499.0"
        ],
        [
         "12",
         "10530",
         "1959",
         "67786.0"
        ],
        [
         "13",
         "2964",
         "1981",
         "26872.0"
        ],
        [
         "14",
         "10311",
         "1969",
         "4428.0"
        ],
        [
         "15",
         "837",
         "1977",
         "54809.0"
        ],
        [
         "16",
         "10521",
         "1977",
         "54809.0"
        ],
        [
         "17",
         "10175",
         "1958",
         "32173.0"
        ],
        [
         "18",
         "1473",
         "1960",
         "47823.0"
        ],
        [
         "19",
         "2795",
         "1958",
         "30523.0"
        ],
        [
         "20",
         "2285",
         "1954",
         "36634.0"
        ],
        [
         "21",
         "115",
         "1966",
         "43456.0"
        ],
        [
         "22",
         "10470",
         "1979",
         "40662.0"
        ],
        [
         "23",
         "4065",
         "1976",
         "49544.0"
        ],
        [
         "24",
         "10968",
         "1969",
         "57731.0"
        ],
        [
         "25",
         "5985",
         "1965",
         "33168.0"
        ],
        [
         "26",
         "5430",
         "1956",
         "54450.0"
        ],
        [
         "27",
         "8432",
         "1956",
         "54450.0"
        ],
        [
         "28",
         "453",
         "1956",
         "35340.0"
        ],
        [
         "29",
         "9687",
         "1975",
         "73170.0"
        ],
        [
         "30",
         "8890",
         "1971",
         "65808.0"
        ],
        [
         "31",
         "9264",
         "1986",
         "79529.0"
        ],
        [
         "32",
         "5824",
         "1972",
         "34578.0"
        ],
        [
         "33",
         "5794",
         "1974",
         "46374.0"
        ],
        [
         "34",
         "3068",
         "1990",
         "18351.0"
        ],
        [
         "35",
         "7962",
         "1987",
         "95169.0"
        ],
        [
         "36",
         "2681",
         "1984",
         "65370.0"
        ],
        [
         "37",
         "10141",
         "1960",
         "39228.0"
        ],
        [
         "38",
         "3725",
         "1961",
         "84865.0"
        ],
        [
         "39",
         "3767",
         "1968",
         "61314.0"
        ],
        [
         "40",
         "5585",
         "1972",
         "21359.0"
        ],
        [
         "41",
         "7030",
         "1955",
         "66465.0"
        ],
        [
         "42",
         "1524",
         "1983",
         "81698.0"
        ],
        [
         "43",
         "3657",
         "1986",
         "39146.0"
        ],
        [
         "44",
         "5740",
         "1970",
         "25959.0"
        ],
        [
         "45",
         "9595",
         "1961",
         "64260.0"
        ],
        [
         "46",
         "3158",
         "1973",
         "32300.0"
        ],
        [
         "47",
         "5114",
         "1965",
         "74806.0"
        ],
        [
         "48",
         "340",
         "1970",
         "72967.0"
        ],
        [
         "49",
         "8805",
         "1960",
         "48904.0"
        ]
       ],
       "shape": {
        "columns": 3,
        "rows": 2240
       }
      },
      "text/html": [
       "<div>\n",
       "<style scoped>\n",
       "    .dataframe tbody tr th:only-of-type {\n",
       "        vertical-align: middle;\n",
       "    }\n",
       "\n",
       "    .dataframe tbody tr th {\n",
       "        vertical-align: top;\n",
       "    }\n",
       "\n",
       "    .dataframe thead th {\n",
       "        text-align: right;\n",
       "    }\n",
       "</style>\n",
       "<table border=\"1\" class=\"dataframe\">\n",
       "  <thead>\n",
       "    <tr style=\"text-align: right;\">\n",
       "      <th></th>\n",
       "      <th>Id</th>\n",
       "      <th>Year_Birth</th>\n",
       "      <th>Income</th>\n",
       "    </tr>\n",
       "  </thead>\n",
       "  <tbody>\n",
       "    <tr>\n",
       "      <th>0</th>\n",
       "      <td>1826</td>\n",
       "      <td>1970</td>\n",
       "      <td>84835.0</td>\n",
       "    </tr>\n",
       "    <tr>\n",
       "      <th>1</th>\n",
       "      <td>1</td>\n",
       "      <td>1961</td>\n",
       "      <td>57091.0</td>\n",
       "    </tr>\n",
       "    <tr>\n",
       "      <th>2</th>\n",
       "      <td>10476</td>\n",
       "      <td>1958</td>\n",
       "      <td>67267.0</td>\n",
       "    </tr>\n",
       "    <tr>\n",
       "      <th>3</th>\n",
       "      <td>1386</td>\n",
       "      <td>1967</td>\n",
       "      <td>32474.0</td>\n",
       "    </tr>\n",
       "    <tr>\n",
       "      <th>4</th>\n",
       "      <td>5371</td>\n",
       "      <td>1989</td>\n",
       "      <td>21474.0</td>\n",
       "    </tr>\n",
       "    <tr>\n",
       "      <th>...</th>\n",
       "      <td>...</td>\n",
       "      <td>...</td>\n",
       "      <td>...</td>\n",
       "    </tr>\n",
       "    <tr>\n",
       "      <th>2235</th>\n",
       "      <td>10142</td>\n",
       "      <td>1976</td>\n",
       "      <td>66476.0</td>\n",
       "    </tr>\n",
       "    <tr>\n",
       "      <th>2236</th>\n",
       "      <td>5263</td>\n",
       "      <td>1977</td>\n",
       "      <td>31056.0</td>\n",
       "    </tr>\n",
       "    <tr>\n",
       "      <th>2237</th>\n",
       "      <td>22</td>\n",
       "      <td>1976</td>\n",
       "      <td>46310.0</td>\n",
       "    </tr>\n",
       "    <tr>\n",
       "      <th>2238</th>\n",
       "      <td>528</td>\n",
       "      <td>1978</td>\n",
       "      <td>65819.0</td>\n",
       "    </tr>\n",
       "    <tr>\n",
       "      <th>2239</th>\n",
       "      <td>4070</td>\n",
       "      <td>1969</td>\n",
       "      <td>94871.0</td>\n",
       "    </tr>\n",
       "  </tbody>\n",
       "</table>\n",
       "<p>2240 rows × 3 columns</p>\n",
       "</div>"
      ],
      "text/plain": [
       "         Id  Year_Birth   Income\n",
       "0      1826        1970  84835.0\n",
       "1         1        1961  57091.0\n",
       "2     10476        1958  67267.0\n",
       "3      1386        1967  32474.0\n",
       "4      5371        1989  21474.0\n",
       "...     ...         ...      ...\n",
       "2235  10142        1976  66476.0\n",
       "2236   5263        1977  31056.0\n",
       "2237     22        1976  46310.0\n",
       "2238    528        1978  65819.0\n",
       "2239   4070        1969  94871.0\n",
       "\n",
       "[2240 rows x 3 columns]"
      ]
     },
     "execution_count": 59,
     "metadata": {},
     "output_type": "execute_result"
    }
   ],
   "source": [
    "dados_mercado_corrigido"
   ]
  }
 ],
 "metadata": {
  "kernelspec": {
   "display_name": "Python 3",
   "language": "python",
   "name": "python3"
  },
  "language_info": {
   "codemirror_mode": {
    "name": "ipython",
    "version": 3
   },
   "file_extension": ".py",
   "mimetype": "text/x-python",
   "name": "python",
   "nbconvert_exporter": "python",
   "pygments_lexer": "ipython3",
   "version": "3.12.7"
  }
 },
 "nbformat": 4,
 "nbformat_minor": 5
}
