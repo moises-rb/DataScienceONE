{
 "cells": [
  {
   "cell_type": "code",
   "execution_count": 1,
   "id": "39ec8960",
   "metadata": {},
   "outputs": [],
   "source": [
    "import pandas as pd"
   ]
  },
  {
   "cell_type": "code",
   "execution_count": 6,
   "id": "138bb387",
   "metadata": {},
   "outputs": [],
   "source": [
    "url = 'https://github.com/moises-rb/DataScienceOne/blob/main/Aprendendo_Fazer_ETL/Pandas_I-O_Trabalhando_com_diferentes_formatos_de_arquivos/base_dados/emissoes_CO2.xlsx?raw=True'"
   ]
  },
  {
   "cell_type": "code",
   "execution_count": 7,
   "id": "3615c0d5",
   "metadata": {},
   "outputs": [],
   "source": [
    "dados_co2 = pd.read_excel(url)"
   ]
  },
  {
   "cell_type": "code",
   "execution_count": 8,
   "id": "3f410272",
   "metadata": {},
   "outputs": [
    {
     "data": {
      "application/vnd.microsoft.datawrangler.viewer.v0+json": {
       "columns": [
        {
         "name": "index",
         "rawType": "int64",
         "type": "integer"
        },
        {
         "name": "País",
         "rawType": "object",
         "type": "string"
        },
        {
         "name": "ISO 3166-1 alpha-3",
         "rawType": "object",
         "type": "string"
        },
        {
         "name": "Ano",
         "rawType": "int64",
         "type": "integer"
        },
        {
         "name": "Total",
         "rawType": "float64",
         "type": "float"
        },
        {
         "name": "Carvão",
         "rawType": "float64",
         "type": "float"
        },
        {
         "name": "Oléo",
         "rawType": "float64",
         "type": "float"
        },
        {
         "name": "Gás",
         "rawType": "float64",
         "type": "float"
        },
        {
         "name": "Cimento",
         "rawType": "float64",
         "type": "float"
        },
        {
         "name": "Queima",
         "rawType": "float64",
         "type": "float"
        },
        {
         "name": "Outro",
         "rawType": "float64",
         "type": "float"
        },
        {
         "name": "Per Capita",
         "rawType": "float64",
         "type": "float"
        }
       ],
       "conversionMethod": "pd.DataFrame",
       "ref": "10f8eb64-2eb8-4d37-8e3d-af87d98adea3",
       "rows": [
        [
         "0",
         "Afeganistão",
         "AFG",
         "1750",
         "0.0",
         null,
         null,
         null,
         null,
         null,
         null,
         null
        ],
        [
         "1",
         "Afeganistão",
         "AFG",
         "1751",
         "0.0",
         null,
         null,
         null,
         null,
         null,
         null,
         null
        ],
        [
         "2",
         "Afeganistão",
         "AFG",
         "1752",
         "0.0",
         null,
         null,
         null,
         null,
         null,
         null,
         null
        ],
        [
         "3",
         "Afeganistão",
         "AFG",
         "1753",
         "0.0",
         null,
         null,
         null,
         null,
         null,
         null,
         null
        ],
        [
         "4",
         "Afeganistão",
         "AFG",
         "1754",
         "0.0",
         null,
         null,
         null,
         null,
         null,
         null,
         null
        ]
       ],
       "shape": {
        "columns": 11,
        "rows": 5
       }
      },
      "text/html": [
       "<div>\n",
       "<style scoped>\n",
       "    .dataframe tbody tr th:only-of-type {\n",
       "        vertical-align: middle;\n",
       "    }\n",
       "\n",
       "    .dataframe tbody tr th {\n",
       "        vertical-align: top;\n",
       "    }\n",
       "\n",
       "    .dataframe thead th {\n",
       "        text-align: right;\n",
       "    }\n",
       "</style>\n",
       "<table border=\"1\" class=\"dataframe\">\n",
       "  <thead>\n",
       "    <tr style=\"text-align: right;\">\n",
       "      <th></th>\n",
       "      <th>País</th>\n",
       "      <th>ISO 3166-1 alpha-3</th>\n",
       "      <th>Ano</th>\n",
       "      <th>Total</th>\n",
       "      <th>Carvão</th>\n",
       "      <th>Oléo</th>\n",
       "      <th>Gás</th>\n",
       "      <th>Cimento</th>\n",
       "      <th>Queima</th>\n",
       "      <th>Outro</th>\n",
       "      <th>Per Capita</th>\n",
       "    </tr>\n",
       "  </thead>\n",
       "  <tbody>\n",
       "    <tr>\n",
       "      <th>0</th>\n",
       "      <td>Afeganistão</td>\n",
       "      <td>AFG</td>\n",
       "      <td>1750</td>\n",
       "      <td>0.0</td>\n",
       "      <td>NaN</td>\n",
       "      <td>NaN</td>\n",
       "      <td>NaN</td>\n",
       "      <td>NaN</td>\n",
       "      <td>NaN</td>\n",
       "      <td>NaN</td>\n",
       "      <td>NaN</td>\n",
       "    </tr>\n",
       "    <tr>\n",
       "      <th>1</th>\n",
       "      <td>Afeganistão</td>\n",
       "      <td>AFG</td>\n",
       "      <td>1751</td>\n",
       "      <td>0.0</td>\n",
       "      <td>NaN</td>\n",
       "      <td>NaN</td>\n",
       "      <td>NaN</td>\n",
       "      <td>NaN</td>\n",
       "      <td>NaN</td>\n",
       "      <td>NaN</td>\n",
       "      <td>NaN</td>\n",
       "    </tr>\n",
       "    <tr>\n",
       "      <th>2</th>\n",
       "      <td>Afeganistão</td>\n",
       "      <td>AFG</td>\n",
       "      <td>1752</td>\n",
       "      <td>0.0</td>\n",
       "      <td>NaN</td>\n",
       "      <td>NaN</td>\n",
       "      <td>NaN</td>\n",
       "      <td>NaN</td>\n",
       "      <td>NaN</td>\n",
       "      <td>NaN</td>\n",
       "      <td>NaN</td>\n",
       "    </tr>\n",
       "    <tr>\n",
       "      <th>3</th>\n",
       "      <td>Afeganistão</td>\n",
       "      <td>AFG</td>\n",
       "      <td>1753</td>\n",
       "      <td>0.0</td>\n",
       "      <td>NaN</td>\n",
       "      <td>NaN</td>\n",
       "      <td>NaN</td>\n",
       "      <td>NaN</td>\n",
       "      <td>NaN</td>\n",
       "      <td>NaN</td>\n",
       "      <td>NaN</td>\n",
       "    </tr>\n",
       "    <tr>\n",
       "      <th>4</th>\n",
       "      <td>Afeganistão</td>\n",
       "      <td>AFG</td>\n",
       "      <td>1754</td>\n",
       "      <td>0.0</td>\n",
       "      <td>NaN</td>\n",
       "      <td>NaN</td>\n",
       "      <td>NaN</td>\n",
       "      <td>NaN</td>\n",
       "      <td>NaN</td>\n",
       "      <td>NaN</td>\n",
       "      <td>NaN</td>\n",
       "    </tr>\n",
       "  </tbody>\n",
       "</table>\n",
       "</div>"
      ],
      "text/plain": [
       "          País ISO 3166-1 alpha-3   Ano  Total  Carvão  Oléo  Gás  Cimento  \\\n",
       "0  Afeganistão                AFG  1750    0.0     NaN   NaN  NaN      NaN   \n",
       "1  Afeganistão                AFG  1751    0.0     NaN   NaN  NaN      NaN   \n",
       "2  Afeganistão                AFG  1752    0.0     NaN   NaN  NaN      NaN   \n",
       "3  Afeganistão                AFG  1753    0.0     NaN   NaN  NaN      NaN   \n",
       "4  Afeganistão                AFG  1754    0.0     NaN   NaN  NaN      NaN   \n",
       "\n",
       "   Queima  Outro  Per Capita  \n",
       "0     NaN    NaN         NaN  \n",
       "1     NaN    NaN         NaN  \n",
       "2     NaN    NaN         NaN  \n",
       "3     NaN    NaN         NaN  \n",
       "4     NaN    NaN         NaN  "
      ]
     },
     "execution_count": 8,
     "metadata": {},
     "output_type": "execute_result"
    }
   ],
   "source": [
    "dados_co2.head()"
   ]
  },
  {
   "cell_type": "code",
   "execution_count": 9,
   "id": "b81721df",
   "metadata": {},
   "outputs": [
    {
     "data": {
      "text/plain": [
       "['emissoes_C02', 'emissoes_percapita', 'fontes']"
      ]
     },
     "execution_count": 9,
     "metadata": {},
     "output_type": "execute_result"
    }
   ],
   "source": [
    "pd.ExcelFile(url).sheet_names"
   ]
  },
  {
   "cell_type": "code",
   "execution_count": 10,
   "id": "ef77cc8b",
   "metadata": {},
   "outputs": [],
   "source": [
    "percapita = pd.read_excel(url, sheet_name='emissoes_percapita')"
   ]
  },
  {
   "cell_type": "code",
   "execution_count": 11,
   "id": "fc8e382c",
   "metadata": {},
   "outputs": [
    {
     "data": {
      "application/vnd.microsoft.datawrangler.viewer.v0+json": {
       "columns": [
        {
         "name": "index",
         "rawType": "int64",
         "type": "integer"
        },
        {
         "name": "País",
         "rawType": "object",
         "type": "string"
        },
        {
         "name": "ISO 3166-1 alpha-3",
         "rawType": "object",
         "type": "string"
        },
        {
         "name": "Ano",
         "rawType": "int64",
         "type": "integer"
        },
        {
         "name": "Total",
         "rawType": "float64",
         "type": "float"
        },
        {
         "name": "Carvão",
         "rawType": "float64",
         "type": "float"
        },
        {
         "name": "Óleo",
         "rawType": "float64",
         "type": "float"
        },
        {
         "name": "Gás",
         "rawType": "float64",
         "type": "float"
        },
        {
         "name": "Cimento",
         "rawType": "float64",
         "type": "float"
        },
        {
         "name": "Queima",
         "rawType": "float64",
         "type": "float"
        },
        {
         "name": "Outro",
         "rawType": "float64",
         "type": "float"
        }
       ],
       "conversionMethod": "pd.DataFrame",
       "ref": "4cf21394-e999-4648-8134-fd8a4605ffdf",
       "rows": [
        [
         "0",
         "Afeganistão",
         "AFG",
         "1750",
         null,
         null,
         null,
         null,
         null,
         null,
         null
        ],
        [
         "1",
         "Afeganistão",
         "AFG",
         "1751",
         null,
         null,
         null,
         null,
         null,
         null,
         null
        ],
        [
         "2",
         "Afeganistão",
         "AFG",
         "1752",
         null,
         null,
         null,
         null,
         null,
         null,
         null
        ],
        [
         "3",
         "Afeganistão",
         "AFG",
         "1753",
         null,
         null,
         null,
         null,
         null,
         null,
         null
        ],
        [
         "4",
         "Afeganistão",
         "AFG",
         "1754",
         null,
         null,
         null,
         null,
         null,
         null,
         null
        ]
       ],
       "shape": {
        "columns": 10,
        "rows": 5
       }
      },
      "text/html": [
       "<div>\n",
       "<style scoped>\n",
       "    .dataframe tbody tr th:only-of-type {\n",
       "        vertical-align: middle;\n",
       "    }\n",
       "\n",
       "    .dataframe tbody tr th {\n",
       "        vertical-align: top;\n",
       "    }\n",
       "\n",
       "    .dataframe thead th {\n",
       "        text-align: right;\n",
       "    }\n",
       "</style>\n",
       "<table border=\"1\" class=\"dataframe\">\n",
       "  <thead>\n",
       "    <tr style=\"text-align: right;\">\n",
       "      <th></th>\n",
       "      <th>País</th>\n",
       "      <th>ISO 3166-1 alpha-3</th>\n",
       "      <th>Ano</th>\n",
       "      <th>Total</th>\n",
       "      <th>Carvão</th>\n",
       "      <th>Óleo</th>\n",
       "      <th>Gás</th>\n",
       "      <th>Cimento</th>\n",
       "      <th>Queima</th>\n",
       "      <th>Outro</th>\n",
       "    </tr>\n",
       "  </thead>\n",
       "  <tbody>\n",
       "    <tr>\n",
       "      <th>0</th>\n",
       "      <td>Afeganistão</td>\n",
       "      <td>AFG</td>\n",
       "      <td>1750</td>\n",
       "      <td>NaN</td>\n",
       "      <td>NaN</td>\n",
       "      <td>NaN</td>\n",
       "      <td>NaN</td>\n",
       "      <td>NaN</td>\n",
       "      <td>NaN</td>\n",
       "      <td>NaN</td>\n",
       "    </tr>\n",
       "    <tr>\n",
       "      <th>1</th>\n",
       "      <td>Afeganistão</td>\n",
       "      <td>AFG</td>\n",
       "      <td>1751</td>\n",
       "      <td>NaN</td>\n",
       "      <td>NaN</td>\n",
       "      <td>NaN</td>\n",
       "      <td>NaN</td>\n",
       "      <td>NaN</td>\n",
       "      <td>NaN</td>\n",
       "      <td>NaN</td>\n",
       "    </tr>\n",
       "    <tr>\n",
       "      <th>2</th>\n",
       "      <td>Afeganistão</td>\n",
       "      <td>AFG</td>\n",
       "      <td>1752</td>\n",
       "      <td>NaN</td>\n",
       "      <td>NaN</td>\n",
       "      <td>NaN</td>\n",
       "      <td>NaN</td>\n",
       "      <td>NaN</td>\n",
       "      <td>NaN</td>\n",
       "      <td>NaN</td>\n",
       "    </tr>\n",
       "    <tr>\n",
       "      <th>3</th>\n",
       "      <td>Afeganistão</td>\n",
       "      <td>AFG</td>\n",
       "      <td>1753</td>\n",
       "      <td>NaN</td>\n",
       "      <td>NaN</td>\n",
       "      <td>NaN</td>\n",
       "      <td>NaN</td>\n",
       "      <td>NaN</td>\n",
       "      <td>NaN</td>\n",
       "      <td>NaN</td>\n",
       "    </tr>\n",
       "    <tr>\n",
       "      <th>4</th>\n",
       "      <td>Afeganistão</td>\n",
       "      <td>AFG</td>\n",
       "      <td>1754</td>\n",
       "      <td>NaN</td>\n",
       "      <td>NaN</td>\n",
       "      <td>NaN</td>\n",
       "      <td>NaN</td>\n",
       "      <td>NaN</td>\n",
       "      <td>NaN</td>\n",
       "      <td>NaN</td>\n",
       "    </tr>\n",
       "  </tbody>\n",
       "</table>\n",
       "</div>"
      ],
      "text/plain": [
       "          País ISO 3166-1 alpha-3   Ano  Total  Carvão  Óleo  Gás  Cimento  \\\n",
       "0  Afeganistão                AFG  1750    NaN     NaN   NaN  NaN      NaN   \n",
       "1  Afeganistão                AFG  1751    NaN     NaN   NaN  NaN      NaN   \n",
       "2  Afeganistão                AFG  1752    NaN     NaN   NaN  NaN      NaN   \n",
       "3  Afeganistão                AFG  1753    NaN     NaN   NaN  NaN      NaN   \n",
       "4  Afeganistão                AFG  1754    NaN     NaN   NaN  NaN      NaN   \n",
       "\n",
       "   Queima  Outro  \n",
       "0     NaN    NaN  \n",
       "1     NaN    NaN  \n",
       "2     NaN    NaN  \n",
       "3     NaN    NaN  \n",
       "4     NaN    NaN  "
      ]
     },
     "execution_count": 11,
     "metadata": {},
     "output_type": "execute_result"
    }
   ],
   "source": [
    "percapita.head()"
   ]
  },
  {
   "cell_type": "code",
   "execution_count": 12,
   "id": "99362b5a",
   "metadata": {},
   "outputs": [],
   "source": [
    "fontes = pd.read_excel(url, sheet_name='fontes')"
   ]
  },
  {
   "cell_type": "code",
   "execution_count": 13,
   "id": "ceb75567",
   "metadata": {},
   "outputs": [
    {
     "data": {
      "application/vnd.microsoft.datawrangler.viewer.v0+json": {
       "columns": [
        {
         "name": "index",
         "rawType": "int64",
         "type": "integer"
        },
        {
         "name": "País",
         "rawType": "object",
         "type": "string"
        },
        {
         "name": "ISO 3166-1 alpha-3",
         "rawType": "object",
         "type": "string"
        },
        {
         "name": "Ano",
         "rawType": "int64",
         "type": "integer"
        },
        {
         "name": "Total",
         "rawType": "object",
         "type": "string"
        },
        {
         "name": "Carvão",
         "rawType": "object",
         "type": "string"
        },
        {
         "name": "Oléo",
         "rawType": "object",
         "type": "string"
        },
        {
         "name": "Gás",
         "rawType": "object",
         "type": "string"
        },
        {
         "name": "Cimento",
         "rawType": "object",
         "type": "string"
        },
        {
         "name": "Queima",
         "rawType": "object",
         "type": "string"
        },
        {
         "name": "Outro",
         "rawType": "object",
         "type": "string"
        },
        {
         "name": "Per Capita",
         "rawType": "object",
         "type": "string"
        }
       ],
       "conversionMethod": "pd.DataFrame",
       "ref": "7097e4f9-2af0-4e7c-8d42-cb6d5db5318c",
       "rows": [
        [
         "0",
         "Afeganistão",
         "AFG",
         "1750",
         "[NONE]",
         "[NONE]",
         "[NONE]",
         "[NONE]",
         "[NONE]",
         "[NONE]",
         "[NONE]",
         "[NONE]"
        ],
        [
         "1",
         "Afeganistão",
         "AFG",
         "1751",
         "[NONE]",
         "[NONE]",
         "[NONE]",
         "[NONE]",
         "[NONE]",
         "[NONE]",
         "[NONE]",
         "[NONE]"
        ],
        [
         "2",
         "Afeganistão",
         "AFG",
         "1752",
         "[NONE]",
         "[NONE]",
         "[NONE]",
         "[NONE]",
         "[NONE]",
         "[NONE]",
         "[NONE]",
         "[NONE]"
        ],
        [
         "3",
         "Afeganistão",
         "AFG",
         "1753",
         "[NONE]",
         "[NONE]",
         "[NONE]",
         "[NONE]",
         "[NONE]",
         "[NONE]",
         "[NONE]",
         "[NONE]"
        ],
        [
         "4",
         "Afeganistão",
         "AFG",
         "1754",
         "[NONE]",
         "[NONE]",
         "[NONE]",
         "[NONE]",
         "[NONE]",
         "[NONE]",
         "[NONE]",
         "[NONE]"
        ]
       ],
       "shape": {
        "columns": 11,
        "rows": 5
       }
      },
      "text/html": [
       "<div>\n",
       "<style scoped>\n",
       "    .dataframe tbody tr th:only-of-type {\n",
       "        vertical-align: middle;\n",
       "    }\n",
       "\n",
       "    .dataframe tbody tr th {\n",
       "        vertical-align: top;\n",
       "    }\n",
       "\n",
       "    .dataframe thead th {\n",
       "        text-align: right;\n",
       "    }\n",
       "</style>\n",
       "<table border=\"1\" class=\"dataframe\">\n",
       "  <thead>\n",
       "    <tr style=\"text-align: right;\">\n",
       "      <th></th>\n",
       "      <th>País</th>\n",
       "      <th>ISO 3166-1 alpha-3</th>\n",
       "      <th>Ano</th>\n",
       "      <th>Total</th>\n",
       "      <th>Carvão</th>\n",
       "      <th>Oléo</th>\n",
       "      <th>Gás</th>\n",
       "      <th>Cimento</th>\n",
       "      <th>Queima</th>\n",
       "      <th>Outro</th>\n",
       "      <th>Per Capita</th>\n",
       "    </tr>\n",
       "  </thead>\n",
       "  <tbody>\n",
       "    <tr>\n",
       "      <th>0</th>\n",
       "      <td>Afeganistão</td>\n",
       "      <td>AFG</td>\n",
       "      <td>1750</td>\n",
       "      <td>[NONE]</td>\n",
       "      <td>[NONE]</td>\n",
       "      <td>[NONE]</td>\n",
       "      <td>[NONE]</td>\n",
       "      <td>[NONE]</td>\n",
       "      <td>[NONE]</td>\n",
       "      <td>[NONE]</td>\n",
       "      <td>[NONE]</td>\n",
       "    </tr>\n",
       "    <tr>\n",
       "      <th>1</th>\n",
       "      <td>Afeganistão</td>\n",
       "      <td>AFG</td>\n",
       "      <td>1751</td>\n",
       "      <td>[NONE]</td>\n",
       "      <td>[NONE]</td>\n",
       "      <td>[NONE]</td>\n",
       "      <td>[NONE]</td>\n",
       "      <td>[NONE]</td>\n",
       "      <td>[NONE]</td>\n",
       "      <td>[NONE]</td>\n",
       "      <td>[NONE]</td>\n",
       "    </tr>\n",
       "    <tr>\n",
       "      <th>2</th>\n",
       "      <td>Afeganistão</td>\n",
       "      <td>AFG</td>\n",
       "      <td>1752</td>\n",
       "      <td>[NONE]</td>\n",
       "      <td>[NONE]</td>\n",
       "      <td>[NONE]</td>\n",
       "      <td>[NONE]</td>\n",
       "      <td>[NONE]</td>\n",
       "      <td>[NONE]</td>\n",
       "      <td>[NONE]</td>\n",
       "      <td>[NONE]</td>\n",
       "    </tr>\n",
       "    <tr>\n",
       "      <th>3</th>\n",
       "      <td>Afeganistão</td>\n",
       "      <td>AFG</td>\n",
       "      <td>1753</td>\n",
       "      <td>[NONE]</td>\n",
       "      <td>[NONE]</td>\n",
       "      <td>[NONE]</td>\n",
       "      <td>[NONE]</td>\n",
       "      <td>[NONE]</td>\n",
       "      <td>[NONE]</td>\n",
       "      <td>[NONE]</td>\n",
       "      <td>[NONE]</td>\n",
       "    </tr>\n",
       "    <tr>\n",
       "      <th>4</th>\n",
       "      <td>Afeganistão</td>\n",
       "      <td>AFG</td>\n",
       "      <td>1754</td>\n",
       "      <td>[NONE]</td>\n",
       "      <td>[NONE]</td>\n",
       "      <td>[NONE]</td>\n",
       "      <td>[NONE]</td>\n",
       "      <td>[NONE]</td>\n",
       "      <td>[NONE]</td>\n",
       "      <td>[NONE]</td>\n",
       "      <td>[NONE]</td>\n",
       "    </tr>\n",
       "  </tbody>\n",
       "</table>\n",
       "</div>"
      ],
      "text/plain": [
       "          País ISO 3166-1 alpha-3   Ano   Total  Carvão    Oléo     Gás  \\\n",
       "0  Afeganistão                AFG  1750  [NONE]  [NONE]  [NONE]  [NONE]   \n",
       "1  Afeganistão                AFG  1751  [NONE]  [NONE]  [NONE]  [NONE]   \n",
       "2  Afeganistão                AFG  1752  [NONE]  [NONE]  [NONE]  [NONE]   \n",
       "3  Afeganistão                AFG  1753  [NONE]  [NONE]  [NONE]  [NONE]   \n",
       "4  Afeganistão                AFG  1754  [NONE]  [NONE]  [NONE]  [NONE]   \n",
       "\n",
       "  Cimento  Queima   Outro Per Capita  \n",
       "0  [NONE]  [NONE]  [NONE]     [NONE]  \n",
       "1  [NONE]  [NONE]  [NONE]     [NONE]  \n",
       "2  [NONE]  [NONE]  [NONE]     [NONE]  \n",
       "3  [NONE]  [NONE]  [NONE]     [NONE]  \n",
       "4  [NONE]  [NONE]  [NONE]     [NONE]  "
      ]
     },
     "execution_count": 13,
     "metadata": {},
     "output_type": "execute_result"
    }
   ],
   "source": [
    "fontes.head()"
   ]
  },
  {
   "cell_type": "code",
   "execution_count": 14,
   "id": "6e7d98e6",
   "metadata": {},
   "outputs": [],
   "source": [
    "intervalo = pd.read_excel(url, sheet_name='emissoes_C02', usecols='A:D')"
   ]
  },
  {
   "cell_type": "code",
   "execution_count": 15,
   "id": "816f5fb1",
   "metadata": {},
   "outputs": [
    {
     "data": {
      "application/vnd.microsoft.datawrangler.viewer.v0+json": {
       "columns": [
        {
         "name": "index",
         "rawType": "int64",
         "type": "integer"
        },
        {
         "name": "País",
         "rawType": "object",
         "type": "string"
        },
        {
         "name": "ISO 3166-1 alpha-3",
         "rawType": "object",
         "type": "unknown"
        },
        {
         "name": "Ano",
         "rawType": "int64",
         "type": "integer"
        },
        {
         "name": "Total",
         "rawType": "float64",
         "type": "float"
        }
       ],
       "conversionMethod": "pd.DataFrame",
       "ref": "012d1549-ecd1-4828-972a-32de3c5e2efa",
       "rows": [
        [
         "0",
         "Afeganistão",
         "AFG",
         "1750",
         "0.0"
        ],
        [
         "1",
         "Afeganistão",
         "AFG",
         "1751",
         "0.0"
        ],
        [
         "2",
         "Afeganistão",
         "AFG",
         "1752",
         "0.0"
        ],
        [
         "3",
         "Afeganistão",
         "AFG",
         "1753",
         "0.0"
        ],
        [
         "4",
         "Afeganistão",
         "AFG",
         "1754",
         "0.0"
        ],
        [
         "5",
         "Afeganistão",
         "AFG",
         "1755",
         "0.0"
        ],
        [
         "6",
         "Afeganistão",
         "AFG",
         "1756",
         "0.0"
        ],
        [
         "7",
         "Afeganistão",
         "AFG",
         "1757",
         "0.0"
        ],
        [
         "8",
         "Afeganistão",
         "AFG",
         "1758",
         "0.0"
        ],
        [
         "9",
         "Afeganistão",
         "AFG",
         "1759",
         "0.0"
        ],
        [
         "10",
         "Afeganistão",
         "AFG",
         "1760",
         "0.0"
        ],
        [
         "11",
         "Afeganistão",
         "AFG",
         "1761",
         "0.0"
        ],
        [
         "12",
         "Afeganistão",
         "AFG",
         "1762",
         "0.0"
        ],
        [
         "13",
         "Afeganistão",
         "AFG",
         "1763",
         "0.0"
        ],
        [
         "14",
         "Afeganistão",
         "AFG",
         "1764",
         "0.0"
        ],
        [
         "15",
         "Afeganistão",
         "AFG",
         "1765",
         "0.0"
        ],
        [
         "16",
         "Afeganistão",
         "AFG",
         "1766",
         "0.0"
        ],
        [
         "17",
         "Afeganistão",
         "AFG",
         "1767",
         "0.0"
        ],
        [
         "18",
         "Afeganistão",
         "AFG",
         "1768",
         "0.0"
        ],
        [
         "19",
         "Afeganistão",
         "AFG",
         "1769",
         "0.0"
        ],
        [
         "20",
         "Afeganistão",
         "AFG",
         "1770",
         "0.0"
        ],
        [
         "21",
         "Afeganistão",
         "AFG",
         "1771",
         "0.0"
        ],
        [
         "22",
         "Afeganistão",
         "AFG",
         "1772",
         "0.0"
        ],
        [
         "23",
         "Afeganistão",
         "AFG",
         "1773",
         "0.0"
        ],
        [
         "24",
         "Afeganistão",
         "AFG",
         "1774",
         "0.0"
        ],
        [
         "25",
         "Afeganistão",
         "AFG",
         "1775",
         "0.0"
        ],
        [
         "26",
         "Afeganistão",
         "AFG",
         "1776",
         "0.0"
        ],
        [
         "27",
         "Afeganistão",
         "AFG",
         "1777",
         "0.0"
        ],
        [
         "28",
         "Afeganistão",
         "AFG",
         "1778",
         "0.0"
        ],
        [
         "29",
         "Afeganistão",
         "AFG",
         "1779",
         "0.0"
        ],
        [
         "30",
         "Afeganistão",
         "AFG",
         "1780",
         "0.0"
        ],
        [
         "31",
         "Afeganistão",
         "AFG",
         "1781",
         "0.0"
        ],
        [
         "32",
         "Afeganistão",
         "AFG",
         "1782",
         "0.0"
        ],
        [
         "33",
         "Afeganistão",
         "AFG",
         "1783",
         "0.0"
        ],
        [
         "34",
         "Afeganistão",
         "AFG",
         "1784",
         "0.0"
        ],
        [
         "35",
         "Afeganistão",
         "AFG",
         "1785",
         "0.0"
        ],
        [
         "36",
         "Afeganistão",
         "AFG",
         "1786",
         "0.0"
        ],
        [
         "37",
         "Afeganistão",
         "AFG",
         "1787",
         "0.0"
        ],
        [
         "38",
         "Afeganistão",
         "AFG",
         "1788",
         "0.0"
        ],
        [
         "39",
         "Afeganistão",
         "AFG",
         "1789",
         "0.0"
        ],
        [
         "40",
         "Afeganistão",
         "AFG",
         "1790",
         "0.0"
        ],
        [
         "41",
         "Afeganistão",
         "AFG",
         "1791",
         "0.0"
        ],
        [
         "42",
         "Afeganistão",
         "AFG",
         "1792",
         "0.0"
        ],
        [
         "43",
         "Afeganistão",
         "AFG",
         "1793",
         "0.0"
        ],
        [
         "44",
         "Afeganistão",
         "AFG",
         "1794",
         "0.0"
        ],
        [
         "45",
         "Afeganistão",
         "AFG",
         "1795",
         "0.0"
        ],
        [
         "46",
         "Afeganistão",
         "AFG",
         "1796",
         "0.0"
        ],
        [
         "47",
         "Afeganistão",
         "AFG",
         "1797",
         "0.0"
        ],
        [
         "48",
         "Afeganistão",
         "AFG",
         "1798",
         "0.0"
        ],
        [
         "49",
         "Afeganistão",
         "AFG",
         "1799",
         "0.0"
        ]
       ],
       "shape": {
        "columns": 4,
        "rows": 63104
       }
      },
      "text/html": [
       "<div>\n",
       "<style scoped>\n",
       "    .dataframe tbody tr th:only-of-type {\n",
       "        vertical-align: middle;\n",
       "    }\n",
       "\n",
       "    .dataframe tbody tr th {\n",
       "        vertical-align: top;\n",
       "    }\n",
       "\n",
       "    .dataframe thead th {\n",
       "        text-align: right;\n",
       "    }\n",
       "</style>\n",
       "<table border=\"1\" class=\"dataframe\">\n",
       "  <thead>\n",
       "    <tr style=\"text-align: right;\">\n",
       "      <th></th>\n",
       "      <th>País</th>\n",
       "      <th>ISO 3166-1 alpha-3</th>\n",
       "      <th>Ano</th>\n",
       "      <th>Total</th>\n",
       "    </tr>\n",
       "  </thead>\n",
       "  <tbody>\n",
       "    <tr>\n",
       "      <th>0</th>\n",
       "      <td>Afeganistão</td>\n",
       "      <td>AFG</td>\n",
       "      <td>1750</td>\n",
       "      <td>0.000000e+00</td>\n",
       "    </tr>\n",
       "    <tr>\n",
       "      <th>1</th>\n",
       "      <td>Afeganistão</td>\n",
       "      <td>AFG</td>\n",
       "      <td>1751</td>\n",
       "      <td>0.000000e+00</td>\n",
       "    </tr>\n",
       "    <tr>\n",
       "      <th>2</th>\n",
       "      <td>Afeganistão</td>\n",
       "      <td>AFG</td>\n",
       "      <td>1752</td>\n",
       "      <td>0.000000e+00</td>\n",
       "    </tr>\n",
       "    <tr>\n",
       "      <th>3</th>\n",
       "      <td>Afeganistão</td>\n",
       "      <td>AFG</td>\n",
       "      <td>1753</td>\n",
       "      <td>0.000000e+00</td>\n",
       "    </tr>\n",
       "    <tr>\n",
       "      <th>4</th>\n",
       "      <td>Afeganistão</td>\n",
       "      <td>AFG</td>\n",
       "      <td>1754</td>\n",
       "      <td>0.000000e+00</td>\n",
       "    </tr>\n",
       "    <tr>\n",
       "      <th>...</th>\n",
       "      <td>...</td>\n",
       "      <td>...</td>\n",
       "      <td>...</td>\n",
       "      <td>...</td>\n",
       "    </tr>\n",
       "    <tr>\n",
       "      <th>63099</th>\n",
       "      <td>Global</td>\n",
       "      <td>WLD</td>\n",
       "      <td>2017</td>\n",
       "      <td>3.609674e+10</td>\n",
       "    </tr>\n",
       "    <tr>\n",
       "      <th>63100</th>\n",
       "      <td>Global</td>\n",
       "      <td>WLD</td>\n",
       "      <td>2018</td>\n",
       "      <td>3.682651e+10</td>\n",
       "    </tr>\n",
       "    <tr>\n",
       "      <th>63101</th>\n",
       "      <td>Global</td>\n",
       "      <td>WLD</td>\n",
       "      <td>2019</td>\n",
       "      <td>3.708256e+10</td>\n",
       "    </tr>\n",
       "    <tr>\n",
       "      <th>63102</th>\n",
       "      <td>Global</td>\n",
       "      <td>WLD</td>\n",
       "      <td>2020</td>\n",
       "      <td>3.526409e+10</td>\n",
       "    </tr>\n",
       "    <tr>\n",
       "      <th>63103</th>\n",
       "      <td>Global</td>\n",
       "      <td>WLD</td>\n",
       "      <td>2021</td>\n",
       "      <td>3.712385e+10</td>\n",
       "    </tr>\n",
       "  </tbody>\n",
       "</table>\n",
       "<p>63104 rows × 4 columns</p>\n",
       "</div>"
      ],
      "text/plain": [
       "              País ISO 3166-1 alpha-3   Ano         Total\n",
       "0      Afeganistão                AFG  1750  0.000000e+00\n",
       "1      Afeganistão                AFG  1751  0.000000e+00\n",
       "2      Afeganistão                AFG  1752  0.000000e+00\n",
       "3      Afeganistão                AFG  1753  0.000000e+00\n",
       "4      Afeganistão                AFG  1754  0.000000e+00\n",
       "...            ...                ...   ...           ...\n",
       "63099       Global                WLD  2017  3.609674e+10\n",
       "63100       Global                WLD  2018  3.682651e+10\n",
       "63101       Global                WLD  2019  3.708256e+10\n",
       "63102       Global                WLD  2020  3.526409e+10\n",
       "63103       Global                WLD  2021  3.712385e+10\n",
       "\n",
       "[63104 rows x 4 columns]"
      ]
     },
     "execution_count": 15,
     "metadata": {},
     "output_type": "execute_result"
    }
   ],
   "source": [
    "intervalo"
   ]
  },
  {
   "cell_type": "code",
   "execution_count": 22,
   "id": "ccbb1799",
   "metadata": {},
   "outputs": [],
   "source": [
    "intervalo_2 = pd.read_excel(url, sheet_name='emissoes_C02', usecols='A:D', nrows=10)"
   ]
  },
  {
   "cell_type": "code",
   "execution_count": 21,
   "id": "678a63cd",
   "metadata": {},
   "outputs": [
    {
     "data": {
      "application/vnd.microsoft.datawrangler.viewer.v0+json": {
       "columns": [
        {
         "name": "index",
         "rawType": "int64",
         "type": "integer"
        },
        {
         "name": "País",
         "rawType": "object",
         "type": "string"
        },
        {
         "name": "ISO 3166-1 alpha-3",
         "rawType": "object",
         "type": "string"
        },
        {
         "name": "Ano",
         "rawType": "int64",
         "type": "integer"
        },
        {
         "name": "Total",
         "rawType": "object",
         "type": "string"
        }
       ],
       "conversionMethod": "pd.DataFrame",
       "ref": "4d288604-226b-4556-bd8c-dd0692a9bc17",
       "rows": [
        [
         "0",
         "Afeganistão",
         "AFG",
         "1750",
         "[NONE]"
        ],
        [
         "1",
         "Afeganistão",
         "AFG",
         "1751",
         "[NONE]"
        ],
        [
         "2",
         "Afeganistão",
         "AFG",
         "1752",
         "[NONE]"
        ],
        [
         "3",
         "Afeganistão",
         "AFG",
         "1753",
         "[NONE]"
        ],
        [
         "4",
         "Afeganistão",
         "AFG",
         "1754",
         "[NONE]"
        ],
        [
         "5",
         "Afeganistão",
         "AFG",
         "1755",
         "[NONE]"
        ],
        [
         "6",
         "Afeganistão",
         "AFG",
         "1756",
         "[NONE]"
        ],
        [
         "7",
         "Afeganistão",
         "AFG",
         "1757",
         "[NONE]"
        ],
        [
         "8",
         "Afeganistão",
         "AFG",
         "1758",
         "[NONE]"
        ],
        [
         "9",
         "Afeganistão",
         "AFG",
         "1759",
         "[NONE]"
        ]
       ],
       "shape": {
        "columns": 4,
        "rows": 10
       }
      },
      "text/html": [
       "<div>\n",
       "<style scoped>\n",
       "    .dataframe tbody tr th:only-of-type {\n",
       "        vertical-align: middle;\n",
       "    }\n",
       "\n",
       "    .dataframe tbody tr th {\n",
       "        vertical-align: top;\n",
       "    }\n",
       "\n",
       "    .dataframe thead th {\n",
       "        text-align: right;\n",
       "    }\n",
       "</style>\n",
       "<table border=\"1\" class=\"dataframe\">\n",
       "  <thead>\n",
       "    <tr style=\"text-align: right;\">\n",
       "      <th></th>\n",
       "      <th>País</th>\n",
       "      <th>ISO 3166-1 alpha-3</th>\n",
       "      <th>Ano</th>\n",
       "      <th>Total</th>\n",
       "    </tr>\n",
       "  </thead>\n",
       "  <tbody>\n",
       "    <tr>\n",
       "      <th>0</th>\n",
       "      <td>Afeganistão</td>\n",
       "      <td>AFG</td>\n",
       "      <td>1750</td>\n",
       "      <td>[NONE]</td>\n",
       "    </tr>\n",
       "    <tr>\n",
       "      <th>1</th>\n",
       "      <td>Afeganistão</td>\n",
       "      <td>AFG</td>\n",
       "      <td>1751</td>\n",
       "      <td>[NONE]</td>\n",
       "    </tr>\n",
       "    <tr>\n",
       "      <th>2</th>\n",
       "      <td>Afeganistão</td>\n",
       "      <td>AFG</td>\n",
       "      <td>1752</td>\n",
       "      <td>[NONE]</td>\n",
       "    </tr>\n",
       "    <tr>\n",
       "      <th>3</th>\n",
       "      <td>Afeganistão</td>\n",
       "      <td>AFG</td>\n",
       "      <td>1753</td>\n",
       "      <td>[NONE]</td>\n",
       "    </tr>\n",
       "    <tr>\n",
       "      <th>4</th>\n",
       "      <td>Afeganistão</td>\n",
       "      <td>AFG</td>\n",
       "      <td>1754</td>\n",
       "      <td>[NONE]</td>\n",
       "    </tr>\n",
       "    <tr>\n",
       "      <th>5</th>\n",
       "      <td>Afeganistão</td>\n",
       "      <td>AFG</td>\n",
       "      <td>1755</td>\n",
       "      <td>[NONE]</td>\n",
       "    </tr>\n",
       "    <tr>\n",
       "      <th>6</th>\n",
       "      <td>Afeganistão</td>\n",
       "      <td>AFG</td>\n",
       "      <td>1756</td>\n",
       "      <td>[NONE]</td>\n",
       "    </tr>\n",
       "    <tr>\n",
       "      <th>7</th>\n",
       "      <td>Afeganistão</td>\n",
       "      <td>AFG</td>\n",
       "      <td>1757</td>\n",
       "      <td>[NONE]</td>\n",
       "    </tr>\n",
       "    <tr>\n",
       "      <th>8</th>\n",
       "      <td>Afeganistão</td>\n",
       "      <td>AFG</td>\n",
       "      <td>1758</td>\n",
       "      <td>[NONE]</td>\n",
       "    </tr>\n",
       "    <tr>\n",
       "      <th>9</th>\n",
       "      <td>Afeganistão</td>\n",
       "      <td>AFG</td>\n",
       "      <td>1759</td>\n",
       "      <td>[NONE]</td>\n",
       "    </tr>\n",
       "  </tbody>\n",
       "</table>\n",
       "</div>"
      ],
      "text/plain": [
       "          País ISO 3166-1 alpha-3   Ano   Total\n",
       "0  Afeganistão                AFG  1750  [NONE]\n",
       "1  Afeganistão                AFG  1751  [NONE]\n",
       "2  Afeganistão                AFG  1752  [NONE]\n",
       "3  Afeganistão                AFG  1753  [NONE]\n",
       "4  Afeganistão                AFG  1754  [NONE]\n",
       "5  Afeganistão                AFG  1755  [NONE]\n",
       "6  Afeganistão                AFG  1756  [NONE]\n",
       "7  Afeganistão                AFG  1757  [NONE]\n",
       "8  Afeganistão                AFG  1758  [NONE]\n",
       "9  Afeganistão                AFG  1759  [NONE]"
      ]
     },
     "execution_count": 21,
     "metadata": {},
     "output_type": "execute_result"
    }
   ],
   "source": [
    "intervalo_2"
   ]
  }
 ],
 "metadata": {
  "kernelspec": {
   "display_name": "Python 3",
   "language": "python",
   "name": "python3"
  },
  "language_info": {
   "codemirror_mode": {
    "name": "ipython",
    "version": 3
   },
   "file_extension": ".py",
   "mimetype": "text/x-python",
   "name": "python",
   "nbconvert_exporter": "python",
   "pygments_lexer": "ipython3",
   "version": "3.13.2"
  }
 },
 "nbformat": 4,
 "nbformat_minor": 5
}
