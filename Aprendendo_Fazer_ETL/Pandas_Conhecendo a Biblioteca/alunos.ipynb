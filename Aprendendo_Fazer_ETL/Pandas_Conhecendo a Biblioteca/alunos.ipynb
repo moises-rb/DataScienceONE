{
 "cells": [
  {
   "cell_type": "markdown",
   "id": "604d2481",
   "metadata": {},
   "source": [
    "# Conhecendo a base de dados"
   ]
  },
  {
   "cell_type": "markdown",
   "id": "708afab0",
   "metadata": {},
   "source": [
    "## Importando os dados\n"
   ]
  },
  {
   "cell_type": "code",
   "execution_count": 1,
   "id": "9f7dc436",
   "metadata": {},
   "outputs": [],
   "source": [
    "import pandas as pd"
   ]
  },
  {
   "cell_type": "code",
   "execution_count": 7,
   "id": "423e929c",
   "metadata": {},
   "outputs": [
    {
     "data": {
      "application/vnd.microsoft.datawrangler.viewer.v0+json": {
       "columns": [
        {
         "name": "index",
         "rawType": "int64",
         "type": "integer"
        },
        {
         "name": "Nome",
         "rawType": "object",
         "type": "string"
        },
        {
         "name": "Idade",
         "rawType": "int64",
         "type": "integer"
        },
        {
         "name": "Notas",
         "rawType": "float64",
         "type": "float"
        },
        {
         "name": "Aprovado",
         "rawType": "bool",
         "type": "boolean"
        }
       ],
       "conversionMethod": "pd.DataFrame",
       "ref": "2f22aeba-00da-4106-bcf1-3e5d83844833",
       "rows": [
        [
         "0",
         "Ary",
         "20",
         "7.5",
         "True"
        ],
        [
         "1",
         "Ana",
         "18",
         null,
         "False"
        ],
        [
         "2",
         "Cátia",
         "27",
         "2.5",
         "False"
        ],
        [
         "3",
         "Denis",
         "18",
         "5.0",
         "False"
        ],
        [
         "4",
         "Beto",
         "21",
         "10.0",
         "True"
        ],
        [
         "5",
         "Bruna",
         "23",
         null,
         "False"
        ],
        [
         "6",
         "Dara",
         "21",
         "7.0",
         "True"
        ],
        [
         "7",
         "Carlos",
         "19",
         "6.0",
         "True"
        ],
        [
         "8",
         "Alice",
         "35",
         "5.6",
         "False"
        ],
        [
         "9",
         "Vitor",
         "28",
         null,
         "False"
        ],
        [
         "10",
         "Daniel",
         "21",
         null,
         "False"
        ],
        [
         "11",
         "Igor",
         "24",
         "4.5",
         "False"
        ],
        [
         "12",
         "Sthefanie",
         "26",
         "9.5",
         "True"
        ],
        [
         "13",
         "Mirla",
         "25",
         "9.0",
         "True"
        ],
        [
         "14",
         "Paulo",
         "37",
         null,
         "False"
        ],
        [
         "15",
         "Mylena",
         "29",
         "7.0",
         "True"
        ],
        [
         "16",
         "Lucas",
         "33",
         null,
         "False"
        ],
        [
         "17",
         "Nadia",
         "34",
         "8.0",
         "True"
        ]
       ],
       "shape": {
        "columns": 4,
        "rows": 18
       }
      },
      "text/html": [
       "<div>\n",
       "<style scoped>\n",
       "    .dataframe tbody tr th:only-of-type {\n",
       "        vertical-align: middle;\n",
       "    }\n",
       "\n",
       "    .dataframe tbody tr th {\n",
       "        vertical-align: top;\n",
       "    }\n",
       "\n",
       "    .dataframe thead th {\n",
       "        text-align: right;\n",
       "    }\n",
       "</style>\n",
       "<table border=\"1\" class=\"dataframe\">\n",
       "  <thead>\n",
       "    <tr style=\"text-align: right;\">\n",
       "      <th></th>\n",
       "      <th>Nome</th>\n",
       "      <th>Idade</th>\n",
       "      <th>Notas</th>\n",
       "      <th>Aprovado</th>\n",
       "    </tr>\n",
       "  </thead>\n",
       "  <tbody>\n",
       "    <tr>\n",
       "      <th>0</th>\n",
       "      <td>Ary</td>\n",
       "      <td>20</td>\n",
       "      <td>7.5</td>\n",
       "      <td>True</td>\n",
       "    </tr>\n",
       "    <tr>\n",
       "      <th>1</th>\n",
       "      <td>Ana</td>\n",
       "      <td>18</td>\n",
       "      <td>NaN</td>\n",
       "      <td>False</td>\n",
       "    </tr>\n",
       "    <tr>\n",
       "      <th>2</th>\n",
       "      <td>Cátia</td>\n",
       "      <td>27</td>\n",
       "      <td>2.5</td>\n",
       "      <td>False</td>\n",
       "    </tr>\n",
       "    <tr>\n",
       "      <th>3</th>\n",
       "      <td>Denis</td>\n",
       "      <td>18</td>\n",
       "      <td>5.0</td>\n",
       "      <td>False</td>\n",
       "    </tr>\n",
       "    <tr>\n",
       "      <th>4</th>\n",
       "      <td>Beto</td>\n",
       "      <td>21</td>\n",
       "      <td>10.0</td>\n",
       "      <td>True</td>\n",
       "    </tr>\n",
       "    <tr>\n",
       "      <th>5</th>\n",
       "      <td>Bruna</td>\n",
       "      <td>23</td>\n",
       "      <td>NaN</td>\n",
       "      <td>False</td>\n",
       "    </tr>\n",
       "    <tr>\n",
       "      <th>6</th>\n",
       "      <td>Dara</td>\n",
       "      <td>21</td>\n",
       "      <td>7.0</td>\n",
       "      <td>True</td>\n",
       "    </tr>\n",
       "    <tr>\n",
       "      <th>7</th>\n",
       "      <td>Carlos</td>\n",
       "      <td>19</td>\n",
       "      <td>6.0</td>\n",
       "      <td>True</td>\n",
       "    </tr>\n",
       "    <tr>\n",
       "      <th>8</th>\n",
       "      <td>Alice</td>\n",
       "      <td>35</td>\n",
       "      <td>5.6</td>\n",
       "      <td>False</td>\n",
       "    </tr>\n",
       "    <tr>\n",
       "      <th>9</th>\n",
       "      <td>Vitor</td>\n",
       "      <td>28</td>\n",
       "      <td>NaN</td>\n",
       "      <td>False</td>\n",
       "    </tr>\n",
       "    <tr>\n",
       "      <th>10</th>\n",
       "      <td>Daniel</td>\n",
       "      <td>21</td>\n",
       "      <td>NaN</td>\n",
       "      <td>False</td>\n",
       "    </tr>\n",
       "    <tr>\n",
       "      <th>11</th>\n",
       "      <td>Igor</td>\n",
       "      <td>24</td>\n",
       "      <td>4.5</td>\n",
       "      <td>False</td>\n",
       "    </tr>\n",
       "    <tr>\n",
       "      <th>12</th>\n",
       "      <td>Sthefanie</td>\n",
       "      <td>26</td>\n",
       "      <td>9.5</td>\n",
       "      <td>True</td>\n",
       "    </tr>\n",
       "    <tr>\n",
       "      <th>13</th>\n",
       "      <td>Mirla</td>\n",
       "      <td>25</td>\n",
       "      <td>9.0</td>\n",
       "      <td>True</td>\n",
       "    </tr>\n",
       "    <tr>\n",
       "      <th>14</th>\n",
       "      <td>Paulo</td>\n",
       "      <td>37</td>\n",
       "      <td>NaN</td>\n",
       "      <td>False</td>\n",
       "    </tr>\n",
       "    <tr>\n",
       "      <th>15</th>\n",
       "      <td>Mylena</td>\n",
       "      <td>29</td>\n",
       "      <td>7.0</td>\n",
       "      <td>True</td>\n",
       "    </tr>\n",
       "    <tr>\n",
       "      <th>16</th>\n",
       "      <td>Lucas</td>\n",
       "      <td>33</td>\n",
       "      <td>NaN</td>\n",
       "      <td>False</td>\n",
       "    </tr>\n",
       "    <tr>\n",
       "      <th>17</th>\n",
       "      <td>Nadia</td>\n",
       "      <td>34</td>\n",
       "      <td>8.0</td>\n",
       "      <td>True</td>\n",
       "    </tr>\n",
       "  </tbody>\n",
       "</table>\n",
       "</div>"
      ],
      "text/plain": [
       "         Nome  Idade  Notas  Aprovado\n",
       "0         Ary     20    7.5      True\n",
       "1         Ana     18    NaN     False\n",
       "2       Cátia     27    2.5     False\n",
       "3       Denis     18    5.0     False\n",
       "4        Beto     21   10.0      True\n",
       "5       Bruna     23    NaN     False\n",
       "6        Dara     21    7.0      True\n",
       "7      Carlos     19    6.0      True\n",
       "8       Alice     35    5.6     False\n",
       "9       Vitor     28    NaN     False\n",
       "10     Daniel     21    NaN     False\n",
       "11       Igor     24    4.5     False\n",
       "12  Sthefanie     26    9.5      True\n",
       "13      Mirla     25    9.0      True\n",
       "14      Paulo     37    NaN     False\n",
       "15     Mylena     29    7.0      True\n",
       "16      Lucas     33    NaN     False\n",
       "17      Nadia     34    8.0      True"
      ]
     },
     "execution_count": 7,
     "metadata": {},
     "output_type": "execute_result"
    }
   ],
   "source": [
    "url = 'https://raw.githubusercontent.com/moises-rb/DataScienceOne/refs/heads/main/Aprendendo_Fazer_ETL/Pandas/pandas-dados/alunos.csv'\n",
    "\n",
    "dados_alunos = pd.read_csv(url, sep=',')\n",
    "\n",
    "dados_alunos\n",
    "\n"
   ]
  },
  {
   "cell_type": "markdown",
   "id": "447042b0",
   "metadata": {},
   "source": [
    "# Tratando e filtrando os dados"
   ]
  },
  {
   "cell_type": "markdown",
   "id": "79285d70",
   "metadata": {},
   "source": [
    "## Lidando com dados nulos"
   ]
  },
  {
   "cell_type": "code",
   "execution_count": 11,
   "id": "5193d5b6",
   "metadata": {},
   "outputs": [
    {
     "data": {
      "application/vnd.microsoft.datawrangler.viewer.v0+json": {
       "columns": [
        {
         "name": "index",
         "rawType": "int64",
         "type": "integer"
        },
        {
         "name": "Nome",
         "rawType": "bool",
         "type": "boolean"
        },
        {
         "name": "Idade",
         "rawType": "bool",
         "type": "boolean"
        },
        {
         "name": "Notas",
         "rawType": "bool",
         "type": "boolean"
        },
        {
         "name": "Aprovado",
         "rawType": "bool",
         "type": "boolean"
        }
       ],
       "conversionMethod": "pd.DataFrame",
       "ref": "d8c715ea-15c9-403a-b964-488f5c8857c0",
       "rows": [
        [
         "0",
         "False",
         "False",
         "False",
         "False"
        ],
        [
         "1",
         "False",
         "False",
         "True",
         "False"
        ],
        [
         "2",
         "False",
         "False",
         "False",
         "False"
        ],
        [
         "3",
         "False",
         "False",
         "False",
         "False"
        ],
        [
         "4",
         "False",
         "False",
         "False",
         "False"
        ],
        [
         "5",
         "False",
         "False",
         "True",
         "False"
        ],
        [
         "6",
         "False",
         "False",
         "False",
         "False"
        ],
        [
         "7",
         "False",
         "False",
         "False",
         "False"
        ],
        [
         "8",
         "False",
         "False",
         "False",
         "False"
        ],
        [
         "9",
         "False",
         "False",
         "True",
         "False"
        ],
        [
         "10",
         "False",
         "False",
         "True",
         "False"
        ],
        [
         "11",
         "False",
         "False",
         "False",
         "False"
        ],
        [
         "12",
         "False",
         "False",
         "False",
         "False"
        ],
        [
         "13",
         "False",
         "False",
         "False",
         "False"
        ],
        [
         "14",
         "False",
         "False",
         "True",
         "False"
        ],
        [
         "15",
         "False",
         "False",
         "False",
         "False"
        ],
        [
         "16",
         "False",
         "False",
         "True",
         "False"
        ],
        [
         "17",
         "False",
         "False",
         "False",
         "False"
        ]
       ],
       "shape": {
        "columns": 4,
        "rows": 18
       }
      },
      "text/html": [
       "<div>\n",
       "<style scoped>\n",
       "    .dataframe tbody tr th:only-of-type {\n",
       "        vertical-align: middle;\n",
       "    }\n",
       "\n",
       "    .dataframe tbody tr th {\n",
       "        vertical-align: top;\n",
       "    }\n",
       "\n",
       "    .dataframe thead th {\n",
       "        text-align: right;\n",
       "    }\n",
       "</style>\n",
       "<table border=\"1\" class=\"dataframe\">\n",
       "  <thead>\n",
       "    <tr style=\"text-align: right;\">\n",
       "      <th></th>\n",
       "      <th>Nome</th>\n",
       "      <th>Idade</th>\n",
       "      <th>Notas</th>\n",
       "      <th>Aprovado</th>\n",
       "    </tr>\n",
       "  </thead>\n",
       "  <tbody>\n",
       "    <tr>\n",
       "      <th>0</th>\n",
       "      <td>False</td>\n",
       "      <td>False</td>\n",
       "      <td>False</td>\n",
       "      <td>False</td>\n",
       "    </tr>\n",
       "    <tr>\n",
       "      <th>1</th>\n",
       "      <td>False</td>\n",
       "      <td>False</td>\n",
       "      <td>True</td>\n",
       "      <td>False</td>\n",
       "    </tr>\n",
       "    <tr>\n",
       "      <th>2</th>\n",
       "      <td>False</td>\n",
       "      <td>False</td>\n",
       "      <td>False</td>\n",
       "      <td>False</td>\n",
       "    </tr>\n",
       "    <tr>\n",
       "      <th>3</th>\n",
       "      <td>False</td>\n",
       "      <td>False</td>\n",
       "      <td>False</td>\n",
       "      <td>False</td>\n",
       "    </tr>\n",
       "    <tr>\n",
       "      <th>4</th>\n",
       "      <td>False</td>\n",
       "      <td>False</td>\n",
       "      <td>False</td>\n",
       "      <td>False</td>\n",
       "    </tr>\n",
       "    <tr>\n",
       "      <th>5</th>\n",
       "      <td>False</td>\n",
       "      <td>False</td>\n",
       "      <td>True</td>\n",
       "      <td>False</td>\n",
       "    </tr>\n",
       "    <tr>\n",
       "      <th>6</th>\n",
       "      <td>False</td>\n",
       "      <td>False</td>\n",
       "      <td>False</td>\n",
       "      <td>False</td>\n",
       "    </tr>\n",
       "    <tr>\n",
       "      <th>7</th>\n",
       "      <td>False</td>\n",
       "      <td>False</td>\n",
       "      <td>False</td>\n",
       "      <td>False</td>\n",
       "    </tr>\n",
       "    <tr>\n",
       "      <th>8</th>\n",
       "      <td>False</td>\n",
       "      <td>False</td>\n",
       "      <td>False</td>\n",
       "      <td>False</td>\n",
       "    </tr>\n",
       "    <tr>\n",
       "      <th>9</th>\n",
       "      <td>False</td>\n",
       "      <td>False</td>\n",
       "      <td>True</td>\n",
       "      <td>False</td>\n",
       "    </tr>\n",
       "    <tr>\n",
       "      <th>10</th>\n",
       "      <td>False</td>\n",
       "      <td>False</td>\n",
       "      <td>True</td>\n",
       "      <td>False</td>\n",
       "    </tr>\n",
       "    <tr>\n",
       "      <th>11</th>\n",
       "      <td>False</td>\n",
       "      <td>False</td>\n",
       "      <td>False</td>\n",
       "      <td>False</td>\n",
       "    </tr>\n",
       "    <tr>\n",
       "      <th>12</th>\n",
       "      <td>False</td>\n",
       "      <td>False</td>\n",
       "      <td>False</td>\n",
       "      <td>False</td>\n",
       "    </tr>\n",
       "    <tr>\n",
       "      <th>13</th>\n",
       "      <td>False</td>\n",
       "      <td>False</td>\n",
       "      <td>False</td>\n",
       "      <td>False</td>\n",
       "    </tr>\n",
       "    <tr>\n",
       "      <th>14</th>\n",
       "      <td>False</td>\n",
       "      <td>False</td>\n",
       "      <td>True</td>\n",
       "      <td>False</td>\n",
       "    </tr>\n",
       "    <tr>\n",
       "      <th>15</th>\n",
       "      <td>False</td>\n",
       "      <td>False</td>\n",
       "      <td>False</td>\n",
       "      <td>False</td>\n",
       "    </tr>\n",
       "    <tr>\n",
       "      <th>16</th>\n",
       "      <td>False</td>\n",
       "      <td>False</td>\n",
       "      <td>True</td>\n",
       "      <td>False</td>\n",
       "    </tr>\n",
       "    <tr>\n",
       "      <th>17</th>\n",
       "      <td>False</td>\n",
       "      <td>False</td>\n",
       "      <td>False</td>\n",
       "      <td>False</td>\n",
       "    </tr>\n",
       "  </tbody>\n",
       "</table>\n",
       "</div>"
      ],
      "text/plain": [
       "     Nome  Idade  Notas  Aprovado\n",
       "0   False  False  False     False\n",
       "1   False  False   True     False\n",
       "2   False  False  False     False\n",
       "3   False  False  False     False\n",
       "4   False  False  False     False\n",
       "5   False  False   True     False\n",
       "6   False  False  False     False\n",
       "7   False  False  False     False\n",
       "8   False  False  False     False\n",
       "9   False  False   True     False\n",
       "10  False  False   True     False\n",
       "11  False  False  False     False\n",
       "12  False  False  False     False\n",
       "13  False  False  False     False\n",
       "14  False  False   True     False\n",
       "15  False  False  False     False\n",
       "16  False  False   True     False\n",
       "17  False  False  False     False"
      ]
     },
     "execution_count": 11,
     "metadata": {},
     "output_type": "execute_result"
    }
   ],
   "source": [
    "dados_alunos.isnull()"
   ]
  },
  {
   "cell_type": "code",
   "execution_count": 13,
   "id": "f1269339",
   "metadata": {},
   "outputs": [
    {
     "data": {
      "text/plain": [
       "Nome        0\n",
       "Idade       0\n",
       "Notas       6\n",
       "Aprovado    0\n",
       "dtype: int64"
      ]
     },
     "execution_count": 13,
     "metadata": {},
     "output_type": "execute_result"
    }
   ],
   "source": [
    "dados_alunos.isnull().sum()"
   ]
  },
  {
   "cell_type": "code",
   "execution_count": 20,
   "id": "12aa6cd5",
   "metadata": {},
   "outputs": [],
   "source": [
    "dados = dados_alunos.fillna(0)"
   ]
  },
  {
   "cell_type": "code",
   "execution_count": 21,
   "id": "98045901",
   "metadata": {},
   "outputs": [
    {
     "data": {
      "text/plain": [
       "Nome        0\n",
       "Idade       0\n",
       "Notas       0\n",
       "Aprovado    0\n",
       "dtype: int64"
      ]
     },
     "execution_count": 21,
     "metadata": {},
     "output_type": "execute_result"
    }
   ],
   "source": [
    "dados.isnull().sum()"
   ]
  },
  {
   "cell_type": "markdown",
   "id": "c66bf3ec",
   "metadata": {},
   "source": [
    "## Remover os alunos \"Alice\" e \"Carlos\" da nossa base de dados."
   ]
  },
  {
   "cell_type": "code",
   "execution_count": 22,
   "id": "e3c6b97f",
   "metadata": {},
   "outputs": [],
   "source": [
    "# salvando os índices das linhas a serem removidas em uma variável\n",
    "alunos_a_remover = dados.query('Nome == \"Alice\" | Nome == \"Carlos\"').index"
   ]
  },
  {
   "cell_type": "code",
   "execution_count": 23,
   "id": "fe741163",
   "metadata": {},
   "outputs": [],
   "source": [
    "# removendo as linhas referentes aos alunos \"Alice\" e \"Carlos\"\n",
    "dados.drop(alunos_a_remover, axis=0, inplace=True)"
   ]
  },
  {
   "cell_type": "markdown",
   "id": "2ee9222d",
   "metadata": {},
   "source": [
    "## Realizar a seleção apenas dos alunos aprovados"
   ]
  },
  {
   "cell_type": "code",
   "execution_count": 24,
   "id": "57a10991",
   "metadata": {},
   "outputs": [],
   "source": [
    "selecao = dados['Aprovado'] == True"
   ]
  },
  {
   "cell_type": "code",
   "execution_count": 25,
   "id": "acd3ad6a",
   "metadata": {},
   "outputs": [
    {
     "data": {
      "application/vnd.microsoft.datawrangler.viewer.v0+json": {
       "columns": [
        {
         "name": "index",
         "rawType": "int64",
         "type": "integer"
        },
        {
         "name": "Nome",
         "rawType": "object",
         "type": "string"
        },
        {
         "name": "Idade",
         "rawType": "int64",
         "type": "integer"
        },
        {
         "name": "Notas",
         "rawType": "float64",
         "type": "float"
        },
        {
         "name": "Aprovado",
         "rawType": "bool",
         "type": "boolean"
        }
       ],
       "conversionMethod": "pd.DataFrame",
       "ref": "bc6d473f-4cdb-4810-a52c-4104812b0d51",
       "rows": [
        [
         "0",
         "Ary",
         "20",
         "7.5",
         "True"
        ],
        [
         "4",
         "Beto",
         "21",
         "10.0",
         "True"
        ],
        [
         "6",
         "Dara",
         "21",
         "7.0",
         "True"
        ],
        [
         "12",
         "Sthefanie",
         "26",
         "9.5",
         "True"
        ],
        [
         "13",
         "Mirla",
         "25",
         "9.0",
         "True"
        ],
        [
         "15",
         "Mylena",
         "29",
         "7.0",
         "True"
        ],
        [
         "17",
         "Nadia",
         "34",
         "8.0",
         "True"
        ]
       ],
       "shape": {
        "columns": 4,
        "rows": 7
       }
      },
      "text/html": [
       "<div>\n",
       "<style scoped>\n",
       "    .dataframe tbody tr th:only-of-type {\n",
       "        vertical-align: middle;\n",
       "    }\n",
       "\n",
       "    .dataframe tbody tr th {\n",
       "        vertical-align: top;\n",
       "    }\n",
       "\n",
       "    .dataframe thead th {\n",
       "        text-align: right;\n",
       "    }\n",
       "</style>\n",
       "<table border=\"1\" class=\"dataframe\">\n",
       "  <thead>\n",
       "    <tr style=\"text-align: right;\">\n",
       "      <th></th>\n",
       "      <th>Nome</th>\n",
       "      <th>Idade</th>\n",
       "      <th>Notas</th>\n",
       "      <th>Aprovado</th>\n",
       "    </tr>\n",
       "  </thead>\n",
       "  <tbody>\n",
       "    <tr>\n",
       "      <th>0</th>\n",
       "      <td>Ary</td>\n",
       "      <td>20</td>\n",
       "      <td>7.5</td>\n",
       "      <td>True</td>\n",
       "    </tr>\n",
       "    <tr>\n",
       "      <th>4</th>\n",
       "      <td>Beto</td>\n",
       "      <td>21</td>\n",
       "      <td>10.0</td>\n",
       "      <td>True</td>\n",
       "    </tr>\n",
       "    <tr>\n",
       "      <th>6</th>\n",
       "      <td>Dara</td>\n",
       "      <td>21</td>\n",
       "      <td>7.0</td>\n",
       "      <td>True</td>\n",
       "    </tr>\n",
       "    <tr>\n",
       "      <th>12</th>\n",
       "      <td>Sthefanie</td>\n",
       "      <td>26</td>\n",
       "      <td>9.5</td>\n",
       "      <td>True</td>\n",
       "    </tr>\n",
       "    <tr>\n",
       "      <th>13</th>\n",
       "      <td>Mirla</td>\n",
       "      <td>25</td>\n",
       "      <td>9.0</td>\n",
       "      <td>True</td>\n",
       "    </tr>\n",
       "    <tr>\n",
       "      <th>15</th>\n",
       "      <td>Mylena</td>\n",
       "      <td>29</td>\n",
       "      <td>7.0</td>\n",
       "      <td>True</td>\n",
       "    </tr>\n",
       "    <tr>\n",
       "      <th>17</th>\n",
       "      <td>Nadia</td>\n",
       "      <td>34</td>\n",
       "      <td>8.0</td>\n",
       "      <td>True</td>\n",
       "    </tr>\n",
       "  </tbody>\n",
       "</table>\n",
       "</div>"
      ],
      "text/plain": [
       "         Nome  Idade  Notas  Aprovado\n",
       "0         Ary     20    7.5      True\n",
       "4        Beto     21   10.0      True\n",
       "6        Dara     21    7.0      True\n",
       "12  Sthefanie     26    9.5      True\n",
       "13      Mirla     25    9.0      True\n",
       "15     Mylena     29    7.0      True\n",
       "17      Nadia     34    8.0      True"
      ]
     },
     "execution_count": 25,
     "metadata": {},
     "output_type": "execute_result"
    }
   ],
   "source": [
    "dados[selecao]"
   ]
  },
  {
   "cell_type": "code",
   "execution_count": 26,
   "id": "db380af2",
   "metadata": {},
   "outputs": [],
   "source": [
    "alunos_aprovados = dados[selecao]"
   ]
  },
  {
   "cell_type": "markdown",
   "id": "ec0a37dd",
   "metadata": {},
   "source": [
    "## Salvar o DataFrame apenas com os alunos aprovados."
   ]
  },
  {
   "cell_type": "code",
   "execution_count": 27,
   "id": "350c0a10",
   "metadata": {},
   "outputs": [],
   "source": [
    "alunos_aprovados.to_csv('alunos_aprovados.csv', index=False)"
   ]
  },
  {
   "cell_type": "markdown",
   "id": "51a4521b",
   "metadata": {},
   "source": [
    "## Substituir os valores 7.0 por 8.0."
   ]
  },
  {
   "cell_type": "code",
   "execution_count": 28,
   "id": "e6d37d49",
   "metadata": {},
   "outputs": [
    {
     "data": {
      "application/vnd.microsoft.datawrangler.viewer.v0+json": {
       "columns": [
        {
         "name": "index",
         "rawType": "int64",
         "type": "integer"
        },
        {
         "name": "Nome",
         "rawType": "object",
         "type": "string"
        },
        {
         "name": "Idade",
         "rawType": "int64",
         "type": "integer"
        },
        {
         "name": "Notas",
         "rawType": "float64",
         "type": "float"
        },
        {
         "name": "Aprovado",
         "rawType": "bool",
         "type": "boolean"
        }
       ],
       "conversionMethod": "pd.DataFrame",
       "ref": "617090a0-41c6-4471-8514-409113ec5e43",
       "rows": [
        [
         "0",
         "Ary",
         "20",
         "7.5",
         "True"
        ],
        [
         "4",
         "Beto",
         "21",
         "10.0",
         "True"
        ],
        [
         "6",
         "Dara",
         "21",
         "8.0",
         "True"
        ],
        [
         "12",
         "Sthefanie",
         "26",
         "9.5",
         "True"
        ],
        [
         "13",
         "Mirla",
         "25",
         "9.0",
         "True"
        ],
        [
         "15",
         "Mylena",
         "29",
         "8.0",
         "True"
        ],
        [
         "17",
         "Nadia",
         "34",
         "8.0",
         "True"
        ]
       ],
       "shape": {
        "columns": 4,
        "rows": 7
       }
      },
      "text/html": [
       "<div>\n",
       "<style scoped>\n",
       "    .dataframe tbody tr th:only-of-type {\n",
       "        vertical-align: middle;\n",
       "    }\n",
       "\n",
       "    .dataframe tbody tr th {\n",
       "        vertical-align: top;\n",
       "    }\n",
       "\n",
       "    .dataframe thead th {\n",
       "        text-align: right;\n",
       "    }\n",
       "</style>\n",
       "<table border=\"1\" class=\"dataframe\">\n",
       "  <thead>\n",
       "    <tr style=\"text-align: right;\">\n",
       "      <th></th>\n",
       "      <th>Nome</th>\n",
       "      <th>Idade</th>\n",
       "      <th>Notas</th>\n",
       "      <th>Aprovado</th>\n",
       "    </tr>\n",
       "  </thead>\n",
       "  <tbody>\n",
       "    <tr>\n",
       "      <th>0</th>\n",
       "      <td>Ary</td>\n",
       "      <td>20</td>\n",
       "      <td>7.5</td>\n",
       "      <td>True</td>\n",
       "    </tr>\n",
       "    <tr>\n",
       "      <th>4</th>\n",
       "      <td>Beto</td>\n",
       "      <td>21</td>\n",
       "      <td>10.0</td>\n",
       "      <td>True</td>\n",
       "    </tr>\n",
       "    <tr>\n",
       "      <th>6</th>\n",
       "      <td>Dara</td>\n",
       "      <td>21</td>\n",
       "      <td>8.0</td>\n",
       "      <td>True</td>\n",
       "    </tr>\n",
       "    <tr>\n",
       "      <th>12</th>\n",
       "      <td>Sthefanie</td>\n",
       "      <td>26</td>\n",
       "      <td>9.5</td>\n",
       "      <td>True</td>\n",
       "    </tr>\n",
       "    <tr>\n",
       "      <th>13</th>\n",
       "      <td>Mirla</td>\n",
       "      <td>25</td>\n",
       "      <td>9.0</td>\n",
       "      <td>True</td>\n",
       "    </tr>\n",
       "    <tr>\n",
       "      <th>15</th>\n",
       "      <td>Mylena</td>\n",
       "      <td>29</td>\n",
       "      <td>8.0</td>\n",
       "      <td>True</td>\n",
       "    </tr>\n",
       "    <tr>\n",
       "      <th>17</th>\n",
       "      <td>Nadia</td>\n",
       "      <td>34</td>\n",
       "      <td>8.0</td>\n",
       "      <td>True</td>\n",
       "    </tr>\n",
       "  </tbody>\n",
       "</table>\n",
       "</div>"
      ],
      "text/plain": [
       "         Nome  Idade  Notas  Aprovado\n",
       "0         Ary     20    7.5      True\n",
       "4        Beto     21   10.0      True\n",
       "6        Dara     21    8.0      True\n",
       "12  Sthefanie     26    9.5      True\n",
       "13      Mirla     25    9.0      True\n",
       "15     Mylena     29    8.0      True\n",
       "17      Nadia     34    8.0      True"
      ]
     },
     "execution_count": 28,
     "metadata": {},
     "output_type": "execute_result"
    }
   ],
   "source": [
    "alunos_aprovados.replace(7.0, 8.0)"
   ]
  },
  {
   "cell_type": "code",
   "execution_count": 29,
   "id": "0f0bfe4f",
   "metadata": {},
   "outputs": [
    {
     "data": {
      "application/vnd.microsoft.datawrangler.viewer.v0+json": {
       "columns": [
        {
         "name": "index",
         "rawType": "int64",
         "type": "integer"
        },
        {
         "name": "Nome",
         "rawType": "object",
         "type": "string"
        },
        {
         "name": "Idade",
         "rawType": "int64",
         "type": "integer"
        },
        {
         "name": "Notas",
         "rawType": "float64",
         "type": "float"
        },
        {
         "name": "Aprovado",
         "rawType": "bool",
         "type": "boolean"
        }
       ],
       "conversionMethod": "pd.DataFrame",
       "ref": "4a3783ae-eb57-4074-a57e-cefb7380b974",
       "rows": [
        [
         "0",
         "Ary",
         "20",
         "7.5",
         "True"
        ],
        [
         "4",
         "Beto",
         "21",
         "10.0",
         "True"
        ],
        [
         "6",
         "Dara",
         "21",
         "8.0",
         "True"
        ],
        [
         "12",
         "Sthefanie",
         "26",
         "9.5",
         "True"
        ],
        [
         "13",
         "Mirla",
         "25",
         "9.0",
         "True"
        ],
        [
         "15",
         "Mylena",
         "29",
         "8.0",
         "True"
        ],
        [
         "17",
         "Nadia",
         "34",
         "8.0",
         "True"
        ]
       ],
       "shape": {
        "columns": 4,
        "rows": 7
       }
      },
      "text/html": [
       "<div>\n",
       "<style scoped>\n",
       "    .dataframe tbody tr th:only-of-type {\n",
       "        vertical-align: middle;\n",
       "    }\n",
       "\n",
       "    .dataframe tbody tr th {\n",
       "        vertical-align: top;\n",
       "    }\n",
       "\n",
       "    .dataframe thead th {\n",
       "        text-align: right;\n",
       "    }\n",
       "</style>\n",
       "<table border=\"1\" class=\"dataframe\">\n",
       "  <thead>\n",
       "    <tr style=\"text-align: right;\">\n",
       "      <th></th>\n",
       "      <th>Nome</th>\n",
       "      <th>Idade</th>\n",
       "      <th>Notas</th>\n",
       "      <th>Aprovado</th>\n",
       "    </tr>\n",
       "  </thead>\n",
       "  <tbody>\n",
       "    <tr>\n",
       "      <th>0</th>\n",
       "      <td>Ary</td>\n",
       "      <td>20</td>\n",
       "      <td>7.5</td>\n",
       "      <td>True</td>\n",
       "    </tr>\n",
       "    <tr>\n",
       "      <th>4</th>\n",
       "      <td>Beto</td>\n",
       "      <td>21</td>\n",
       "      <td>10.0</td>\n",
       "      <td>True</td>\n",
       "    </tr>\n",
       "    <tr>\n",
       "      <th>6</th>\n",
       "      <td>Dara</td>\n",
       "      <td>21</td>\n",
       "      <td>8.0</td>\n",
       "      <td>True</td>\n",
       "    </tr>\n",
       "    <tr>\n",
       "      <th>12</th>\n",
       "      <td>Sthefanie</td>\n",
       "      <td>26</td>\n",
       "      <td>9.5</td>\n",
       "      <td>True</td>\n",
       "    </tr>\n",
       "    <tr>\n",
       "      <th>13</th>\n",
       "      <td>Mirla</td>\n",
       "      <td>25</td>\n",
       "      <td>9.0</td>\n",
       "      <td>True</td>\n",
       "    </tr>\n",
       "    <tr>\n",
       "      <th>15</th>\n",
       "      <td>Mylena</td>\n",
       "      <td>29</td>\n",
       "      <td>8.0</td>\n",
       "      <td>True</td>\n",
       "    </tr>\n",
       "    <tr>\n",
       "      <th>17</th>\n",
       "      <td>Nadia</td>\n",
       "      <td>34</td>\n",
       "      <td>8.0</td>\n",
       "      <td>True</td>\n",
       "    </tr>\n",
       "  </tbody>\n",
       "</table>\n",
       "</div>"
      ],
      "text/plain": [
       "         Nome  Idade  Notas  Aprovado\n",
       "0         Ary     20    7.5      True\n",
       "4        Beto     21   10.0      True\n",
       "6        Dara     21    8.0      True\n",
       "12  Sthefanie     26    9.5      True\n",
       "13      Mirla     25    9.0      True\n",
       "15     Mylena     29    8.0      True\n",
       "17      Nadia     34    8.0      True"
      ]
     },
     "execution_count": 29,
     "metadata": {},
     "output_type": "execute_result"
    }
   ],
   "source": [
    "alunos_aprovados = alunos_aprovados.replace(7.0, 8.0)\n",
    "alunos_aprovados"
   ]
  },
  {
   "cell_type": "markdown",
   "id": "bafa76d1",
   "metadata": {},
   "source": []
  },
  {
   "cell_type": "code",
   "execution_count": 30,
   "id": "4ff5dfe2",
   "metadata": {},
   "outputs": [
    {
     "data": {
      "application/vnd.microsoft.datawrangler.viewer.v0+json": {
       "columns": [
        {
         "name": "index",
         "rawType": "int64",
         "type": "integer"
        },
        {
         "name": "Nome",
         "rawType": "object",
         "type": "string"
        },
        {
         "name": "Idade",
         "rawType": "int64",
         "type": "integer"
        },
        {
         "name": "Notas",
         "rawType": "float64",
         "type": "float"
        },
        {
         "name": "Aprovado",
         "rawType": "bool",
         "type": "boolean"
        }
       ],
       "conversionMethod": "pd.DataFrame",
       "ref": "1efac748-4235-4743-8b13-385254106049",
       "rows": [
        [
         "0",
         "Ary",
         "20",
         "7.5",
         "True"
        ],
        [
         "1",
         "Ana",
         "18",
         null,
         "False"
        ],
        [
         "2",
         "Cátia",
         "27",
         "2.5",
         "False"
        ],
        [
         "3",
         "Denis",
         "18",
         "5.0",
         "False"
        ],
        [
         "4",
         "Beto",
         "21",
         "10.0",
         "True"
        ],
        [
         "5",
         "Bruna",
         "23",
         null,
         "False"
        ],
        [
         "6",
         "Dara",
         "21",
         "7.0",
         "True"
        ],
        [
         "7",
         "Carlos",
         "19",
         "6.0",
         "True"
        ],
        [
         "8",
         "Alice",
         "35",
         "5.6",
         "False"
        ],
        [
         "9",
         "Vitor",
         "28",
         null,
         "False"
        ],
        [
         "10",
         "Daniel",
         "21",
         null,
         "False"
        ],
        [
         "11",
         "Igor",
         "24",
         "4.5",
         "False"
        ],
        [
         "12",
         "Sthefanie",
         "26",
         "9.5",
         "True"
        ],
        [
         "13",
         "Mirla",
         "25",
         "9.0",
         "True"
        ],
        [
         "14",
         "Paulo",
         "37",
         null,
         "False"
        ],
        [
         "15",
         "Mylena",
         "29",
         "7.0",
         "True"
        ],
        [
         "16",
         "Lucas",
         "33",
         null,
         "False"
        ],
        [
         "17",
         "Nadia",
         "34",
         "8.0",
         "True"
        ]
       ],
       "shape": {
        "columns": 4,
        "rows": 18
       }
      },
      "text/html": [
       "<div>\n",
       "<style scoped>\n",
       "    .dataframe tbody tr th:only-of-type {\n",
       "        vertical-align: middle;\n",
       "    }\n",
       "\n",
       "    .dataframe tbody tr th {\n",
       "        vertical-align: top;\n",
       "    }\n",
       "\n",
       "    .dataframe thead th {\n",
       "        text-align: right;\n",
       "    }\n",
       "</style>\n",
       "<table border=\"1\" class=\"dataframe\">\n",
       "  <thead>\n",
       "    <tr style=\"text-align: right;\">\n",
       "      <th></th>\n",
       "      <th>Nome</th>\n",
       "      <th>Idade</th>\n",
       "      <th>Notas</th>\n",
       "      <th>Aprovado</th>\n",
       "    </tr>\n",
       "  </thead>\n",
       "  <tbody>\n",
       "    <tr>\n",
       "      <th>0</th>\n",
       "      <td>Ary</td>\n",
       "      <td>20</td>\n",
       "      <td>7.5</td>\n",
       "      <td>True</td>\n",
       "    </tr>\n",
       "    <tr>\n",
       "      <th>1</th>\n",
       "      <td>Ana</td>\n",
       "      <td>18</td>\n",
       "      <td>NaN</td>\n",
       "      <td>False</td>\n",
       "    </tr>\n",
       "    <tr>\n",
       "      <th>2</th>\n",
       "      <td>Cátia</td>\n",
       "      <td>27</td>\n",
       "      <td>2.5</td>\n",
       "      <td>False</td>\n",
       "    </tr>\n",
       "    <tr>\n",
       "      <th>3</th>\n",
       "      <td>Denis</td>\n",
       "      <td>18</td>\n",
       "      <td>5.0</td>\n",
       "      <td>False</td>\n",
       "    </tr>\n",
       "    <tr>\n",
       "      <th>4</th>\n",
       "      <td>Beto</td>\n",
       "      <td>21</td>\n",
       "      <td>10.0</td>\n",
       "      <td>True</td>\n",
       "    </tr>\n",
       "    <tr>\n",
       "      <th>5</th>\n",
       "      <td>Bruna</td>\n",
       "      <td>23</td>\n",
       "      <td>NaN</td>\n",
       "      <td>False</td>\n",
       "    </tr>\n",
       "    <tr>\n",
       "      <th>6</th>\n",
       "      <td>Dara</td>\n",
       "      <td>21</td>\n",
       "      <td>7.0</td>\n",
       "      <td>True</td>\n",
       "    </tr>\n",
       "    <tr>\n",
       "      <th>7</th>\n",
       "      <td>Carlos</td>\n",
       "      <td>19</td>\n",
       "      <td>6.0</td>\n",
       "      <td>True</td>\n",
       "    </tr>\n",
       "    <tr>\n",
       "      <th>8</th>\n",
       "      <td>Alice</td>\n",
       "      <td>35</td>\n",
       "      <td>5.6</td>\n",
       "      <td>False</td>\n",
       "    </tr>\n",
       "    <tr>\n",
       "      <th>9</th>\n",
       "      <td>Vitor</td>\n",
       "      <td>28</td>\n",
       "      <td>NaN</td>\n",
       "      <td>False</td>\n",
       "    </tr>\n",
       "    <tr>\n",
       "      <th>10</th>\n",
       "      <td>Daniel</td>\n",
       "      <td>21</td>\n",
       "      <td>NaN</td>\n",
       "      <td>False</td>\n",
       "    </tr>\n",
       "    <tr>\n",
       "      <th>11</th>\n",
       "      <td>Igor</td>\n",
       "      <td>24</td>\n",
       "      <td>4.5</td>\n",
       "      <td>False</td>\n",
       "    </tr>\n",
       "    <tr>\n",
       "      <th>12</th>\n",
       "      <td>Sthefanie</td>\n",
       "      <td>26</td>\n",
       "      <td>9.5</td>\n",
       "      <td>True</td>\n",
       "    </tr>\n",
       "    <tr>\n",
       "      <th>13</th>\n",
       "      <td>Mirla</td>\n",
       "      <td>25</td>\n",
       "      <td>9.0</td>\n",
       "      <td>True</td>\n",
       "    </tr>\n",
       "    <tr>\n",
       "      <th>14</th>\n",
       "      <td>Paulo</td>\n",
       "      <td>37</td>\n",
       "      <td>NaN</td>\n",
       "      <td>False</td>\n",
       "    </tr>\n",
       "    <tr>\n",
       "      <th>15</th>\n",
       "      <td>Mylena</td>\n",
       "      <td>29</td>\n",
       "      <td>7.0</td>\n",
       "      <td>True</td>\n",
       "    </tr>\n",
       "    <tr>\n",
       "      <th>16</th>\n",
       "      <td>Lucas</td>\n",
       "      <td>33</td>\n",
       "      <td>NaN</td>\n",
       "      <td>False</td>\n",
       "    </tr>\n",
       "    <tr>\n",
       "      <th>17</th>\n",
       "      <td>Nadia</td>\n",
       "      <td>34</td>\n",
       "      <td>8.0</td>\n",
       "      <td>True</td>\n",
       "    </tr>\n",
       "  </tbody>\n",
       "</table>\n",
       "</div>"
      ],
      "text/plain": [
       "         Nome  Idade  Notas  Aprovado\n",
       "0         Ary     20    7.5      True\n",
       "1         Ana     18    NaN     False\n",
       "2       Cátia     27    2.5     False\n",
       "3       Denis     18    5.0     False\n",
       "4        Beto     21   10.0      True\n",
       "5       Bruna     23    NaN     False\n",
       "6        Dara     21    7.0      True\n",
       "7      Carlos     19    6.0      True\n",
       "8       Alice     35    5.6     False\n",
       "9       Vitor     28    NaN     False\n",
       "10     Daniel     21    NaN     False\n",
       "11       Igor     24    4.5     False\n",
       "12  Sthefanie     26    9.5      True\n",
       "13      Mirla     25    9.0      True\n",
       "14      Paulo     37    NaN     False\n",
       "15     Mylena     29    7.0      True\n",
       "16      Lucas     33    NaN     False\n",
       "17      Nadia     34    8.0      True"
      ]
     },
     "execution_count": 30,
     "metadata": {},
     "output_type": "execute_result"
    }
   ],
   "source": [
    "url = 'https://raw.githubusercontent.com/moises-rb/DataScienceOne/refs/heads/main/Aprendendo_Fazer_ETL/Pandas/pandas-dados/alunos.csv'\n",
    "\n",
    "dados_alunos = pd.read_csv(url, sep=',')\n",
    "\n",
    "dados_alunos"
   ]
  },
  {
   "cell_type": "code",
   "execution_count": 37,
   "id": "b10a2e92",
   "metadata": {},
   "outputs": [
    {
     "data": {
      "application/vnd.microsoft.datawrangler.viewer.v0+json": {
       "columns": [
        {
         "name": "index",
         "rawType": "int64",
         "type": "integer"
        },
        {
         "name": "Nome",
         "rawType": "object",
         "type": "string"
        },
        {
         "name": "Idade",
         "rawType": "int64",
         "type": "integer"
        },
        {
         "name": "Notas",
         "rawType": "float64",
         "type": "float"
        },
        {
         "name": "Aprovado",
         "rawType": "bool",
         "type": "boolean"
        },
        {
         "name": "Pontos_extra",
         "rawType": "float64",
         "type": "float"
        },
        {
         "name": "Pontos_extras",
         "rawType": "float64",
         "type": "float"
        }
       ],
       "conversionMethod": "pd.DataFrame",
       "ref": "a8d886ce-b874-42b0-bec5-ddd1b72e23d4",
       "rows": [
        [
         "0",
         "Ary",
         "20",
         "7.5",
         "True",
         "3.0",
         "3.0"
        ],
        [
         "1",
         "Ana",
         "18",
         null,
         "False",
         null,
         null
        ],
        [
         "2",
         "Cátia",
         "27",
         "2.5",
         "False",
         "1.0",
         "1.0"
        ],
        [
         "3",
         "Denis",
         "18",
         "5.0",
         "False",
         "2.0",
         "2.0"
        ],
        [
         "4",
         "Beto",
         "21",
         "10.0",
         "True",
         "4.0",
         "4.0"
        ]
       ],
       "shape": {
        "columns": 6,
        "rows": 5
       }
      },
      "text/html": [
       "<div>\n",
       "<style scoped>\n",
       "    .dataframe tbody tr th:only-of-type {\n",
       "        vertical-align: middle;\n",
       "    }\n",
       "\n",
       "    .dataframe tbody tr th {\n",
       "        vertical-align: top;\n",
       "    }\n",
       "\n",
       "    .dataframe thead th {\n",
       "        text-align: right;\n",
       "    }\n",
       "</style>\n",
       "<table border=\"1\" class=\"dataframe\">\n",
       "  <thead>\n",
       "    <tr style=\"text-align: right;\">\n",
       "      <th></th>\n",
       "      <th>Nome</th>\n",
       "      <th>Idade</th>\n",
       "      <th>Notas</th>\n",
       "      <th>Aprovado</th>\n",
       "      <th>Pontos_extra</th>\n",
       "      <th>Pontos_extras</th>\n",
       "    </tr>\n",
       "  </thead>\n",
       "  <tbody>\n",
       "    <tr>\n",
       "      <th>0</th>\n",
       "      <td>Ary</td>\n",
       "      <td>20</td>\n",
       "      <td>7.5</td>\n",
       "      <td>True</td>\n",
       "      <td>3.0</td>\n",
       "      <td>3.0</td>\n",
       "    </tr>\n",
       "    <tr>\n",
       "      <th>1</th>\n",
       "      <td>Ana</td>\n",
       "      <td>18</td>\n",
       "      <td>NaN</td>\n",
       "      <td>False</td>\n",
       "      <td>NaN</td>\n",
       "      <td>NaN</td>\n",
       "    </tr>\n",
       "    <tr>\n",
       "      <th>2</th>\n",
       "      <td>Cátia</td>\n",
       "      <td>27</td>\n",
       "      <td>2.5</td>\n",
       "      <td>False</td>\n",
       "      <td>1.0</td>\n",
       "      <td>1.0</td>\n",
       "    </tr>\n",
       "    <tr>\n",
       "      <th>3</th>\n",
       "      <td>Denis</td>\n",
       "      <td>18</td>\n",
       "      <td>5.0</td>\n",
       "      <td>False</td>\n",
       "      <td>2.0</td>\n",
       "      <td>2.0</td>\n",
       "    </tr>\n",
       "    <tr>\n",
       "      <th>4</th>\n",
       "      <td>Beto</td>\n",
       "      <td>21</td>\n",
       "      <td>10.0</td>\n",
       "      <td>True</td>\n",
       "      <td>4.0</td>\n",
       "      <td>4.0</td>\n",
       "    </tr>\n",
       "  </tbody>\n",
       "</table>\n",
       "</div>"
      ],
      "text/plain": [
       "    Nome  Idade  Notas  Aprovado  Pontos_extra  Pontos_extras\n",
       "0    Ary     20    7.5      True           3.0            3.0\n",
       "1    Ana     18    NaN     False           NaN            NaN\n",
       "2  Cátia     27    2.5     False           1.0            1.0\n",
       "3  Denis     18    5.0     False           2.0            2.0\n",
       "4   Beto     21   10.0      True           4.0            4.0"
      ]
     },
     "execution_count": 37,
     "metadata": {},
     "output_type": "execute_result"
    }
   ],
   "source": [
    "#dados_alunos['Pontos_extra'] = dados_alunos['Notas'] * 0.4 \n",
    "\n",
    "dados_alunos['Pontos_extras'] = dados_alunos['Notas'].apply(lambda x: x*0.4)\n",
    "\n",
    "dados_alunos.head()"
   ]
  },
  {
   "cell_type": "code",
   "execution_count": 38,
   "id": "bcd8e5ed",
   "metadata": {},
   "outputs": [
    {
     "data": {
      "application/vnd.microsoft.datawrangler.viewer.v0+json": {
       "columns": [
        {
         "name": "index",
         "rawType": "int64",
         "type": "integer"
        },
        {
         "name": "Nome",
         "rawType": "object",
         "type": "string"
        },
        {
         "name": "Idade",
         "rawType": "int64",
         "type": "integer"
        },
        {
         "name": "Notas",
         "rawType": "float64",
         "type": "float"
        },
        {
         "name": "Aprovado",
         "rawType": "bool",
         "type": "boolean"
        },
        {
         "name": "Pontos_extra",
         "rawType": "float64",
         "type": "float"
        },
        {
         "name": "Pontos_extras",
         "rawType": "float64",
         "type": "float"
        },
        {
         "name": "Notas_finais",
         "rawType": "float64",
         "type": "float"
        }
       ],
       "conversionMethod": "pd.DataFrame",
       "ref": "9ed4f943-32d2-40f2-bcf9-4da4aaeac553",
       "rows": [
        [
         "0",
         "Ary",
         "20",
         "7.5",
         "True",
         "3.0",
         "3.0",
         "10.5"
        ],
        [
         "1",
         "Ana",
         "18",
         null,
         "False",
         null,
         null,
         null
        ],
        [
         "2",
         "Cátia",
         "27",
         "2.5",
         "False",
         "1.0",
         "1.0",
         "3.5"
        ],
        [
         "3",
         "Denis",
         "18",
         "5.0",
         "False",
         "2.0",
         "2.0",
         "7.0"
        ],
        [
         "4",
         "Beto",
         "21",
         "10.0",
         "True",
         "4.0",
         "4.0",
         "14.0"
        ]
       ],
       "shape": {
        "columns": 7,
        "rows": 5
       }
      },
      "text/html": [
       "<div>\n",
       "<style scoped>\n",
       "    .dataframe tbody tr th:only-of-type {\n",
       "        vertical-align: middle;\n",
       "    }\n",
       "\n",
       "    .dataframe tbody tr th {\n",
       "        vertical-align: top;\n",
       "    }\n",
       "\n",
       "    .dataframe thead th {\n",
       "        text-align: right;\n",
       "    }\n",
       "</style>\n",
       "<table border=\"1\" class=\"dataframe\">\n",
       "  <thead>\n",
       "    <tr style=\"text-align: right;\">\n",
       "      <th></th>\n",
       "      <th>Nome</th>\n",
       "      <th>Idade</th>\n",
       "      <th>Notas</th>\n",
       "      <th>Aprovado</th>\n",
       "      <th>Pontos_extra</th>\n",
       "      <th>Pontos_extras</th>\n",
       "      <th>Notas_finais</th>\n",
       "    </tr>\n",
       "  </thead>\n",
       "  <tbody>\n",
       "    <tr>\n",
       "      <th>0</th>\n",
       "      <td>Ary</td>\n",
       "      <td>20</td>\n",
       "      <td>7.5</td>\n",
       "      <td>True</td>\n",
       "      <td>3.0</td>\n",
       "      <td>3.0</td>\n",
       "      <td>10.5</td>\n",
       "    </tr>\n",
       "    <tr>\n",
       "      <th>1</th>\n",
       "      <td>Ana</td>\n",
       "      <td>18</td>\n",
       "      <td>NaN</td>\n",
       "      <td>False</td>\n",
       "      <td>NaN</td>\n",
       "      <td>NaN</td>\n",
       "      <td>NaN</td>\n",
       "    </tr>\n",
       "    <tr>\n",
       "      <th>2</th>\n",
       "      <td>Cátia</td>\n",
       "      <td>27</td>\n",
       "      <td>2.5</td>\n",
       "      <td>False</td>\n",
       "      <td>1.0</td>\n",
       "      <td>1.0</td>\n",
       "      <td>3.5</td>\n",
       "    </tr>\n",
       "    <tr>\n",
       "      <th>3</th>\n",
       "      <td>Denis</td>\n",
       "      <td>18</td>\n",
       "      <td>5.0</td>\n",
       "      <td>False</td>\n",
       "      <td>2.0</td>\n",
       "      <td>2.0</td>\n",
       "      <td>7.0</td>\n",
       "    </tr>\n",
       "    <tr>\n",
       "      <th>4</th>\n",
       "      <td>Beto</td>\n",
       "      <td>21</td>\n",
       "      <td>10.0</td>\n",
       "      <td>True</td>\n",
       "      <td>4.0</td>\n",
       "      <td>4.0</td>\n",
       "      <td>14.0</td>\n",
       "    </tr>\n",
       "  </tbody>\n",
       "</table>\n",
       "</div>"
      ],
      "text/plain": [
       "    Nome  Idade  Notas  Aprovado  Pontos_extra  Pontos_extras  Notas_finais\n",
       "0    Ary     20    7.5      True           3.0            3.0          10.5\n",
       "1    Ana     18    NaN     False           NaN            NaN           NaN\n",
       "2  Cátia     27    2.5     False           1.0            1.0           3.5\n",
       "3  Denis     18    5.0     False           2.0            2.0           7.0\n",
       "4   Beto     21   10.0      True           4.0            4.0          14.0"
      ]
     },
     "execution_count": 38,
     "metadata": {},
     "output_type": "execute_result"
    }
   ],
   "source": [
    "dados_alunos['Notas_finais'] = dados_alunos['Notas'] + dados_alunos['Pontos_extras']\n",
    "\n",
    "dados_alunos.head()"
   ]
  },
  {
   "cell_type": "code",
   "execution_count": 39,
   "id": "63bd0769",
   "metadata": {},
   "outputs": [
    {
     "data": {
      "application/vnd.microsoft.datawrangler.viewer.v0+json": {
       "columns": [
        {
         "name": "index",
         "rawType": "int64",
         "type": "integer"
        },
        {
         "name": "Nome",
         "rawType": "object",
         "type": "string"
        },
        {
         "name": "Idade",
         "rawType": "int64",
         "type": "integer"
        },
        {
         "name": "Notas",
         "rawType": "float64",
         "type": "float"
        },
        {
         "name": "Aprovado",
         "rawType": "bool",
         "type": "boolean"
        },
        {
         "name": "Pontos_extra",
         "rawType": "float64",
         "type": "float"
        },
        {
         "name": "Pontos_extras",
         "rawType": "float64",
         "type": "float"
        },
        {
         "name": "Notas_finais",
         "rawType": "float64",
         "type": "float"
        },
        {
         "name": "Aprovado_final",
         "rawType": "bool",
         "type": "boolean"
        }
       ],
       "conversionMethod": "pd.DataFrame",
       "ref": "84d894f3-1a72-46a9-978b-22f6f2822e5b",
       "rows": [
        [
         "0",
         "Ary",
         "20",
         "7.5",
         "True",
         "3.0",
         "3.0",
         "10.5",
         "True"
        ],
        [
         "1",
         "Ana",
         "18",
         null,
         "False",
         null,
         null,
         null,
         "False"
        ],
        [
         "2",
         "Cátia",
         "27",
         "2.5",
         "False",
         "1.0",
         "1.0",
         "3.5",
         "False"
        ],
        [
         "3",
         "Denis",
         "18",
         "5.0",
         "False",
         "2.0",
         "2.0",
         "7.0",
         "True"
        ],
        [
         "4",
         "Beto",
         "21",
         "10.0",
         "True",
         "4.0",
         "4.0",
         "14.0",
         "True"
        ],
        [
         "5",
         "Bruna",
         "23",
         null,
         "False",
         null,
         null,
         null,
         "False"
        ],
        [
         "6",
         "Dara",
         "21",
         "7.0",
         "True",
         "2.8000000000000003",
         "2.8000000000000003",
         "9.8",
         "True"
        ],
        [
         "7",
         "Carlos",
         "19",
         "6.0",
         "True",
         "2.4000000000000004",
         "2.4000000000000004",
         "8.4",
         "True"
        ],
        [
         "8",
         "Alice",
         "35",
         "5.6",
         "False",
         "2.2399999999999998",
         "2.2399999999999998",
         "7.84",
         "True"
        ],
        [
         "9",
         "Vitor",
         "28",
         null,
         "False",
         null,
         null,
         null,
         "False"
        ],
        [
         "10",
         "Daniel",
         "21",
         null,
         "False",
         null,
         null,
         null,
         "False"
        ],
        [
         "11",
         "Igor",
         "24",
         "4.5",
         "False",
         "1.8",
         "1.8",
         "6.3",
         "True"
        ],
        [
         "12",
         "Sthefanie",
         "26",
         "9.5",
         "True",
         "3.8000000000000003",
         "3.8000000000000003",
         "13.3",
         "True"
        ],
        [
         "13",
         "Mirla",
         "25",
         "9.0",
         "True",
         "3.6",
         "3.6",
         "12.6",
         "True"
        ],
        [
         "14",
         "Paulo",
         "37",
         null,
         "False",
         null,
         null,
         null,
         "False"
        ],
        [
         "15",
         "Mylena",
         "29",
         "7.0",
         "True",
         "2.8000000000000003",
         "2.8000000000000003",
         "9.8",
         "True"
        ],
        [
         "16",
         "Lucas",
         "33",
         null,
         "False",
         null,
         null,
         null,
         "False"
        ],
        [
         "17",
         "Nadia",
         "34",
         "8.0",
         "True",
         "3.2",
         "3.2",
         "11.2",
         "True"
        ]
       ],
       "shape": {
        "columns": 8,
        "rows": 18
       }
      },
      "text/html": [
       "<div>\n",
       "<style scoped>\n",
       "    .dataframe tbody tr th:only-of-type {\n",
       "        vertical-align: middle;\n",
       "    }\n",
       "\n",
       "    .dataframe tbody tr th {\n",
       "        vertical-align: top;\n",
       "    }\n",
       "\n",
       "    .dataframe thead th {\n",
       "        text-align: right;\n",
       "    }\n",
       "</style>\n",
       "<table border=\"1\" class=\"dataframe\">\n",
       "  <thead>\n",
       "    <tr style=\"text-align: right;\">\n",
       "      <th></th>\n",
       "      <th>Nome</th>\n",
       "      <th>Idade</th>\n",
       "      <th>Notas</th>\n",
       "      <th>Aprovado</th>\n",
       "      <th>Pontos_extra</th>\n",
       "      <th>Pontos_extras</th>\n",
       "      <th>Notas_finais</th>\n",
       "      <th>Aprovado_final</th>\n",
       "    </tr>\n",
       "  </thead>\n",
       "  <tbody>\n",
       "    <tr>\n",
       "      <th>0</th>\n",
       "      <td>Ary</td>\n",
       "      <td>20</td>\n",
       "      <td>7.5</td>\n",
       "      <td>True</td>\n",
       "      <td>3.00</td>\n",
       "      <td>3.00</td>\n",
       "      <td>10.50</td>\n",
       "      <td>True</td>\n",
       "    </tr>\n",
       "    <tr>\n",
       "      <th>1</th>\n",
       "      <td>Ana</td>\n",
       "      <td>18</td>\n",
       "      <td>NaN</td>\n",
       "      <td>False</td>\n",
       "      <td>NaN</td>\n",
       "      <td>NaN</td>\n",
       "      <td>NaN</td>\n",
       "      <td>False</td>\n",
       "    </tr>\n",
       "    <tr>\n",
       "      <th>2</th>\n",
       "      <td>Cátia</td>\n",
       "      <td>27</td>\n",
       "      <td>2.5</td>\n",
       "      <td>False</td>\n",
       "      <td>1.00</td>\n",
       "      <td>1.00</td>\n",
       "      <td>3.50</td>\n",
       "      <td>False</td>\n",
       "    </tr>\n",
       "    <tr>\n",
       "      <th>3</th>\n",
       "      <td>Denis</td>\n",
       "      <td>18</td>\n",
       "      <td>5.0</td>\n",
       "      <td>False</td>\n",
       "      <td>2.00</td>\n",
       "      <td>2.00</td>\n",
       "      <td>7.00</td>\n",
       "      <td>True</td>\n",
       "    </tr>\n",
       "    <tr>\n",
       "      <th>4</th>\n",
       "      <td>Beto</td>\n",
       "      <td>21</td>\n",
       "      <td>10.0</td>\n",
       "      <td>True</td>\n",
       "      <td>4.00</td>\n",
       "      <td>4.00</td>\n",
       "      <td>14.00</td>\n",
       "      <td>True</td>\n",
       "    </tr>\n",
       "    <tr>\n",
       "      <th>5</th>\n",
       "      <td>Bruna</td>\n",
       "      <td>23</td>\n",
       "      <td>NaN</td>\n",
       "      <td>False</td>\n",
       "      <td>NaN</td>\n",
       "      <td>NaN</td>\n",
       "      <td>NaN</td>\n",
       "      <td>False</td>\n",
       "    </tr>\n",
       "    <tr>\n",
       "      <th>6</th>\n",
       "      <td>Dara</td>\n",
       "      <td>21</td>\n",
       "      <td>7.0</td>\n",
       "      <td>True</td>\n",
       "      <td>2.80</td>\n",
       "      <td>2.80</td>\n",
       "      <td>9.80</td>\n",
       "      <td>True</td>\n",
       "    </tr>\n",
       "    <tr>\n",
       "      <th>7</th>\n",
       "      <td>Carlos</td>\n",
       "      <td>19</td>\n",
       "      <td>6.0</td>\n",
       "      <td>True</td>\n",
       "      <td>2.40</td>\n",
       "      <td>2.40</td>\n",
       "      <td>8.40</td>\n",
       "      <td>True</td>\n",
       "    </tr>\n",
       "    <tr>\n",
       "      <th>8</th>\n",
       "      <td>Alice</td>\n",
       "      <td>35</td>\n",
       "      <td>5.6</td>\n",
       "      <td>False</td>\n",
       "      <td>2.24</td>\n",
       "      <td>2.24</td>\n",
       "      <td>7.84</td>\n",
       "      <td>True</td>\n",
       "    </tr>\n",
       "    <tr>\n",
       "      <th>9</th>\n",
       "      <td>Vitor</td>\n",
       "      <td>28</td>\n",
       "      <td>NaN</td>\n",
       "      <td>False</td>\n",
       "      <td>NaN</td>\n",
       "      <td>NaN</td>\n",
       "      <td>NaN</td>\n",
       "      <td>False</td>\n",
       "    </tr>\n",
       "    <tr>\n",
       "      <th>10</th>\n",
       "      <td>Daniel</td>\n",
       "      <td>21</td>\n",
       "      <td>NaN</td>\n",
       "      <td>False</td>\n",
       "      <td>NaN</td>\n",
       "      <td>NaN</td>\n",
       "      <td>NaN</td>\n",
       "      <td>False</td>\n",
       "    </tr>\n",
       "    <tr>\n",
       "      <th>11</th>\n",
       "      <td>Igor</td>\n",
       "      <td>24</td>\n",
       "      <td>4.5</td>\n",
       "      <td>False</td>\n",
       "      <td>1.80</td>\n",
       "      <td>1.80</td>\n",
       "      <td>6.30</td>\n",
       "      <td>True</td>\n",
       "    </tr>\n",
       "    <tr>\n",
       "      <th>12</th>\n",
       "      <td>Sthefanie</td>\n",
       "      <td>26</td>\n",
       "      <td>9.5</td>\n",
       "      <td>True</td>\n",
       "      <td>3.80</td>\n",
       "      <td>3.80</td>\n",
       "      <td>13.30</td>\n",
       "      <td>True</td>\n",
       "    </tr>\n",
       "    <tr>\n",
       "      <th>13</th>\n",
       "      <td>Mirla</td>\n",
       "      <td>25</td>\n",
       "      <td>9.0</td>\n",
       "      <td>True</td>\n",
       "      <td>3.60</td>\n",
       "      <td>3.60</td>\n",
       "      <td>12.60</td>\n",
       "      <td>True</td>\n",
       "    </tr>\n",
       "    <tr>\n",
       "      <th>14</th>\n",
       "      <td>Paulo</td>\n",
       "      <td>37</td>\n",
       "      <td>NaN</td>\n",
       "      <td>False</td>\n",
       "      <td>NaN</td>\n",
       "      <td>NaN</td>\n",
       "      <td>NaN</td>\n",
       "      <td>False</td>\n",
       "    </tr>\n",
       "    <tr>\n",
       "      <th>15</th>\n",
       "      <td>Mylena</td>\n",
       "      <td>29</td>\n",
       "      <td>7.0</td>\n",
       "      <td>True</td>\n",
       "      <td>2.80</td>\n",
       "      <td>2.80</td>\n",
       "      <td>9.80</td>\n",
       "      <td>True</td>\n",
       "    </tr>\n",
       "    <tr>\n",
       "      <th>16</th>\n",
       "      <td>Lucas</td>\n",
       "      <td>33</td>\n",
       "      <td>NaN</td>\n",
       "      <td>False</td>\n",
       "      <td>NaN</td>\n",
       "      <td>NaN</td>\n",
       "      <td>NaN</td>\n",
       "      <td>False</td>\n",
       "    </tr>\n",
       "    <tr>\n",
       "      <th>17</th>\n",
       "      <td>Nadia</td>\n",
       "      <td>34</td>\n",
       "      <td>8.0</td>\n",
       "      <td>True</td>\n",
       "      <td>3.20</td>\n",
       "      <td>3.20</td>\n",
       "      <td>11.20</td>\n",
       "      <td>True</td>\n",
       "    </tr>\n",
       "  </tbody>\n",
       "</table>\n",
       "</div>"
      ],
      "text/plain": [
       "         Nome  Idade  Notas  Aprovado  Pontos_extra  Pontos_extras  \\\n",
       "0         Ary     20    7.5      True          3.00           3.00   \n",
       "1         Ana     18    NaN     False           NaN            NaN   \n",
       "2       Cátia     27    2.5     False          1.00           1.00   \n",
       "3       Denis     18    5.0     False          2.00           2.00   \n",
       "4        Beto     21   10.0      True          4.00           4.00   \n",
       "5       Bruna     23    NaN     False           NaN            NaN   \n",
       "6        Dara     21    7.0      True          2.80           2.80   \n",
       "7      Carlos     19    6.0      True          2.40           2.40   \n",
       "8       Alice     35    5.6     False          2.24           2.24   \n",
       "9       Vitor     28    NaN     False           NaN            NaN   \n",
       "10     Daniel     21    NaN     False           NaN            NaN   \n",
       "11       Igor     24    4.5     False          1.80           1.80   \n",
       "12  Sthefanie     26    9.5      True          3.80           3.80   \n",
       "13      Mirla     25    9.0      True          3.60           3.60   \n",
       "14      Paulo     37    NaN     False           NaN            NaN   \n",
       "15     Mylena     29    7.0      True          2.80           2.80   \n",
       "16      Lucas     33    NaN     False           NaN            NaN   \n",
       "17      Nadia     34    8.0      True          3.20           3.20   \n",
       "\n",
       "    Notas_finais  Aprovado_final  \n",
       "0          10.50            True  \n",
       "1            NaN           False  \n",
       "2           3.50           False  \n",
       "3           7.00            True  \n",
       "4          14.00            True  \n",
       "5            NaN           False  \n",
       "6           9.80            True  \n",
       "7           8.40            True  \n",
       "8           7.84            True  \n",
       "9            NaN           False  \n",
       "10           NaN           False  \n",
       "11          6.30            True  \n",
       "12         13.30            True  \n",
       "13         12.60            True  \n",
       "14           NaN           False  \n",
       "15          9.80            True  \n",
       "16           NaN           False  \n",
       "17         11.20            True  "
      ]
     },
     "execution_count": 39,
     "metadata": {},
     "output_type": "execute_result"
    }
   ],
   "source": [
    "dados_alunos['Aprovado_final'] = dados_alunos['Notas_finais'].apply(lambda x: True if x >= 6 else False)\n",
    "dados_alunos"
   ]
  },
  {
   "cell_type": "code",
   "execution_count": 40,
   "id": "44dfffd0",
   "metadata": {},
   "outputs": [
    {
     "data": {
      "application/vnd.microsoft.datawrangler.viewer.v0+json": {
       "columns": [
        {
         "name": "index",
         "rawType": "int64",
         "type": "integer"
        },
        {
         "name": "Nome",
         "rawType": "object",
         "type": "string"
        },
        {
         "name": "Idade",
         "rawType": "int64",
         "type": "integer"
        },
        {
         "name": "Notas",
         "rawType": "float64",
         "type": "float"
        },
        {
         "name": "Aprovado",
         "rawType": "bool",
         "type": "boolean"
        },
        {
         "name": "Pontos_extra",
         "rawType": "float64",
         "type": "float"
        },
        {
         "name": "Pontos_extras",
         "rawType": "float64",
         "type": "float"
        },
        {
         "name": "Notas_finais",
         "rawType": "float64",
         "type": "float"
        },
        {
         "name": "Aprovado_final",
         "rawType": "bool",
         "type": "boolean"
        }
       ],
       "conversionMethod": "pd.DataFrame",
       "ref": "33961956-c4d8-424f-9de8-a7568df33b07",
       "rows": [
        [
         "3",
         "Denis",
         "18",
         "5.0",
         "False",
         "2.0",
         "2.0",
         "7.0",
         "True"
        ],
        [
         "8",
         "Alice",
         "35",
         "5.6",
         "False",
         "2.2399999999999998",
         "2.2399999999999998",
         "7.84",
         "True"
        ],
        [
         "11",
         "Igor",
         "24",
         "4.5",
         "False",
         "1.8",
         "1.8",
         "6.3",
         "True"
        ]
       ],
       "shape": {
        "columns": 8,
        "rows": 3
       }
      },
      "text/html": [
       "<div>\n",
       "<style scoped>\n",
       "    .dataframe tbody tr th:only-of-type {\n",
       "        vertical-align: middle;\n",
       "    }\n",
       "\n",
       "    .dataframe tbody tr th {\n",
       "        vertical-align: top;\n",
       "    }\n",
       "\n",
       "    .dataframe thead th {\n",
       "        text-align: right;\n",
       "    }\n",
       "</style>\n",
       "<table border=\"1\" class=\"dataframe\">\n",
       "  <thead>\n",
       "    <tr style=\"text-align: right;\">\n",
       "      <th></th>\n",
       "      <th>Nome</th>\n",
       "      <th>Idade</th>\n",
       "      <th>Notas</th>\n",
       "      <th>Aprovado</th>\n",
       "      <th>Pontos_extra</th>\n",
       "      <th>Pontos_extras</th>\n",
       "      <th>Notas_finais</th>\n",
       "      <th>Aprovado_final</th>\n",
       "    </tr>\n",
       "  </thead>\n",
       "  <tbody>\n",
       "    <tr>\n",
       "      <th>3</th>\n",
       "      <td>Denis</td>\n",
       "      <td>18</td>\n",
       "      <td>5.0</td>\n",
       "      <td>False</td>\n",
       "      <td>2.00</td>\n",
       "      <td>2.00</td>\n",
       "      <td>7.00</td>\n",
       "      <td>True</td>\n",
       "    </tr>\n",
       "    <tr>\n",
       "      <th>8</th>\n",
       "      <td>Alice</td>\n",
       "      <td>35</td>\n",
       "      <td>5.6</td>\n",
       "      <td>False</td>\n",
       "      <td>2.24</td>\n",
       "      <td>2.24</td>\n",
       "      <td>7.84</td>\n",
       "      <td>True</td>\n",
       "    </tr>\n",
       "    <tr>\n",
       "      <th>11</th>\n",
       "      <td>Igor</td>\n",
       "      <td>24</td>\n",
       "      <td>4.5</td>\n",
       "      <td>False</td>\n",
       "      <td>1.80</td>\n",
       "      <td>1.80</td>\n",
       "      <td>6.30</td>\n",
       "      <td>True</td>\n",
       "    </tr>\n",
       "  </tbody>\n",
       "</table>\n",
       "</div>"
      ],
      "text/plain": [
       "     Nome  Idade  Notas  Aprovado  Pontos_extra  Pontos_extras  Notas_finais  \\\n",
       "3   Denis     18    5.0     False          2.00           2.00          7.00   \n",
       "8   Alice     35    5.6     False          2.24           2.24          7.84   \n",
       "11   Igor     24    4.5     False          1.80           1.80          6.30   \n",
       "\n",
       "    Aprovado_final  \n",
       "3             True  \n",
       "8             True  \n",
       "11            True  "
      ]
     },
     "execution_count": 40,
     "metadata": {},
     "output_type": "execute_result"
    }
   ],
   "source": [
    "dados_alunos.query('Aprovado == False & Aprovado_final == True')"
   ]
  },
  {
   "cell_type": "code",
   "execution_count": 41,
   "id": "60b52651",
   "metadata": {},
   "outputs": [
    {
     "data": {
      "application/vnd.microsoft.datawrangler.viewer.v0+json": {
       "columns": [
        {
         "name": "index",
         "rawType": "int64",
         "type": "integer"
        },
        {
         "name": "Nome",
         "rawType": "object",
         "type": "string"
        },
        {
         "name": "Idade",
         "rawType": "int64",
         "type": "integer"
        },
        {
         "name": "Notas",
         "rawType": "float64",
         "type": "float"
        },
        {
         "name": "Aprovado",
         "rawType": "bool",
         "type": "boolean"
        },
        {
         "name": "Pontos_extra",
         "rawType": "float64",
         "type": "float"
        },
        {
         "name": "Pontos_extras",
         "rawType": "float64",
         "type": "float"
        },
        {
         "name": "Notas_finais",
         "rawType": "float64",
         "type": "float"
        },
        {
         "name": "Aprovado_final",
         "rawType": "bool",
         "type": "boolean"
        }
       ],
       "conversionMethod": "pd.DataFrame",
       "ref": "c87240d9-5da0-48bf-bf10-ef2eb7fd5309",
       "rows": [
        [
         "3",
         "Denis",
         "18",
         "5.0",
         "False",
         "2.0",
         "2.0",
         "7.0",
         "True"
        ],
        [
         "8",
         "Alice",
         "35",
         "5.6",
         "False",
         "2.2399999999999998",
         "2.2399999999999998",
         "7.84",
         "True"
        ],
        [
         "11",
         "Igor",
         "24",
         "4.5",
         "False",
         "1.8",
         "1.8",
         "6.3",
         "True"
        ]
       ],
       "shape": {
        "columns": 8,
        "rows": 3
       }
      },
      "text/html": [
       "<div>\n",
       "<style scoped>\n",
       "    .dataframe tbody tr th:only-of-type {\n",
       "        vertical-align: middle;\n",
       "    }\n",
       "\n",
       "    .dataframe tbody tr th {\n",
       "        vertical-align: top;\n",
       "    }\n",
       "\n",
       "    .dataframe thead th {\n",
       "        text-align: right;\n",
       "    }\n",
       "</style>\n",
       "<table border=\"1\" class=\"dataframe\">\n",
       "  <thead>\n",
       "    <tr style=\"text-align: right;\">\n",
       "      <th></th>\n",
       "      <th>Nome</th>\n",
       "      <th>Idade</th>\n",
       "      <th>Notas</th>\n",
       "      <th>Aprovado</th>\n",
       "      <th>Pontos_extra</th>\n",
       "      <th>Pontos_extras</th>\n",
       "      <th>Notas_finais</th>\n",
       "      <th>Aprovado_final</th>\n",
       "    </tr>\n",
       "  </thead>\n",
       "  <tbody>\n",
       "    <tr>\n",
       "      <th>3</th>\n",
       "      <td>Denis</td>\n",
       "      <td>18</td>\n",
       "      <td>5.0</td>\n",
       "      <td>False</td>\n",
       "      <td>2.00</td>\n",
       "      <td>2.00</td>\n",
       "      <td>7.00</td>\n",
       "      <td>True</td>\n",
       "    </tr>\n",
       "    <tr>\n",
       "      <th>8</th>\n",
       "      <td>Alice</td>\n",
       "      <td>35</td>\n",
       "      <td>5.6</td>\n",
       "      <td>False</td>\n",
       "      <td>2.24</td>\n",
       "      <td>2.24</td>\n",
       "      <td>7.84</td>\n",
       "      <td>True</td>\n",
       "    </tr>\n",
       "    <tr>\n",
       "      <th>11</th>\n",
       "      <td>Igor</td>\n",
       "      <td>24</td>\n",
       "      <td>4.5</td>\n",
       "      <td>False</td>\n",
       "      <td>1.80</td>\n",
       "      <td>1.80</td>\n",
       "      <td>6.30</td>\n",
       "      <td>True</td>\n",
       "    </tr>\n",
       "  </tbody>\n",
       "</table>\n",
       "</div>"
      ],
      "text/plain": [
       "     Nome  Idade  Notas  Aprovado  Pontos_extra  Pontos_extras  Notas_finais  \\\n",
       "3   Denis     18    5.0     False          2.00           2.00          7.00   \n",
       "8   Alice     35    5.6     False          2.24           2.24          7.84   \n",
       "11   Igor     24    4.5     False          1.80           1.80          6.30   \n",
       "\n",
       "    Aprovado_final  \n",
       "3             True  \n",
       "8             True  \n",
       "11            True  "
      ]
     },
     "execution_count": 41,
     "metadata": {},
     "output_type": "execute_result"
    }
   ],
   "source": [
    "selecao = (dados_alunos['Aprovado'] == False) & (dados_alunos['Aprovado_final'] == True)\n",
    "dados_alunos[selecao]"
   ]
  }
 ],
 "metadata": {
  "kernelspec": {
   "display_name": "Python 3",
   "language": "python",
   "name": "python3"
  },
  "language_info": {
   "codemirror_mode": {
    "name": "ipython",
    "version": 3
   },
   "file_extension": ".py",
   "mimetype": "text/x-python",
   "name": "python",
   "nbconvert_exporter": "python",
   "pygments_lexer": "ipython3",
   "version": "3.12.7"
  }
 },
 "nbformat": 4,
 "nbformat_minor": 5
}
