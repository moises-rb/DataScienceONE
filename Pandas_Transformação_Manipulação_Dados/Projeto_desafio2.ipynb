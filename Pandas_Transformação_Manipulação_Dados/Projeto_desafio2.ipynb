{
 "cells": [
  {
   "cell_type": "code",
   "execution_count": 1,
   "id": "5a0c1522",
   "metadata": {},
   "outputs": [],
   "source": [
    "import pandas as pd\n",
    "import os\n",
    "import json"
   ]
  },
  {
   "cell_type": "code",
   "execution_count": 7,
   "id": "710c619e",
   "metadata": {},
   "outputs": [
    {
     "name": "stdout",
     "output_type": "stream",
     "text": [
      "DataFrame criado com sucesso! Primeiras linhas:\n",
      "      apartamento datas_combinadas_pagamento        datas_de_pagamento  \\\n",
      "0  A101 (blocoAP)   [01/06/2022, 01/07/2022]  [05/06/2022, 03/07/2022]   \n",
      "1  A102 (blocoAP)   [02/06/2022, 02/07/2022]  [02/06/2022, 06/07/2022]   \n",
      "2  B201 (blocoAP)   [03/06/2022, 03/07/2022]  [07/06/2022, 03/07/2022]   \n",
      "3  B202 (blocoAP)   [04/06/2022, 04/07/2022]  [07/06/2022, 05/07/2022]   \n",
      "4  C301 (blocoAP)   [05/06/2022, 05/07/2022]  [10/06/2022, 09/07/2022]   \n",
      "\n",
      "                      valor_aluguel  \n",
      "0  [$ 1000,0 reais, $ 2500,0 reais]  \n",
      "1  [$ 1100,0 reais, $ 2600,0 reais]  \n",
      "2  [$ 1200,0 reais, $ 2700,0 reais]  \n",
      "3  [$ 1300,0 reais, $ 2800,0 reais]  \n",
      "4  [$ 1400,0 reais, $ 2900,0 reais]  \n",
      "\n",
      "Informações do DataFrame:\n",
      "<class 'pandas.core.frame.DataFrame'>\n",
      "RangeIndex: 15 entries, 0 to 14\n",
      "Data columns (total 4 columns):\n",
      " #   Column                      Non-Null Count  Dtype \n",
      "---  ------                      --------------  ----- \n",
      " 0   apartamento                 15 non-null     object\n",
      " 1   datas_combinadas_pagamento  15 non-null     object\n",
      " 2   datas_de_pagamento          15 non-null     object\n",
      " 3   valor_aluguel               15 non-null     object\n",
      "dtypes: object(4)\n",
      "memory usage: 612.0+ bytes\n"
     ]
    }
   ],
   "source": [
    "arquivo = 'dados_locacao_imoveis.json'\n",
    "\n",
    "diretorio_base = os.getcwd()\n",
    "caminho_completo_arquivo = os.path.join(diretorio_base, 'base_dados', arquivo)\n",
    "dados = pd.read_json(caminho_completo_arquivo)\n",
    "\n",
    "dados = pd.json_normalize(dados['dados_locacao'])\n",
    "\n",
    "# Exibindo as primeiras linhas do DataFrame para verificar\n",
    "print(\"DataFrame criado com sucesso! Primeiras linhas:\")\n",
    "print(dados.head())\n",
    "\n",
    "# Para verificar as informações básicas do DataFrame (número de linhas, colunas, tipos de dados)\n",
    "print(\"\\nInformações do DataFrame:\")\n",
    "dados.info()"
   ]
  }
 ],
 "metadata": {
  "kernelspec": {
   "display_name": "Python 3",
   "language": "python",
   "name": "python3"
  },
  "language_info": {
   "codemirror_mode": {
    "name": "ipython",
    "version": 3
   },
   "file_extension": ".py",
   "mimetype": "text/x-python",
   "name": "python",
   "nbconvert_exporter": "python",
   "pygments_lexer": "ipython3",
   "version": "3.13.2"
  }
 },
 "nbformat": 4,
 "nbformat_minor": 5
}
