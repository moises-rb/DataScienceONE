{
  "cells": [
    {
      "cell_type": "code",
      "execution_count": null,
      "metadata": {
        "id": "504QlHu_OPx5"
      },
      "outputs": [],
      "source": [
        "import pandas as pd\n",
        "import json"
      ]
    },
    {
      "cell_type": "code",
      "execution_count": 17,
      "metadata": {},
      "outputs": [
        {
          "name": "stdout",
          "output_type": "stream",
          "text": [
            "Arquivo 'dados_hospedagem.json' lido com sucesso. O conteúdo está na variável 'dados_hospedagem'.\n"
          ]
        }
      ],
      "source": [
        "import os\n",
        "\n",
        "# Obtém o diretório de trabalho atual\n",
        "diretorio_base = os.getcwd()\n",
        "\n",
        "# Define o caminho relativo para o arquivo JSON\n",
        "dados_hospedagem = 'dados_hospedagem.json'\n",
        "caminho_arquivo = os.path.join(diretorio_base, 'base_dados', dados_hospedagem)\n",
        "\n",
        "# Lendo o arquivo json usando o módulo Python JSON\n",
        "try:\n",
        "    with open(caminho_arquivo, 'r') as f:\n",
        "        dados = json.load(f)  # Use json.load() diretamente para ler o arquivo\n",
        "except FileNotFoundError:\n",
        "    print(f\"Erro: O arquivo '{dados_hospedagem}' não foi encontrado no caminho: '{caminho_arquivo}'\")\n",
        "    exit()\n",
        "print(f\"Arquivo '{dados_hospedagem}' lido com sucesso. O conteúdo está na variável 'dados_hospedagem'.\")\n",
        "\n",
        "# Normalizando os dados com os parâmetros record_path e meta\n",
        "#df = pd.json_normalize(dados, record_path='Pacientes', meta=['Pesquisa', 'Ano'])\n",
        "\n",
        "# Exibindo as primeiras linhas do DataFrame para verificar\n",
        "#df"
      ]
    },
    {
      "cell_type": "code",
      "execution_count": null,
      "metadata": {},
      "outputs": [
        {
          "ename": "AttributeError",
          "evalue": "'str' object has no attribute 'head'",
          "output_type": "error",
          "traceback": [
            "\u001b[31m---------------------------------------------------------------------------\u001b[39m",
            "\u001b[31mAttributeError\u001b[39m                            Traceback (most recent call last)",
            "\u001b[36mCell\u001b[39m\u001b[36m \u001b[39m\u001b[32mIn[19]\u001b[39m\u001b[32m, line 1\u001b[39m\n\u001b[32m----> \u001b[39m\u001b[32m1\u001b[39m \u001b[43mdados_hospedagem\u001b[49m\u001b[43m.\u001b[49m\u001b[43mhead\u001b[49m()\n",
            "\u001b[31mAttributeError\u001b[39m: 'str' object has no attribute 'head'"
          ]
        },
        {
          "ename": "AttributeError",
          "evalue": "'str' object has no attribute 'head'",
          "output_type": "error",
          "traceback": [
            "\u001b[31m---------------------------------------------------------------------------\u001b[39m",
            "\u001b[31mAttributeError\u001b[39m                            Traceback (most recent call last)",
            "\u001b[36mCell\u001b[39m\u001b[36m \u001b[39m\u001b[32mIn[20]\u001b[39m\u001b[32m, line 1\u001b[39m\n\u001b[32m----> \u001b[39m\u001b[32m1\u001b[39m \u001b[43mdados_hospedagem\u001b[49m\u001b[43m.\u001b[49m\u001b[43mhead\u001b[49m()\n",
            "\u001b[31mAttributeError\u001b[39m: 'str' object has no attribute 'head'"
          ]
        }
      ],
      "source": [
        "dados_hospedagem"
      ]
    }
  ],
  "metadata": {
    "colab": {
      "authorship_tag": "ABX9TyP1n/TyY3o+8HSNzi94yRjk",
      "include_colab_link": true,
      "provenance": []
    },
    "kernelspec": {
      "display_name": "Python 3",
      "name": "python3"
    },
    "language_info": {
      "codemirror_mode": {
        "name": "ipython",
        "version": 3
      },
      "file_extension": ".py",
      "mimetype": "text/x-python",
      "name": "python",
      "nbconvert_exporter": "python",
      "pygments_lexer": "ipython3",
      "version": "3.13.2"
    }
  },
  "nbformat": 4,
  "nbformat_minor": 0
}
