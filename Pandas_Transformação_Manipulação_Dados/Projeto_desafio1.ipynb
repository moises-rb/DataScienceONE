{
 "cells": [
  {
   "cell_type": "code",
   "execution_count": 1,
   "id": "6917dda4",
   "metadata": {},
   "outputs": [],
   "source": [
    "import pandas as pd\n",
    "import json\n",
    "import os"
   ]
  },
  {
   "cell_type": "code",
   "execution_count": 8,
   "id": "5a78ab28",
   "metadata": {},
   "outputs": [
    {
     "name": "stdout",
     "output_type": "stream",
     "text": [
      "DataFrame criado com sucesso! Primeiras linhas:\n",
      "  Data de venda                                            Cliente  \\\n",
      "0    06/06/2022  [@ANA _LUCIA 321, DieGO ARMANDIU 210, DieGO AR...   \n",
      "1    07/06/2022  [Isabely JOanes 738, Isabely JOanes 738, Isabe...   \n",
      "2    08/06/2022  [Isabely JOanes 738, JOãO Gabriel 671, Julya m...   \n",
      "3    09/06/2022  [Julya meireles 914, MaRIA Julia 444, MaRIA Ju...   \n",
      "4    10/06/2022  [MaRIA Julia 444, PEDRO PASCO 812, Paulo castr...   \n",
      "\n",
      "                                Valor da compra  \n",
      "0    [R$ 836,5, R$ 573,33, R$ 392,8, R$ 512,34]  \n",
      "1  [R$ 825,31, R$ 168,07, R$ 339,18, R$ 314,69]  \n",
      "2  [R$ 682,05, R$ 386,34, R$ 622,65, R$ 630,79]  \n",
      "3   [R$ 390,3, R$ 759,16, R$ 334,47, R$ 678,78]  \n",
      "4  [R$ 314,24, R$ 311,15, R$ 899,16, R$ 885,24]  \n",
      "\n",
      "Informações do DataFrame:\n",
      "<class 'pandas.core.frame.DataFrame'>\n",
      "RangeIndex: 5 entries, 0 to 4\n",
      "Data columns (total 3 columns):\n",
      " #   Column           Non-Null Count  Dtype \n",
      "---  ------           --------------  ----- \n",
      " 0   Data de venda    5 non-null      object\n",
      " 1   Cliente          5 non-null      object\n",
      " 2   Valor da compra  5 non-null      object\n",
      "dtypes: object(3)\n",
      "memory usage: 252.0+ bytes\n"
     ]
    }
   ],
   "source": [
    "# Define o nome do arquivo JSON\n",
    "arquivo = 'dados_vendas_clientes.json'\n",
    "\n",
    "# **OPÇÃO 1: Se o arquivo estiver no mesmo diretório do script**\n",
    "# dados_df = pd.read_json(nome_arquivo)\n",
    "\n",
    "# **OPÇÃO 2: Se o arquivo estiver em um subdiretório específico ('base_dados' neste caso)**\n",
    "# Você pode construir o caminho completo usando os.path.join para compatibilidade entre sistemas operacionais.\n",
    "diretorio_base = os.getcwd() # Obtém o diretório de trabalho atual\n",
    "caminho_completo_arquivo = os.path.join(diretorio_base, 'base_dados', arquivo)\n",
    "dados = pd.read_json(caminho_completo_arquivo)\n",
    "\n",
    "# Normalizando os dados com os parâmetros record_path e meta\n",
    "dados = pd.json_normalize(dados['dados_vendas'])\n",
    "\n",
    "# Exibindo as primeiras linhas do DataFrame para verificar\n",
    "print(\"DataFrame criado com sucesso! Primeiras linhas:\")\n",
    "print(dados.head())\n",
    "\n",
    "# Para verificar as informações básicas do DataFrame (número de linhas, colunas, tipos de dados)\n",
    "print(\"\\nInformações do DataFrame:\")\n",
    "dados.info()"
   ]
  },
  {
   "cell_type": "code",
   "execution_count": 6,
   "id": "553e1205",
   "metadata": {},
   "outputs": [
    {
     "data": {
      "application/vnd.microsoft.datawrangler.viewer.v0+json": {
       "columns": [
        {
         "name": "index",
         "rawType": "int64",
         "type": "integer"
        },
        {
         "name": "Data de venda",
         "rawType": "object",
         "type": "string"
        },
        {
         "name": "Cliente",
         "rawType": "object",
         "type": "unknown"
        },
        {
         "name": "Valor da compra",
         "rawType": "object",
         "type": "unknown"
        }
       ],
       "conversionMethod": "pd.DataFrame",
       "ref": "da1ced67-6d48-424f-bca1-1cc25a19eebc",
       "rows": [
        [
         "0",
         "06/06/2022",
         "['@ANA _LUCIA 321', 'DieGO ARMANDIU 210', 'DieGO ARMANDIU 210', 'DieGO ARMANDIU 210']",
         "['R$ 836,5', 'R$ 573,33', 'R$ 392,8', 'R$ 512,34']"
        ],
        [
         "1",
         "07/06/2022",
         "['Isabely JOanes 738', 'Isabely JOanes 738', 'Isabely JOanes 738', 'Isabely JOanes 738']",
         "['R$ 825,31', 'R$ 168,07', 'R$ 339,18', 'R$ 314,69']"
        ],
        [
         "2",
         "08/06/2022",
         "['Isabely JOanes 738', 'JOãO Gabriel 671', 'Julya meireles 914', 'Julya meireles 914']",
         "['R$ 682,05', 'R$ 386,34', 'R$ 622,65', 'R$ 630,79']"
        ],
        [
         "3",
         "09/06/2022",
         "['Julya meireles 914', 'MaRIA Julia 444', 'MaRIA Julia 444', 'MaRIA Julia 444']",
         "['R$ 390,3', 'R$ 759,16', 'R$ 334,47', 'R$ 678,78']"
        ],
        [
         "4",
         "10/06/2022",
         "['MaRIA Julia 444', 'PEDRO PASCO 812', 'Paulo castro 481', 'Thiago fritzz 883']",
         "['R$ 314,24', 'R$ 311,15', 'R$ 899,16', 'R$ 885,24']"
        ]
       ],
       "shape": {
        "columns": 3,
        "rows": 5
       }
      },
      "text/html": [
       "<div>\n",
       "<style scoped>\n",
       "    .dataframe tbody tr th:only-of-type {\n",
       "        vertical-align: middle;\n",
       "    }\n",
       "\n",
       "    .dataframe tbody tr th {\n",
       "        vertical-align: top;\n",
       "    }\n",
       "\n",
       "    .dataframe thead th {\n",
       "        text-align: right;\n",
       "    }\n",
       "</style>\n",
       "<table border=\"1\" class=\"dataframe\">\n",
       "  <thead>\n",
       "    <tr style=\"text-align: right;\">\n",
       "      <th></th>\n",
       "      <th>Data de venda</th>\n",
       "      <th>Cliente</th>\n",
       "      <th>Valor da compra</th>\n",
       "    </tr>\n",
       "  </thead>\n",
       "  <tbody>\n",
       "    <tr>\n",
       "      <th>0</th>\n",
       "      <td>06/06/2022</td>\n",
       "      <td>[@ANA _LUCIA 321, DieGO ARMANDIU 210, DieGO AR...</td>\n",
       "      <td>[R$ 836,5, R$ 573,33, R$ 392,8, R$ 512,34]</td>\n",
       "    </tr>\n",
       "    <tr>\n",
       "      <th>1</th>\n",
       "      <td>07/06/2022</td>\n",
       "      <td>[Isabely JOanes 738, Isabely JOanes 738, Isabe...</td>\n",
       "      <td>[R$ 825,31, R$ 168,07, R$ 339,18, R$ 314,69]</td>\n",
       "    </tr>\n",
       "    <tr>\n",
       "      <th>2</th>\n",
       "      <td>08/06/2022</td>\n",
       "      <td>[Isabely JOanes 738, JOãO Gabriel 671, Julya m...</td>\n",
       "      <td>[R$ 682,05, R$ 386,34, R$ 622,65, R$ 630,79]</td>\n",
       "    </tr>\n",
       "    <tr>\n",
       "      <th>3</th>\n",
       "      <td>09/06/2022</td>\n",
       "      <td>[Julya meireles 914, MaRIA Julia 444, MaRIA Ju...</td>\n",
       "      <td>[R$ 390,3, R$ 759,16, R$ 334,47, R$ 678,78]</td>\n",
       "    </tr>\n",
       "    <tr>\n",
       "      <th>4</th>\n",
       "      <td>10/06/2022</td>\n",
       "      <td>[MaRIA Julia 444, PEDRO PASCO 812, Paulo castr...</td>\n",
       "      <td>[R$ 314,24, R$ 311,15, R$ 899,16, R$ 885,24]</td>\n",
       "    </tr>\n",
       "  </tbody>\n",
       "</table>\n",
       "</div>"
      ],
      "text/plain": [
       "  Data de venda                                            Cliente  \\\n",
       "0    06/06/2022  [@ANA _LUCIA 321, DieGO ARMANDIU 210, DieGO AR...   \n",
       "1    07/06/2022  [Isabely JOanes 738, Isabely JOanes 738, Isabe...   \n",
       "2    08/06/2022  [Isabely JOanes 738, JOãO Gabriel 671, Julya m...   \n",
       "3    09/06/2022  [Julya meireles 914, MaRIA Julia 444, MaRIA Ju...   \n",
       "4    10/06/2022  [MaRIA Julia 444, PEDRO PASCO 812, Paulo castr...   \n",
       "\n",
       "                                Valor da compra  \n",
       "0    [R$ 836,5, R$ 573,33, R$ 392,8, R$ 512,34]  \n",
       "1  [R$ 825,31, R$ 168,07, R$ 339,18, R$ 314,69]  \n",
       "2  [R$ 682,05, R$ 386,34, R$ 622,65, R$ 630,79]  \n",
       "3   [R$ 390,3, R$ 759,16, R$ 334,47, R$ 678,78]  \n",
       "4  [R$ 314,24, R$ 311,15, R$ 899,16, R$ 885,24]  "
      ]
     },
     "execution_count": 6,
     "metadata": {},
     "output_type": "execute_result"
    }
   ],
   "source": [
    "dados.head()"
   ]
  }
 ],
 "metadata": {
  "kernelspec": {
   "display_name": "Python 3",
   "language": "python",
   "name": "python3"
  },
  "language_info": {
   "codemirror_mode": {
    "name": "ipython",
    "version": 3
   },
   "file_extension": ".py",
   "mimetype": "text/x-python",
   "name": "python",
   "nbconvert_exporter": "python",
   "pygments_lexer": "ipython3",
   "version": "3.13.2"
  }
 },
 "nbformat": 4,
 "nbformat_minor": 5
}
